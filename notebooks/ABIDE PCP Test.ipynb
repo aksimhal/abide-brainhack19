{
 "cells": [
  {
   "cell_type": "code",
   "execution_count": 3,
   "metadata": {},
   "outputs": [],
   "source": [
    "%matplotlib notebook\n",
    "import matplotlib.pyplot as plt\n",
    "import numpy as np\n",
    "import pandas as pd\n",
    "import os\n",
    "import nilearn\n",
    "from nilearn.connectome import ConnectivityMeasure\n",
    "# import matplotlib as mpl\n",
    "# mpl.use('Agg')"
   ]
  },
  {
   "cell_type": "code",
   "execution_count": 4,
   "metadata": {},
   "outputs": [
    {
     "name": "stderr",
     "output_type": "stream",
     "text": [
      "/Users/anish.simhal/anaconda3/envs/neuro/lib/python3.7/site-packages/numpy/lib/npyio.py:2322: VisibleDeprecationWarning: Reading unicode strings without specifying the encoding argument is deprecated. Set the encoding, use None for the system default.\n",
      "  output = genfromtxt(fname, **kwargs)\n"
     ]
    },
    {
     "name": "stdout",
     "output_type": "stream",
     "text": [
      "Downloading data from https://s3.amazonaws.com/fcp-indi/data/Projects/ABIDE_Initiative/Outputs/cpac/nofilt_noglobal/rois_aal/NYU_0050952_rois_aal.1D ...\n"
     ]
    },
    {
     "name": "stderr",
     "output_type": "stream",
     "text": [
      "\r",
      "Downloaded 208437 of 208437 bytes (100.0%,    0.0s remaining) ...done. (0 seconds, 0 min)\n",
      "\r",
      "Downloaded 204513 of 204513 bytes (100.0%,    0.0s remaining) ...done. (0 seconds, 0 min)\n"
     ]
    },
    {
     "name": "stdout",
     "output_type": "stream",
     "text": [
      "Downloading data from https://s3.amazonaws.com/fcp-indi/data/Projects/ABIDE_Initiative/Outputs/cpac/nofilt_noglobal/rois_aal/NYU_0050954_rois_aal.1D ...\n",
      "Downloading data from https://s3.amazonaws.com/fcp-indi/data/Projects/ABIDE_Initiative/Outputs/cpac/nofilt_noglobal/rois_aal/NYU_0050955_rois_aal.1D ...\n"
     ]
    },
    {
     "name": "stderr",
     "output_type": "stream",
     "text": [
      "\r",
      "Downloaded 205370 of 205370 bytes (100.0%,    0.0s remaining) ...done. (0 seconds, 0 min)\n",
      "\r",
      "Downloaded 205297 of 205297 bytes (100.0%,    0.0s remaining) ...done. (0 seconds, 0 min)\n"
     ]
    },
    {
     "name": "stdout",
     "output_type": "stream",
     "text": [
      "Downloading data from https://s3.amazonaws.com/fcp-indi/data/Projects/ABIDE_Initiative/Outputs/cpac/nofilt_noglobal/rois_aal/NYU_0050956_rois_aal.1D ...\n",
      "Downloading data from https://s3.amazonaws.com/fcp-indi/data/Projects/ABIDE_Initiative/Outputs/cpac/nofilt_noglobal/rois_aal/NYU_0050957_rois_aal.1D ...\n"
     ]
    },
    {
     "name": "stderr",
     "output_type": "stream",
     "text": [
      "\r",
      "Downloaded 205924 of 205924 bytes (100.0%,    0.0s remaining) ...done. (0 seconds, 0 min)\n",
      "\r",
      "Downloaded 207285 of 207285 bytes (100.0%,    0.0s remaining) ...done. (0 seconds, 0 min)\n"
     ]
    },
    {
     "name": "stdout",
     "output_type": "stream",
     "text": [
      "Downloading data from https://s3.amazonaws.com/fcp-indi/data/Projects/ABIDE_Initiative/Outputs/cpac/nofilt_noglobal/rois_aal/NYU_0050958_rois_aal.1D ...\n",
      "Downloading data from https://s3.amazonaws.com/fcp-indi/data/Projects/ABIDE_Initiative/Outputs/cpac/nofilt_noglobal/rois_aal/NYU_0050959_rois_aal.1D ...\n"
     ]
    },
    {
     "name": "stderr",
     "output_type": "stream",
     "text": [
      "\r",
      "Downloaded 206632 of 206632 bytes (100.0%,    0.0s remaining) ...done. (0 seconds, 0 min)\n",
      "\r",
      "Downloaded 204451 of 204451 bytes (100.0%,    0.0s remaining) ...done. (0 seconds, 0 min)\n"
     ]
    },
    {
     "name": "stdout",
     "output_type": "stream",
     "text": [
      "Downloading data from https://s3.amazonaws.com/fcp-indi/data/Projects/ABIDE_Initiative/Outputs/cpac/nofilt_noglobal/rois_aal/NYU_0050960_rois_aal.1D ...\n",
      "Downloading data from https://s3.amazonaws.com/fcp-indi/data/Projects/ABIDE_Initiative/Outputs/cpac/nofilt_noglobal/rois_aal/NYU_0050961_rois_aal.1D ...\n"
     ]
    },
    {
     "name": "stderr",
     "output_type": "stream",
     "text": [
      "\r",
      "Downloaded 204827 of 204827 bytes (100.0%,    0.0s remaining) ...done. (0 seconds, 0 min)\n",
      "\r",
      "Downloaded 206190 of 206190 bytes (100.0%,    0.0s remaining) ...done. (0 seconds, 0 min)\n"
     ]
    },
    {
     "name": "stdout",
     "output_type": "stream",
     "text": [
      "Downloading data from https://s3.amazonaws.com/fcp-indi/data/Projects/ABIDE_Initiative/Outputs/cpac/nofilt_noglobal/rois_aal/NYU_0050962_rois_aal.1D ...\n",
      "Downloading data from https://s3.amazonaws.com/fcp-indi/data/Projects/ABIDE_Initiative/Outputs/cpac/nofilt_noglobal/rois_aal/NYU_0050964_rois_aal.1D ...\n"
     ]
    },
    {
     "name": "stderr",
     "output_type": "stream",
     "text": [
      "\r",
      "Downloaded 205932 of 205932 bytes (100.0%,    0.0s remaining) ...done. (0 seconds, 0 min)\n",
      "\r",
      "Downloaded 205578 of 205578 bytes (100.0%,    0.0s remaining) ...done. (0 seconds, 0 min)\n"
     ]
    },
    {
     "name": "stdout",
     "output_type": "stream",
     "text": [
      "Downloading data from https://s3.amazonaws.com/fcp-indi/data/Projects/ABIDE_Initiative/Outputs/cpac/nofilt_noglobal/rois_aal/NYU_0050965_rois_aal.1D ...\n",
      "Downloading data from https://s3.amazonaws.com/fcp-indi/data/Projects/ABIDE_Initiative/Outputs/cpac/nofilt_noglobal/rois_aal/NYU_0050966_rois_aal.1D ...\n"
     ]
    },
    {
     "name": "stderr",
     "output_type": "stream",
     "text": [
      "\r",
      "Downloaded 205570 of 205570 bytes (100.0%,    0.0s remaining) ...done. (0 seconds, 0 min)\n"
     ]
    },
    {
     "name": "stdout",
     "output_type": "stream",
     "text": [
      "Downloading data from https://s3.amazonaws.com/fcp-indi/data/Projects/ABIDE_Initiative/Outputs/cpac/nofilt_noglobal/rois_aal/NYU_0050967_rois_aal.1D ...\n"
     ]
    },
    {
     "name": "stderr",
     "output_type": "stream",
     "text": [
      "\r",
      "Downloaded 205759 of 205759 bytes (100.0%,    0.0s remaining) ...done. (0 seconds, 0 min)\n",
      "\r",
      "Downloaded 205914 of 205914 bytes (100.0%,    0.0s remaining) ...done. (0 seconds, 0 min)\n"
     ]
    },
    {
     "name": "stdout",
     "output_type": "stream",
     "text": [
      "Downloading data from https://s3.amazonaws.com/fcp-indi/data/Projects/ABIDE_Initiative/Outputs/cpac/nofilt_noglobal/rois_aal/NYU_0050968_rois_aal.1D ...\n",
      "Downloading data from https://s3.amazonaws.com/fcp-indi/data/Projects/ABIDE_Initiative/Outputs/cpac/nofilt_noglobal/rois_aal/NYU_0050969_rois_aal.1D ...\n"
     ]
    },
    {
     "name": "stderr",
     "output_type": "stream",
     "text": [
      "\r",
      "Downloaded 207487 of 207487 bytes (100.0%,    0.0s remaining) ...done. (0 seconds, 0 min)\n",
      "\r",
      "Downloaded 205096 of 205096 bytes (100.0%,    0.0s remaining) ...done. (0 seconds, 0 min)\n"
     ]
    },
    {
     "name": "stdout",
     "output_type": "stream",
     "text": [
      "Downloading data from https://s3.amazonaws.com/fcp-indi/data/Projects/ABIDE_Initiative/Outputs/cpac/nofilt_noglobal/rois_aal/NYU_0050970_rois_aal.1D ...\n",
      "Downloading data from https://s3.amazonaws.com/fcp-indi/data/Projects/ABIDE_Initiative/Outputs/cpac/nofilt_noglobal/rois_aal/NYU_0050972_rois_aal.1D ...\n"
     ]
    },
    {
     "name": "stderr",
     "output_type": "stream",
     "text": [
      "\r",
      "Downloaded 206024 of 206024 bytes (100.0%,    0.0s remaining) ...done. (0 seconds, 0 min)\n",
      "\r",
      "Downloaded 204683 of 204683 bytes (100.0%,    0.0s remaining) ...done. (0 seconds, 0 min)\n"
     ]
    },
    {
     "name": "stdout",
     "output_type": "stream",
     "text": [
      "Downloading data from https://s3.amazonaws.com/fcp-indi/data/Projects/ABIDE_Initiative/Outputs/cpac/nofilt_noglobal/rois_aal/NYU_0050973_rois_aal.1D ...\n",
      "Downloading data from https://s3.amazonaws.com/fcp-indi/data/Projects/ABIDE_Initiative/Outputs/cpac/nofilt_noglobal/rois_aal/NYU_0050974_rois_aal.1D ...\n"
     ]
    },
    {
     "name": "stderr",
     "output_type": "stream",
     "text": [
      "\r",
      "Downloaded 205244 of 205244 bytes (100.0%,    0.0s remaining) ...done. (0 seconds, 0 min)\n",
      "\r",
      "Downloaded 206478 of 206478 bytes (100.0%,    0.0s remaining) ...done. (0 seconds, 0 min)\n"
     ]
    },
    {
     "name": "stdout",
     "output_type": "stream",
     "text": [
      "Downloading data from https://s3.amazonaws.com/fcp-indi/data/Projects/ABIDE_Initiative/Outputs/cpac/nofilt_noglobal/rois_aal/NYU_0050976_rois_aal.1D ...\n",
      "Downloading data from https://s3.amazonaws.com/fcp-indi/data/Projects/ABIDE_Initiative/Outputs/cpac/nofilt_noglobal/rois_aal/NYU_0050977_rois_aal.1D ...\n"
     ]
    },
    {
     "name": "stderr",
     "output_type": "stream",
     "text": [
      "\r",
      "Downloaded 205852 of 205852 bytes (100.0%,    0.0s remaining) ...done. (1 seconds, 0 min)\n"
     ]
    },
    {
     "name": "stdout",
     "output_type": "stream",
     "text": [
      "Downloading data from https://s3.amazonaws.com/fcp-indi/data/Projects/ABIDE_Initiative/Outputs/cpac/nofilt_noglobal/rois_aal/NYU_0050978_rois_aal.1D ...\n"
     ]
    },
    {
     "name": "stderr",
     "output_type": "stream",
     "text": [
      "\r",
      "Downloaded 204415 of 204415 bytes (100.0%,    0.0s remaining) ...done. (0 seconds, 0 min)\n",
      "\r",
      "Downloaded 206829 of 206829 bytes (100.0%,    0.0s remaining) ...done. (0 seconds, 0 min)\n"
     ]
    },
    {
     "name": "stdout",
     "output_type": "stream",
     "text": [
      "Downloading data from https://s3.amazonaws.com/fcp-indi/data/Projects/ABIDE_Initiative/Outputs/cpac/nofilt_noglobal/rois_aal/NYU_0050979_rois_aal.1D ...\n",
      "Downloading data from https://s3.amazonaws.com/fcp-indi/data/Projects/ABIDE_Initiative/Outputs/cpac/nofilt_noglobal/rois_aal/NYU_0050981_rois_aal.1D ...\n"
     ]
    },
    {
     "name": "stderr",
     "output_type": "stream",
     "text": [
      "\r",
      "Downloaded 206981 of 206981 bytes (100.0%,    0.0s remaining) ...done. (0 seconds, 0 min)\n",
      "\r",
      "Downloaded 205423 of 205423 bytes (100.0%,    0.0s remaining) ...done. (0 seconds, 0 min)\n"
     ]
    },
    {
     "name": "stdout",
     "output_type": "stream",
     "text": [
      "Downloading data from https://s3.amazonaws.com/fcp-indi/data/Projects/ABIDE_Initiative/Outputs/cpac/nofilt_noglobal/rois_aal/NYU_0050982_rois_aal.1D ...\n",
      "Downloading data from https://s3.amazonaws.com/fcp-indi/data/Projects/ABIDE_Initiative/Outputs/cpac/nofilt_noglobal/rois_aal/NYU_0050983_rois_aal.1D ...\n"
     ]
    },
    {
     "name": "stderr",
     "output_type": "stream",
     "text": [
      "\r",
      "Downloaded 206551 of 206551 bytes (100.0%,    0.0s remaining) ...done. (0 seconds, 0 min)\n",
      "\r",
      "Downloaded 208929 of 208929 bytes (100.0%,    0.0s remaining) ...done. (0 seconds, 0 min)\n"
     ]
    },
    {
     "name": "stdout",
     "output_type": "stream",
     "text": [
      "Downloading data from https://s3.amazonaws.com/fcp-indi/data/Projects/ABIDE_Initiative/Outputs/cpac/nofilt_noglobal/rois_aal/NYU_0050984_rois_aal.1D ...\n",
      "Downloading data from https://s3.amazonaws.com/fcp-indi/data/Projects/ABIDE_Initiative/Outputs/cpac/nofilt_noglobal/rois_aal/NYU_0050985_rois_aal.1D ...\n"
     ]
    },
    {
     "name": "stderr",
     "output_type": "stream",
     "text": [
      "\r",
      "Downloaded 204966 of 204966 bytes (100.0%,    0.0s remaining) ...done. (0 seconds, 0 min)\n",
      "\r",
      "Downloaded 205160 of 205160 bytes (100.0%,    0.0s remaining) ...done. (0 seconds, 0 min)\n"
     ]
    },
    {
     "name": "stdout",
     "output_type": "stream",
     "text": [
      "Downloading data from https://s3.amazonaws.com/fcp-indi/data/Projects/ABIDE_Initiative/Outputs/cpac/nofilt_noglobal/rois_aal/NYU_0050986_rois_aal.1D ...\n",
      "Downloading data from https://s3.amazonaws.com/fcp-indi/data/Projects/ABIDE_Initiative/Outputs/cpac/nofilt_noglobal/rois_aal/NYU_0050987_rois_aal.1D ...\n"
     ]
    },
    {
     "name": "stderr",
     "output_type": "stream",
     "text": [
      "\r",
      "Downloaded 205512 of 205512 bytes (100.0%,    0.0s remaining) ...done. (0 seconds, 0 min)\n",
      "\r",
      "Downloaded 203971 of 203971 bytes (100.0%,    0.0s remaining) ...done. (0 seconds, 0 min)\n"
     ]
    },
    {
     "name": "stdout",
     "output_type": "stream",
     "text": [
      "Downloading data from https://s3.amazonaws.com/fcp-indi/data/Projects/ABIDE_Initiative/Outputs/cpac/nofilt_noglobal/rois_aal/NYU_0050988_rois_aal.1D ...\n",
      "Downloading data from https://s3.amazonaws.com/fcp-indi/data/Projects/ABIDE_Initiative/Outputs/cpac/nofilt_noglobal/rois_aal/NYU_0050989_rois_aal.1D ...\n"
     ]
    },
    {
     "name": "stderr",
     "output_type": "stream",
     "text": [
      "\r",
      "Downloaded 205443 of 205443 bytes (100.0%,    0.0s remaining) ...done. (0 seconds, 0 min)\n"
     ]
    },
    {
     "name": "stdout",
     "output_type": "stream",
     "text": [
      "Downloading data from https://s3.amazonaws.com/fcp-indi/data/Projects/ABIDE_Initiative/Outputs/cpac/nofilt_noglobal/rois_aal/NYU_0050990_rois_aal.1D ...\n"
     ]
    },
    {
     "name": "stderr",
     "output_type": "stream",
     "text": [
      "\r",
      "Downloaded 204781 of 204781 bytes (100.0%,    0.0s remaining) ...done. (0 seconds, 0 min)\n",
      "\r",
      "Downloaded 204440 of 204440 bytes (100.0%,    0.0s remaining) ...done. (0 seconds, 0 min)\n"
     ]
    },
    {
     "name": "stdout",
     "output_type": "stream",
     "text": [
      "Downloading data from https://s3.amazonaws.com/fcp-indi/data/Projects/ABIDE_Initiative/Outputs/cpac/nofilt_noglobal/rois_aal/NYU_0050991_rois_aal.1D ...\n",
      "Downloading data from https://s3.amazonaws.com/fcp-indi/data/Projects/ABIDE_Initiative/Outputs/cpac/nofilt_noglobal/rois_aal/NYU_0050992_rois_aal.1D ...\n"
     ]
    },
    {
     "name": "stderr",
     "output_type": "stream",
     "text": [
      "\r",
      "Downloaded 206701 of 206701 bytes (100.0%,    0.0s remaining) ...done. (0 seconds, 0 min)\n"
     ]
    },
    {
     "name": "stdout",
     "output_type": "stream",
     "text": [
      "Downloading data from https://s3.amazonaws.com/fcp-indi/data/Projects/ABIDE_Initiative/Outputs/cpac/nofilt_noglobal/rois_aal/NYU_0050993_rois_aal.1D ...\n"
     ]
    },
    {
     "name": "stderr",
     "output_type": "stream",
     "text": [
      "\r",
      "Downloaded 206259 of 206259 bytes (100.0%,    0.0s remaining) ...done. (0 seconds, 0 min)\n",
      "\r",
      "Downloaded 204601 of 204601 bytes (100.0%,    0.0s remaining) ...done. (0 seconds, 0 min)\n"
     ]
    },
    {
     "name": "stdout",
     "output_type": "stream",
     "text": [
      "Downloading data from https://s3.amazonaws.com/fcp-indi/data/Projects/ABIDE_Initiative/Outputs/cpac/nofilt_noglobal/rois_aal/NYU_0050994_rois_aal.1D ...\n",
      "Downloading data from https://s3.amazonaws.com/fcp-indi/data/Projects/ABIDE_Initiative/Outputs/cpac/nofilt_noglobal/rois_aal/NYU_0050995_rois_aal.1D ...\n"
     ]
    },
    {
     "name": "stderr",
     "output_type": "stream",
     "text": [
      "\r",
      "Downloaded 205819 of 205819 bytes (100.0%,    0.0s remaining) ...done. (0 seconds, 0 min)\n",
      "\r",
      "Downloaded 206455 of 206455 bytes (100.0%,    0.0s remaining) ...done. (0 seconds, 0 min)\n"
     ]
    },
    {
     "name": "stdout",
     "output_type": "stream",
     "text": [
      "Downloading data from https://s3.amazonaws.com/fcp-indi/data/Projects/ABIDE_Initiative/Outputs/cpac/nofilt_noglobal/rois_aal/NYU_0050996_rois_aal.1D ...\n",
      "Downloading data from https://s3.amazonaws.com/fcp-indi/data/Projects/ABIDE_Initiative/Outputs/cpac/nofilt_noglobal/rois_aal/NYU_0050997_rois_aal.1D ...\n"
     ]
    },
    {
     "name": "stderr",
     "output_type": "stream",
     "text": [
      "\r",
      "Downloaded 206520 of 206520 bytes (100.0%,    0.0s remaining) ...done. (0 seconds, 0 min)\n"
     ]
    },
    {
     "name": "stdout",
     "output_type": "stream",
     "text": [
      "Downloading data from https://s3.amazonaws.com/fcp-indi/data/Projects/ABIDE_Initiative/Outputs/cpac/nofilt_noglobal/rois_aal/NYU_0050999_rois_aal.1D ...\n"
     ]
    },
    {
     "name": "stderr",
     "output_type": "stream",
     "text": [
      "\r",
      "Downloaded 206177 of 206177 bytes (100.0%,    0.0s remaining) ...done. (0 seconds, 0 min)\n",
      "\r",
      "Downloaded 206104 of 206104 bytes (100.0%,    0.0s remaining) ...done. (0 seconds, 0 min)\n"
     ]
    },
    {
     "name": "stdout",
     "output_type": "stream",
     "text": [
      "Downloading data from https://s3.amazonaws.com/fcp-indi/data/Projects/ABIDE_Initiative/Outputs/cpac/nofilt_noglobal/rois_aal/NYU_0051000_rois_aal.1D ...\n",
      "Downloading data from https://s3.amazonaws.com/fcp-indi/data/Projects/ABIDE_Initiative/Outputs/cpac/nofilt_noglobal/rois_aal/NYU_0051001_rois_aal.1D ...\n"
     ]
    },
    {
     "name": "stderr",
     "output_type": "stream",
     "text": [
      "\r",
      "Downloaded 206141 of 206141 bytes (100.0%,    0.0s remaining) ...done. (0 seconds, 0 min)\n",
      "\r",
      "Downloaded 208486 of 208486 bytes (100.0%,    0.0s remaining) ...done. (0 seconds, 0 min)\n"
     ]
    },
    {
     "name": "stdout",
     "output_type": "stream",
     "text": [
      "Downloading data from https://s3.amazonaws.com/fcp-indi/data/Projects/ABIDE_Initiative/Outputs/cpac/nofilt_noglobal/rois_aal/NYU_0051002_rois_aal.1D ...\n",
      "Downloading data from https://s3.amazonaws.com/fcp-indi/data/Projects/ABIDE_Initiative/Outputs/cpac/nofilt_noglobal/rois_aal/NYU_0051003_rois_aal.1D ...\n"
     ]
    },
    {
     "name": "stderr",
     "output_type": "stream",
     "text": [
      "\r",
      "Downloaded 204670 of 204670 bytes (100.0%,    0.0s remaining) ...done. (0 seconds, 0 min)\n",
      "\r",
      "Downloaded 204971 of 204971 bytes (100.0%,    0.0s remaining) ...done. (0 seconds, 0 min)\n"
     ]
    },
    {
     "name": "stdout",
     "output_type": "stream",
     "text": [
      "Downloading data from https://s3.amazonaws.com/fcp-indi/data/Projects/ABIDE_Initiative/Outputs/cpac/nofilt_noglobal/rois_aal/NYU_0051006_rois_aal.1D ...\n",
      "Downloading data from https://s3.amazonaws.com/fcp-indi/data/Projects/ABIDE_Initiative/Outputs/cpac/nofilt_noglobal/rois_aal/NYU_0051007_rois_aal.1D ...\n"
     ]
    },
    {
     "name": "stderr",
     "output_type": "stream",
     "text": [
      "\r",
      "Downloaded 206295 of 206295 bytes (100.0%,    0.0s remaining) ...done. (0 seconds, 0 min)\n",
      "\r",
      "Downloaded 207937 of 207937 bytes (100.0%,    0.0s remaining) ...done. (0 seconds, 0 min)\n"
     ]
    },
    {
     "name": "stdout",
     "output_type": "stream",
     "text": [
      "Downloading data from https://s3.amazonaws.com/fcp-indi/data/Projects/ABIDE_Initiative/Outputs/cpac/nofilt_noglobal/rois_aal/NYU_0051008_rois_aal.1D ...\n",
      "Downloading data from https://s3.amazonaws.com/fcp-indi/data/Projects/ABIDE_Initiative/Outputs/cpac/nofilt_noglobal/rois_aal/NYU_0051009_rois_aal.1D ...\n"
     ]
    },
    {
     "name": "stderr",
     "output_type": "stream",
     "text": [
      "\r",
      "Downloaded 206295 of 206295 bytes (100.0%,    0.0s remaining) ...done. (0 seconds, 0 min)\n",
      "\r",
      "Downloaded 207339 of 207339 bytes (100.0%,    0.0s remaining) ...done. (0 seconds, 0 min)\n"
     ]
    },
    {
     "name": "stdout",
     "output_type": "stream",
     "text": [
      "Downloading data from https://s3.amazonaws.com/fcp-indi/data/Projects/ABIDE_Initiative/Outputs/cpac/nofilt_noglobal/rois_aal/NYU_0051010_rois_aal.1D ...\n",
      "Downloading data from https://s3.amazonaws.com/fcp-indi/data/Projects/ABIDE_Initiative/Outputs/cpac/nofilt_noglobal/rois_aal/NYU_0051011_rois_aal.1D ...\n"
     ]
    },
    {
     "name": "stderr",
     "output_type": "stream",
     "text": [
      "\r",
      "Downloaded 206579 of 206579 bytes (100.0%,    0.0s remaining) ...done. (0 seconds, 0 min)\n",
      "\r",
      "Downloaded 207141 of 207141 bytes (100.0%,    0.0s remaining) ...done. (0 seconds, 0 min)\n"
     ]
    },
    {
     "name": "stdout",
     "output_type": "stream",
     "text": [
      "Downloading data from https://s3.amazonaws.com/fcp-indi/data/Projects/ABIDE_Initiative/Outputs/cpac/nofilt_noglobal/rois_aal/NYU_0051012_rois_aal.1D ...\n",
      "Downloading data from https://s3.amazonaws.com/fcp-indi/data/Projects/ABIDE_Initiative/Outputs/cpac/nofilt_noglobal/rois_aal/NYU_0051013_rois_aal.1D ...\n"
     ]
    },
    {
     "name": "stderr",
     "output_type": "stream",
     "text": [
      "\r",
      "Downloaded 206371 of 206371 bytes (100.0%,    0.0s remaining) ...done. (0 seconds, 0 min)\n"
     ]
    },
    {
     "name": "stdout",
     "output_type": "stream",
     "text": [
      "Downloading data from https://s3.amazonaws.com/fcp-indi/data/Projects/ABIDE_Initiative/Outputs/cpac/nofilt_noglobal/rois_aal/NYU_0051014_rois_aal.1D ...\n"
     ]
    },
    {
     "name": "stderr",
     "output_type": "stream",
     "text": [
      "\r",
      "Downloaded 206611 of 206611 bytes (100.0%,    0.0s remaining) ...done. (0 seconds, 0 min)\n",
      "\r",
      "Downloaded 203283 of 203283 bytes (100.0%,    0.0s remaining) ...done. (0 seconds, 0 min)\n"
     ]
    },
    {
     "name": "stdout",
     "output_type": "stream",
     "text": [
      "Downloading data from https://s3.amazonaws.com/fcp-indi/data/Projects/ABIDE_Initiative/Outputs/cpac/nofilt_noglobal/rois_aal/NYU_0051015_rois_aal.1D ...\n",
      "Downloading data from https://s3.amazonaws.com/fcp-indi/data/Projects/ABIDE_Initiative/Outputs/cpac/nofilt_noglobal/rois_aal/NYU_0051016_rois_aal.1D ...\n"
     ]
    },
    {
     "name": "stderr",
     "output_type": "stream",
     "text": [
      "\r",
      "Downloaded 205404 of 205404 bytes (100.0%,    0.0s remaining) ...done. (0 seconds, 0 min)\n",
      "\r",
      "Downloaded 206094 of 206094 bytes (100.0%,    0.0s remaining) ...done. (0 seconds, 0 min)\n"
     ]
    },
    {
     "name": "stdout",
     "output_type": "stream",
     "text": [
      "Downloading data from https://s3.amazonaws.com/fcp-indi/data/Projects/ABIDE_Initiative/Outputs/cpac/nofilt_noglobal/rois_aal/NYU_0051017_rois_aal.1D ...\n",
      "Downloading data from https://s3.amazonaws.com/fcp-indi/data/Projects/ABIDE_Initiative/Outputs/cpac/nofilt_noglobal/rois_aal/NYU_0051018_rois_aal.1D ...\n"
     ]
    },
    {
     "name": "stderr",
     "output_type": "stream",
     "text": [
      "\r",
      "Downloaded 205155 of 205155 bytes (100.0%,    0.0s remaining) ...done. (0 seconds, 0 min)\n",
      "\r",
      "Downloaded 205382 of 205382 bytes (100.0%,    0.0s remaining) ...done. (0 seconds, 0 min)\n"
     ]
    },
    {
     "name": "stdout",
     "output_type": "stream",
     "text": [
      "Downloading data from https://s3.amazonaws.com/fcp-indi/data/Projects/ABIDE_Initiative/Outputs/cpac/nofilt_noglobal/rois_aal/NYU_0051019_rois_aal.1D ...\n",
      "Downloading data from https://s3.amazonaws.com/fcp-indi/data/Projects/ABIDE_Initiative/Outputs/cpac/nofilt_noglobal/rois_aal/NYU_0051020_rois_aal.1D ...\n"
     ]
    },
    {
     "name": "stderr",
     "output_type": "stream",
     "text": [
      "\r",
      "Downloaded 205694 of 205694 bytes (100.0%,    0.0s remaining) ...done. (0 seconds, 0 min)\n"
     ]
    },
    {
     "name": "stdout",
     "output_type": "stream",
     "text": [
      "Downloading data from https://s3.amazonaws.com/fcp-indi/data/Projects/ABIDE_Initiative/Outputs/cpac/nofilt_noglobal/rois_aal/NYU_0051021_rois_aal.1D ...\n"
     ]
    },
    {
     "name": "stderr",
     "output_type": "stream",
     "text": [
      "\r",
      "Downloaded 206467 of 206467 bytes (100.0%,    0.0s remaining) ...done. (0 seconds, 0 min)\n",
      "\r",
      "Downloaded 204409 of 204409 bytes (100.0%,    0.0s remaining) ...done. (0 seconds, 0 min)\n"
     ]
    },
    {
     "name": "stdout",
     "output_type": "stream",
     "text": [
      "Downloading data from https://s3.amazonaws.com/fcp-indi/data/Projects/ABIDE_Initiative/Outputs/cpac/nofilt_noglobal/rois_aal/NYU_0051023_rois_aal.1D ...\n",
      "Downloading data from https://s3.amazonaws.com/fcp-indi/data/Projects/ABIDE_Initiative/Outputs/cpac/nofilt_noglobal/rois_aal/NYU_0051024_rois_aal.1D ...\n"
     ]
    },
    {
     "name": "stderr",
     "output_type": "stream",
     "text": [
      "\r",
      "Downloaded 204205 of 204205 bytes (100.0%,    0.0s remaining) ...done. (0 seconds, 0 min)\n"
     ]
    },
    {
     "name": "stdout",
     "output_type": "stream",
     "text": [
      "Downloading data from https://s3.amazonaws.com/fcp-indi/data/Projects/ABIDE_Initiative/Outputs/cpac/nofilt_noglobal/rois_aal/NYU_0051025_rois_aal.1D ...\n"
     ]
    },
    {
     "name": "stderr",
     "output_type": "stream",
     "text": [
      "\r",
      "Downloaded 205279 of 205279 bytes (100.0%,    0.0s remaining) ...done. (0 seconds, 0 min)\n"
     ]
    },
    {
     "name": "stdout",
     "output_type": "stream",
     "text": [
      "Downloading data from https://s3.amazonaws.com/fcp-indi/data/Projects/ABIDE_Initiative/Outputs/cpac/nofilt_noglobal/rois_aal/NYU_0051026_rois_aal.1D ...\n"
     ]
    },
    {
     "name": "stderr",
     "output_type": "stream",
     "text": [
      "\r",
      "Downloaded 205006 of 205006 bytes (100.0%,    0.0s remaining) ...done. (0 seconds, 0 min)\n",
      "\r",
      "Downloaded 205179 of 205179 bytes (100.0%,    0.0s remaining) ...done. (0 seconds, 0 min)\n"
     ]
    },
    {
     "name": "stdout",
     "output_type": "stream",
     "text": [
      "Downloading data from https://s3.amazonaws.com/fcp-indi/data/Projects/ABIDE_Initiative/Outputs/cpac/nofilt_noglobal/rois_aal/NYU_0051027_rois_aal.1D ...\n",
      "Downloading data from https://s3.amazonaws.com/fcp-indi/data/Projects/ABIDE_Initiative/Outputs/cpac/nofilt_noglobal/rois_aal/NYU_0051028_rois_aal.1D ...\n"
     ]
    },
    {
     "name": "stderr",
     "output_type": "stream",
     "text": [
      "\r",
      "Downloaded 204751 of 204751 bytes (100.0%,    0.0s remaining) ...done. (0 seconds, 0 min)\n",
      "\r",
      "Downloaded 205871 of 205871 bytes (100.0%,    0.0s remaining) ...done. (0 seconds, 0 min)\n"
     ]
    },
    {
     "name": "stdout",
     "output_type": "stream",
     "text": [
      "Downloading data from https://s3.amazonaws.com/fcp-indi/data/Projects/ABIDE_Initiative/Outputs/cpac/nofilt_noglobal/rois_aal/NYU_0051029_rois_aal.1D ...\n",
      "Downloading data from https://s3.amazonaws.com/fcp-indi/data/Projects/ABIDE_Initiative/Outputs/cpac/nofilt_noglobal/rois_aal/NYU_0051030_rois_aal.1D ...\n"
     ]
    },
    {
     "name": "stderr",
     "output_type": "stream",
     "text": [
      "\r",
      "Downloaded 209033 of 209033 bytes (100.0%,    0.0s remaining) ...done. (0 seconds, 0 min)\n",
      "\r",
      "Downloaded 205639 of 205639 bytes (100.0%,    0.0s remaining) ...done. (0 seconds, 0 min)\n"
     ]
    },
    {
     "name": "stdout",
     "output_type": "stream",
     "text": [
      "Downloading data from https://s3.amazonaws.com/fcp-indi/data/Projects/ABIDE_Initiative/Outputs/cpac/nofilt_noglobal/rois_aal/NYU_0051032_rois_aal.1D ...\n",
      "Downloading data from https://s3.amazonaws.com/fcp-indi/data/Projects/ABIDE_Initiative/Outputs/cpac/nofilt_noglobal/rois_aal/NYU_0051033_rois_aal.1D ...\n"
     ]
    },
    {
     "name": "stderr",
     "output_type": "stream",
     "text": [
      "\r",
      "Downloaded 205599 of 205599 bytes (100.0%,    0.0s remaining) ...done. (0 seconds, 0 min)\n",
      "\r",
      "Downloaded 207052 of 207052 bytes (100.0%,    0.0s remaining) ...done. (0 seconds, 0 min)\n"
     ]
    },
    {
     "name": "stdout",
     "output_type": "stream",
     "text": [
      "Downloading data from https://s3.amazonaws.com/fcp-indi/data/Projects/ABIDE_Initiative/Outputs/cpac/nofilt_noglobal/rois_aal/NYU_0051034_rois_aal.1D ...\n",
      "Downloading data from https://s3.amazonaws.com/fcp-indi/data/Projects/ABIDE_Initiative/Outputs/cpac/nofilt_noglobal/rois_aal/NYU_0051035_rois_aal.1D ...\n"
     ]
    },
    {
     "name": "stderr",
     "output_type": "stream",
     "text": [
      "\r",
      "Downloaded 208255 of 208255 bytes (100.0%,    0.0s remaining) ...done. (0 seconds, 0 min)\n",
      "\r",
      "Downloaded 203561 of 203561 bytes (100.0%,    0.0s remaining) ...done. (0 seconds, 0 min)\n"
     ]
    },
    {
     "name": "stdout",
     "output_type": "stream",
     "text": [
      "Downloading data from https://s3.amazonaws.com/fcp-indi/data/Projects/ABIDE_Initiative/Outputs/cpac/nofilt_noglobal/rois_aal/NYU_0051036_rois_aal.1D ...\n",
      "Downloading data from https://s3.amazonaws.com/fcp-indi/data/Projects/ABIDE_Initiative/Outputs/cpac/nofilt_noglobal/rois_aal/NYU_0051038_rois_aal.1D ...\n"
     ]
    },
    {
     "name": "stderr",
     "output_type": "stream",
     "text": [
      "\r",
      "Downloaded 204642 of 204642 bytes (100.0%,    0.0s remaining) ...done. (0 seconds, 0 min)\n",
      "\r",
      "Downloaded 207790 of 207790 bytes (100.0%,    0.0s remaining) ...done. (0 seconds, 0 min)\n"
     ]
    },
    {
     "name": "stdout",
     "output_type": "stream",
     "text": [
      "Downloading data from https://s3.amazonaws.com/fcp-indi/data/Projects/ABIDE_Initiative/Outputs/cpac/nofilt_noglobal/rois_aal/NYU_0051039_rois_aal.1D ...\n",
      "Downloading data from https://s3.amazonaws.com/fcp-indi/data/Projects/ABIDE_Initiative/Outputs/cpac/nofilt_noglobal/rois_aal/NYU_0051040_rois_aal.1D ...\n"
     ]
    },
    {
     "name": "stderr",
     "output_type": "stream",
     "text": [
      "\r",
      "Downloaded 205242 of 205242 bytes (100.0%,    0.0s remaining) ...done. (0 seconds, 0 min)\n",
      "\r",
      "Downloaded 204936 of 204936 bytes (100.0%,    0.0s remaining) ...done. (0 seconds, 0 min)\n"
     ]
    },
    {
     "name": "stdout",
     "output_type": "stream",
     "text": [
      "Downloading data from https://s3.amazonaws.com/fcp-indi/data/Projects/ABIDE_Initiative/Outputs/cpac/nofilt_noglobal/rois_aal/NYU_0051041_rois_aal.1D ...\n",
      "Downloading data from https://s3.amazonaws.com/fcp-indi/data/Projects/ABIDE_Initiative/Outputs/cpac/nofilt_noglobal/rois_aal/NYU_0051042_rois_aal.1D ...\n"
     ]
    },
    {
     "name": "stderr",
     "output_type": "stream",
     "text": [
      "\r",
      "Downloaded 205434 of 205434 bytes (100.0%,    0.0s remaining) ...done. (0 seconds, 0 min)\n",
      "\r",
      "Downloaded 204447 of 204447 bytes (100.0%,    0.0s remaining) ...done. (0 seconds, 0 min)\n"
     ]
    },
    {
     "name": "stdout",
     "output_type": "stream",
     "text": [
      "Downloading data from https://s3.amazonaws.com/fcp-indi/data/Projects/ABIDE_Initiative/Outputs/cpac/nofilt_noglobal/rois_aal/NYU_0051044_rois_aal.1D ...\n",
      "Downloading data from https://s3.amazonaws.com/fcp-indi/data/Projects/ABIDE_Initiative/Outputs/cpac/nofilt_noglobal/rois_aal/NYU_0051045_rois_aal.1D ...\n"
     ]
    },
    {
     "name": "stderr",
     "output_type": "stream",
     "text": [
      "\r",
      "Downloaded 206700 of 206700 bytes (100.0%,    0.0s remaining) ...done. (0 seconds, 0 min)\n",
      "\r",
      "Downloaded 204106 of 204106 bytes (100.0%,    0.0s remaining) ...done. (0 seconds, 0 min)\n"
     ]
    },
    {
     "name": "stdout",
     "output_type": "stream",
     "text": [
      "Downloading data from https://s3.amazonaws.com/fcp-indi/data/Projects/ABIDE_Initiative/Outputs/cpac/nofilt_noglobal/rois_aal/NYU_0051046_rois_aal.1D ...\n",
      "Downloading data from https://s3.amazonaws.com/fcp-indi/data/Projects/ABIDE_Initiative/Outputs/cpac/nofilt_noglobal/rois_aal/NYU_0051047_rois_aal.1D ...\n"
     ]
    },
    {
     "name": "stderr",
     "output_type": "stream",
     "text": [
      "\r",
      "Downloaded 204488 of 204488 bytes (100.0%,    0.0s remaining) ...done. (0 seconds, 0 min)\n",
      "\r",
      "Downloaded 204960 of 204960 bytes (100.0%,    0.0s remaining) ...done. (0 seconds, 0 min)\n"
     ]
    },
    {
     "name": "stdout",
     "output_type": "stream",
     "text": [
      "Downloading data from https://s3.amazonaws.com/fcp-indi/data/Projects/ABIDE_Initiative/Outputs/cpac/nofilt_noglobal/rois_aal/NYU_0051048_rois_aal.1D ...\n",
      "Downloading data from https://s3.amazonaws.com/fcp-indi/data/Projects/ABIDE_Initiative/Outputs/cpac/nofilt_noglobal/rois_aal/NYU_0051049_rois_aal.1D ...\n"
     ]
    },
    {
     "name": "stderr",
     "output_type": "stream",
     "text": [
      "\r",
      "Downloaded 204534 of 204534 bytes (100.0%,    0.0s remaining) ...done. (0 seconds, 0 min)\n",
      "\r",
      "Downloaded 203800 of 203800 bytes (100.0%,    0.0s remaining) ...done. (0 seconds, 0 min)\n"
     ]
    },
    {
     "name": "stdout",
     "output_type": "stream",
     "text": [
      "Downloading data from https://s3.amazonaws.com/fcp-indi/data/Projects/ABIDE_Initiative/Outputs/cpac/nofilt_noglobal/rois_aal/NYU_0051050_rois_aal.1D ...\n",
      "Downloading data from https://s3.amazonaws.com/fcp-indi/data/Projects/ABIDE_Initiative/Outputs/cpac/nofilt_noglobal/rois_aal/NYU_0051051_rois_aal.1D ...\n"
     ]
    },
    {
     "name": "stderr",
     "output_type": "stream",
     "text": [
      "\r",
      "Downloaded 204197 of 204197 bytes (100.0%,    0.0s remaining) ...done. (0 seconds, 0 min)\n"
     ]
    },
    {
     "name": "stdout",
     "output_type": "stream",
     "text": [
      "Downloading data from https://s3.amazonaws.com/fcp-indi/data/Projects/ABIDE_Initiative/Outputs/cpac/nofilt_noglobal/rois_aal/NYU_0051052_rois_aal.1D ...\n"
     ]
    },
    {
     "name": "stderr",
     "output_type": "stream",
     "text": [
      "\r",
      "Downloaded 205257 of 205257 bytes (100.0%,    0.0s remaining) ...done. (0 seconds, 0 min)\n",
      "\r",
      "Downloaded 205219 of 205219 bytes (100.0%,    0.0s remaining) ...done. (0 seconds, 0 min)\n"
     ]
    },
    {
     "name": "stdout",
     "output_type": "stream",
     "text": [
      "Downloading data from https://s3.amazonaws.com/fcp-indi/data/Projects/ABIDE_Initiative/Outputs/cpac/nofilt_noglobal/rois_aal/NYU_0051053_rois_aal.1D ...\n",
      "Downloading data from https://s3.amazonaws.com/fcp-indi/data/Projects/ABIDE_Initiative/Outputs/cpac/nofilt_noglobal/rois_aal/NYU_0051054_rois_aal.1D ...\n"
     ]
    },
    {
     "name": "stderr",
     "output_type": "stream",
     "text": [
      "\r",
      "Downloaded 206549 of 206549 bytes (100.0%,    0.0s remaining) ...done. (0 seconds, 0 min)\n",
      "\r",
      "Downloaded 205150 of 205150 bytes (100.0%,    0.0s remaining) ...done. (0 seconds, 0 min)\n"
     ]
    },
    {
     "name": "stdout",
     "output_type": "stream",
     "text": [
      "Downloading data from https://s3.amazonaws.com/fcp-indi/data/Projects/ABIDE_Initiative/Outputs/cpac/nofilt_noglobal/rois_aal/NYU_0051055_rois_aal.1D ...\n",
      "Downloading data from https://s3.amazonaws.com/fcp-indi/data/Projects/ABIDE_Initiative/Outputs/cpac/nofilt_noglobal/rois_aal/NYU_0051056_rois_aal.1D ...\n"
     ]
    },
    {
     "name": "stderr",
     "output_type": "stream",
     "text": [
      "\r",
      "Downloaded 205530 of 205530 bytes (100.0%,    0.0s remaining) ...done. (0 seconds, 0 min)\n",
      "\r",
      "Downloaded 204337 of 204337 bytes (100.0%,    0.0s remaining) ...done. (0 seconds, 0 min)\n"
     ]
    },
    {
     "name": "stdout",
     "output_type": "stream",
     "text": [
      "Downloading data from https://s3.amazonaws.com/fcp-indi/data/Projects/ABIDE_Initiative/Outputs/cpac/nofilt_noglobal/rois_aal/NYU_0051057_rois_aal.1D ...\n",
      "Downloading data from https://s3.amazonaws.com/fcp-indi/data/Projects/ABIDE_Initiative/Outputs/cpac/nofilt_noglobal/rois_aal/NYU_0051058_rois_aal.1D ...\n"
     ]
    },
    {
     "name": "stderr",
     "output_type": "stream",
     "text": [
      "\r",
      "Downloaded 203445 of 203445 bytes (100.0%,    0.0s remaining) ...done. (0 seconds, 0 min)\n",
      "\r",
      "Downloaded 204190 of 204190 bytes (100.0%,    0.0s remaining)"
     ]
    },
    {
     "name": "stdout",
     "output_type": "stream",
     "text": [
      "Downloading data from https://s3.amazonaws.com/fcp-indi/data/Projects/ABIDE_Initiative/Outputs/cpac/nofilt_noglobal/rois_aal/NYU_0051059_rois_aal.1D ...\n"
     ]
    },
    {
     "name": "stderr",
     "output_type": "stream",
     "text": [
      " ...done. (0 seconds, 0 min)\n"
     ]
    },
    {
     "name": "stdout",
     "output_type": "stream",
     "text": [
      "Downloading data from https://s3.amazonaws.com/fcp-indi/data/Projects/ABIDE_Initiative/Outputs/cpac/nofilt_noglobal/rois_aal/NYU_0051060_rois_aal.1D ...\n"
     ]
    },
    {
     "name": "stderr",
     "output_type": "stream",
     "text": [
      "\r",
      "Downloaded 206068 of 206068 bytes (100.0%,    0.0s remaining) ...done. (0 seconds, 0 min)\n",
      "\r",
      "Downloaded 204459 of 204459 bytes (100.0%,    0.0s remaining) ...done. (0 seconds, 0 min)\n"
     ]
    },
    {
     "name": "stdout",
     "output_type": "stream",
     "text": [
      "Downloading data from https://s3.amazonaws.com/fcp-indi/data/Projects/ABIDE_Initiative/Outputs/cpac/nofilt_noglobal/rois_aal/NYU_0051061_rois_aal.1D ...\n",
      "Downloading data from https://s3.amazonaws.com/fcp-indi/data/Projects/ABIDE_Initiative/Outputs/cpac/nofilt_noglobal/rois_aal/NYU_0051062_rois_aal.1D ...\n"
     ]
    },
    {
     "name": "stderr",
     "output_type": "stream",
     "text": [
      "\r",
      "Downloaded 204248 of 204248 bytes (100.0%,    0.0s remaining) ...done. (0 seconds, 0 min)\n",
      "\r",
      "Downloaded 205154 of 205154 bytes (100.0%,    0.0s remaining) ...done. (0 seconds, 0 min)\n"
     ]
    },
    {
     "name": "stdout",
     "output_type": "stream",
     "text": [
      "Downloading data from https://s3.amazonaws.com/fcp-indi/data/Projects/ABIDE_Initiative/Outputs/cpac/nofilt_noglobal/rois_aal/NYU_0051063_rois_aal.1D ...\n",
      "Downloading data from https://s3.amazonaws.com/fcp-indi/data/Projects/ABIDE_Initiative/Outputs/cpac/nofilt_noglobal/rois_aal/NYU_0051064_rois_aal.1D ...\n"
     ]
    },
    {
     "name": "stderr",
     "output_type": "stream",
     "text": [
      "\r",
      "Downloaded 207898 of 207898 bytes (100.0%,    0.0s remaining) ...done. (0 seconds, 0 min)\n",
      "\r",
      "Downloaded 204901 of 204901 bytes (100.0%,    0.0s remaining) ...done. (0 seconds, 0 min)\n"
     ]
    },
    {
     "name": "stdout",
     "output_type": "stream",
     "text": [
      "Downloading data from https://s3.amazonaws.com/fcp-indi/data/Projects/ABIDE_Initiative/Outputs/cpac/nofilt_noglobal/rois_aal/NYU_0051065_rois_aal.1D ...\n",
      "Downloading data from https://s3.amazonaws.com/fcp-indi/data/Projects/ABIDE_Initiative/Outputs/cpac/nofilt_noglobal/rois_aal/NYU_0051066_rois_aal.1D ...\n"
     ]
    },
    {
     "name": "stderr",
     "output_type": "stream",
     "text": [
      "\r",
      "Downloaded 205844 of 205844 bytes (100.0%,    0.0s remaining) ...done. (0 seconds, 0 min)\n",
      "\r",
      "Downloaded 205261 of 205261 bytes (100.0%,    0.0s remaining) ...done. (0 seconds, 0 min)\n"
     ]
    },
    {
     "name": "stdout",
     "output_type": "stream",
     "text": [
      "Downloading data from https://s3.amazonaws.com/fcp-indi/data/Projects/ABIDE_Initiative/Outputs/cpac/nofilt_noglobal/rois_aal/NYU_0051067_rois_aal.1D ...\n",
      "Downloading data from https://s3.amazonaws.com/fcp-indi/data/Projects/ABIDE_Initiative/Outputs/cpac/nofilt_noglobal/rois_aal/NYU_0051068_rois_aal.1D ...\n"
     ]
    },
    {
     "name": "stderr",
     "output_type": "stream",
     "text": [
      "\r",
      "Downloaded 204783 of 204783 bytes (100.0%,    0.0s remaining) ...done. (0 seconds, 0 min)\n",
      "\r",
      "Downloaded 204633 of 204633 bytes (100.0%,    0.0s remaining) ...done. (0 seconds, 0 min)\n"
     ]
    },
    {
     "name": "stdout",
     "output_type": "stream",
     "text": [
      "Downloading data from https://s3.amazonaws.com/fcp-indi/data/Projects/ABIDE_Initiative/Outputs/cpac/nofilt_noglobal/rois_aal/NYU_0051069_rois_aal.1D ...\n",
      "Downloading data from https://s3.amazonaws.com/fcp-indi/data/Projects/ABIDE_Initiative/Outputs/cpac/nofilt_noglobal/rois_aal/NYU_0051070_rois_aal.1D ...\n"
     ]
    },
    {
     "name": "stderr",
     "output_type": "stream",
     "text": [
      "\r",
      "Downloaded 206782 of 206782 bytes (100.0%,    0.0s remaining) ...done. (0 seconds, 0 min)\n",
      "\r",
      "Downloaded 204570 of 204570 bytes (100.0%,    0.0s remaining) ...done. (0 seconds, 0 min)\n"
     ]
    },
    {
     "name": "stdout",
     "output_type": "stream",
     "text": [
      "Downloading data from https://s3.amazonaws.com/fcp-indi/data/Projects/ABIDE_Initiative/Outputs/cpac/nofilt_noglobal/rois_aal/NYU_0051072_rois_aal.1D ...\n",
      "Downloading data from https://s3.amazonaws.com/fcp-indi/data/Projects/ABIDE_Initiative/Outputs/cpac/nofilt_noglobal/rois_aal/NYU_0051073_rois_aal.1D ...\n"
     ]
    },
    {
     "name": "stderr",
     "output_type": "stream",
     "text": [
      "\r",
      "Downloaded 205357 of 205357 bytes (100.0%,    0.0s remaining) ...done. (0 seconds, 0 min)\n",
      "\r",
      "Downloaded 204095 of 204095 bytes (100.0%,    0.0s remaining) ...done. (0 seconds, 0 min)\n"
     ]
    },
    {
     "name": "stdout",
     "output_type": "stream",
     "text": [
      "Downloading data from https://s3.amazonaws.com/fcp-indi/data/Projects/ABIDE_Initiative/Outputs/cpac/nofilt_noglobal/rois_aal/NYU_0051074_rois_aal.1D ...\n",
      "Downloading data from https://s3.amazonaws.com/fcp-indi/data/Projects/ABIDE_Initiative/Outputs/cpac/nofilt_noglobal/rois_aal/NYU_0051075_rois_aal.1D ...\n"
     ]
    },
    {
     "name": "stderr",
     "output_type": "stream",
     "text": [
      "\r",
      "Downloaded 206978 of 206978 bytes (100.0%,    0.0s remaining) ...done. (0 seconds, 0 min)\n",
      "\r",
      "Downloaded 205669 of 205669 bytes (100.0%,    0.0s remaining) ...done. (0 seconds, 0 min)\n"
     ]
    },
    {
     "name": "stdout",
     "output_type": "stream",
     "text": [
      "Downloading data from https://s3.amazonaws.com/fcp-indi/data/Projects/ABIDE_Initiative/Outputs/cpac/nofilt_noglobal/rois_aal/NYU_0051076_rois_aal.1D ...\n",
      "Downloading data from https://s3.amazonaws.com/fcp-indi/data/Projects/ABIDE_Initiative/Outputs/cpac/nofilt_noglobal/rois_aal/NYU_0051077_rois_aal.1D ...\n"
     ]
    },
    {
     "name": "stderr",
     "output_type": "stream",
     "text": [
      "\r",
      "Downloaded 207175 of 207175 bytes (100.0%,    0.0s remaining) ...done. (0 seconds, 0 min)\n",
      "\r",
      "Downloaded 205872 of 205872 bytes (100.0%,    0.0s remaining) ...done. (0 seconds, 0 min)\n"
     ]
    },
    {
     "name": "stdout",
     "output_type": "stream",
     "text": [
      "Downloading data from https://s3.amazonaws.com/fcp-indi/data/Projects/ABIDE_Initiative/Outputs/cpac/nofilt_noglobal/rois_aal/NYU_0051078_rois_aal.1D ...\n",
      "Downloading data from https://s3.amazonaws.com/fcp-indi/data/Projects/ABIDE_Initiative/Outputs/cpac/nofilt_noglobal/rois_aal/NYU_0051079_rois_aal.1D ...\n"
     ]
    },
    {
     "name": "stderr",
     "output_type": "stream",
     "text": [
      "\r",
      "Downloaded 206110 of 206110 bytes (100.0%,    0.0s remaining) ...done. (0 seconds, 0 min)\n",
      "\r",
      "Downloaded 206297 of 206297 bytes (100.0%,    0.0s remaining) ...done. (0 seconds, 0 min)\n"
     ]
    },
    {
     "name": "stdout",
     "output_type": "stream",
     "text": [
      "Downloading data from https://s3.amazonaws.com/fcp-indi/data/Projects/ABIDE_Initiative/Outputs/cpac/nofilt_noglobal/rois_aal/NYU_0051080_rois_aal.1D ...\n",
      "Downloading data from https://s3.amazonaws.com/fcp-indi/data/Projects/ABIDE_Initiative/Outputs/cpac/nofilt_noglobal/rois_aal/NYU_0051081_rois_aal.1D ...\n"
     ]
    },
    {
     "name": "stderr",
     "output_type": "stream",
     "text": [
      "\r",
      "Downloaded 205330 of 205330 bytes (100.0%,    0.0s remaining) ...done. (0 seconds, 0 min)\n",
      "\r",
      "Downloaded 207614 of 207614 bytes (100.0%,    0.0s remaining) ...done. (0 seconds, 0 min)\n"
     ]
    },
    {
     "name": "stdout",
     "output_type": "stream",
     "text": [
      "Downloading data from https://s3.amazonaws.com/fcp-indi/data/Projects/ABIDE_Initiative/Outputs/cpac/nofilt_noglobal/rois_aal/NYU_0051082_rois_aal.1D ...\n",
      "Downloading data from https://s3.amazonaws.com/fcp-indi/data/Projects/ABIDE_Initiative/Outputs/cpac/nofilt_noglobal/rois_aal/NYU_0051083_rois_aal.1D ...\n"
     ]
    },
    {
     "name": "stderr",
     "output_type": "stream",
     "text": [
      "\r",
      "Downloaded 206680 of 206680 bytes (100.0%,    0.0s remaining) ...done. (0 seconds, 0 min)\n",
      "\r",
      "Downloaded 207307 of 207307 bytes (100.0%,    0.0s remaining) ...done. (0 seconds, 0 min)\n"
     ]
    },
    {
     "name": "stdout",
     "output_type": "stream",
     "text": [
      "Downloading data from https://s3.amazonaws.com/fcp-indi/data/Projects/ABIDE_Initiative/Outputs/cpac/nofilt_noglobal/rois_aal/NYU_0051084_rois_aal.1D ...\n",
      "Downloading data from https://s3.amazonaws.com/fcp-indi/data/Projects/ABIDE_Initiative/Outputs/cpac/nofilt_noglobal/rois_aal/NYU_0051085_rois_aal.1D ...\n"
     ]
    },
    {
     "name": "stderr",
     "output_type": "stream",
     "text": [
      "\r",
      "Downloaded 206838 of 206838 bytes (100.0%,    0.0s remaining) ...done. (0 seconds, 0 min)\n",
      "\r",
      "Downloaded 207098 of 207098 bytes (100.0%,    0.0s remaining) ...done. (0 seconds, 0 min)\n"
     ]
    },
    {
     "name": "stdout",
     "output_type": "stream",
     "text": [
      "Downloading data from https://s3.amazonaws.com/fcp-indi/data/Projects/ABIDE_Initiative/Outputs/cpac/nofilt_noglobal/rois_aal/NYU_0051086_rois_aal.1D ...\n",
      "Downloading data from https://s3.amazonaws.com/fcp-indi/data/Projects/ABIDE_Initiative/Outputs/cpac/nofilt_noglobal/rois_aal/NYU_0051087_rois_aal.1D ...\n"
     ]
    },
    {
     "name": "stderr",
     "output_type": "stream",
     "text": [
      "\r",
      "Downloaded 205929 of 205929 bytes (100.0%,    0.0s remaining) ...done. (0 seconds, 0 min)\n"
     ]
    },
    {
     "name": "stdout",
     "output_type": "stream",
     "text": [
      "Downloading data from https://s3.amazonaws.com/fcp-indi/data/Projects/ABIDE_Initiative/Outputs/cpac/nofilt_noglobal/rois_aal/NYU_0051088_rois_aal.1D ...\n"
     ]
    },
    {
     "name": "stderr",
     "output_type": "stream",
     "text": [
      "\r",
      "Downloaded 205672 of 205672 bytes (100.0%,    0.0s remaining) ...done. (1 seconds, 0 min)\n",
      "\r",
      "Downloaded 206146 of 206146 bytes (100.0%,    0.0s remaining) ...done. (0 seconds, 0 min)\n"
     ]
    },
    {
     "name": "stdout",
     "output_type": "stream",
     "text": [
      "Downloading data from https://s3.amazonaws.com/fcp-indi/data/Projects/ABIDE_Initiative/Outputs/cpac/nofilt_noglobal/rois_aal/NYU_0051089_rois_aal.1D ...\n",
      "Downloading data from https://s3.amazonaws.com/fcp-indi/data/Projects/ABIDE_Initiative/Outputs/cpac/nofilt_noglobal/rois_aal/NYU_0051090_rois_aal.1D ...\n"
     ]
    },
    {
     "name": "stderr",
     "output_type": "stream",
     "text": [
      "\r",
      "Downloaded 205996 of 205996 bytes (100.0%,    0.0s remaining) ...done. (0 seconds, 0 min)\n",
      "\r",
      "Downloaded 206331 of 206331 bytes (100.0%,    0.0s remaining) ...done. (0 seconds, 0 min)\n"
     ]
    },
    {
     "name": "stdout",
     "output_type": "stream",
     "text": [
      "Downloading data from https://s3.amazonaws.com/fcp-indi/data/Projects/ABIDE_Initiative/Outputs/cpac/nofilt_noglobal/rois_aal/NYU_0051091_rois_aal.1D ...\n",
      "Downloading data from https://s3.amazonaws.com/fcp-indi/data/Projects/ABIDE_Initiative/Outputs/cpac/nofilt_noglobal/rois_aal/NYU_0051093_rois_aal.1D ...\n"
     ]
    },
    {
     "name": "stderr",
     "output_type": "stream",
     "text": [
      "\r",
      "Downloaded 206525 of 206525 bytes (100.0%,    0.0s remaining) ...done. (0 seconds, 0 min)\n",
      "\r",
      "Downloaded 206412 of 206412 bytes (100.0%,    0.0s remaining) ...done. (0 seconds, 0 min)\n"
     ]
    },
    {
     "name": "stdout",
     "output_type": "stream",
     "text": [
      "Downloading data from https://s3.amazonaws.com/fcp-indi/data/Projects/ABIDE_Initiative/Outputs/cpac/nofilt_noglobal/rois_aal/NYU_0051094_rois_aal.1D ...\n",
      "Downloading data from https://s3.amazonaws.com/fcp-indi/data/Projects/ABIDE_Initiative/Outputs/cpac/nofilt_noglobal/rois_aal/NYU_0051095_rois_aal.1D ...\n"
     ]
    },
    {
     "name": "stderr",
     "output_type": "stream",
     "text": [
      "\r",
      "Downloaded 206071 of 206071 bytes (100.0%,    0.0s remaining) ...done. (0 seconds, 0 min)\n",
      "\r",
      "Downloaded 204415 of 204415 bytes (100.0%,    0.0s remaining) ...done. (0 seconds, 0 min)\n"
     ]
    },
    {
     "name": "stdout",
     "output_type": "stream",
     "text": [
      "Downloading data from https://s3.amazonaws.com/fcp-indi/data/Projects/ABIDE_Initiative/Outputs/cpac/nofilt_noglobal/rois_aal/NYU_0051096_rois_aal.1D ...\n",
      "Downloading data from https://s3.amazonaws.com/fcp-indi/data/Projects/ABIDE_Initiative/Outputs/cpac/nofilt_noglobal/rois_aal/NYU_0051097_rois_aal.1D ...\n"
     ]
    },
    {
     "name": "stderr",
     "output_type": "stream",
     "text": [
      "\r",
      "Downloaded 206908 of 206908 bytes (100.0%,    0.0s remaining) ...done. (0 seconds, 0 min)\n",
      "\r",
      "Downloaded 206049 of 206049 bytes (100.0%,    0.0s remaining) ...done. (0 seconds, 0 min)\n"
     ]
    },
    {
     "name": "stdout",
     "output_type": "stream",
     "text": [
      "Downloading data from https://s3.amazonaws.com/fcp-indi/data/Projects/ABIDE_Initiative/Outputs/cpac/nofilt_noglobal/rois_aal/NYU_0051098_rois_aal.1D ...\n",
      "Downloading data from https://s3.amazonaws.com/fcp-indi/data/Projects/ABIDE_Initiative/Outputs/cpac/nofilt_noglobal/rois_aal/NYU_0051099_rois_aal.1D ...\n"
     ]
    },
    {
     "name": "stderr",
     "output_type": "stream",
     "text": [
      "\r",
      "Downloaded 205434 of 205434 bytes (100.0%,    0.0s remaining) ...done. (0 seconds, 0 min)\n",
      "\r",
      "Downloaded 205625 of 205625 bytes (100.0%,    0.0s remaining) ...done. (0 seconds, 0 min)\n"
     ]
    },
    {
     "name": "stdout",
     "output_type": "stream",
     "text": [
      "Downloading data from https://s3.amazonaws.com/fcp-indi/data/Projects/ABIDE_Initiative/Outputs/cpac/nofilt_noglobal/rois_aal/NYU_0051100_rois_aal.1D ...\n",
      "Downloading data from https://s3.amazonaws.com/fcp-indi/data/Projects/ABIDE_Initiative/Outputs/cpac/nofilt_noglobal/rois_aal/NYU_0051101_rois_aal.1D ...\n"
     ]
    },
    {
     "name": "stderr",
     "output_type": "stream",
     "text": [
      "\r",
      "Downloaded 204944 of 204944 bytes (100.0%,    0.0s remaining) ...done. (0 seconds, 0 min)\n",
      "\r",
      "Downloaded 206597 of 206597 bytes (100.0%,    0.0s remaining) ...done. (0 seconds, 0 min)\n"
     ]
    },
    {
     "name": "stdout",
     "output_type": "stream",
     "text": [
      "Downloading data from https://s3.amazonaws.com/fcp-indi/data/Projects/ABIDE_Initiative/Outputs/cpac/nofilt_noglobal/rois_aal/NYU_0051102_rois_aal.1D ...\n",
      "Downloading data from https://s3.amazonaws.com/fcp-indi/data/Projects/ABIDE_Initiative/Outputs/cpac/nofilt_noglobal/rois_aal/NYU_0051103_rois_aal.1D ...\n"
     ]
    },
    {
     "name": "stderr",
     "output_type": "stream",
     "text": [
      "\r",
      "Downloaded 205303 of 205303 bytes (100.0%,    0.0s remaining) ...done. (0 seconds, 0 min)\n",
      "\r",
      "Downloaded 204879 of 204879 bytes (100.0%,    0.0s remaining) ...done. (0 seconds, 0 min)\n"
     ]
    },
    {
     "name": "stdout",
     "output_type": "stream",
     "text": [
      "Downloading data from https://s3.amazonaws.com/fcp-indi/data/Projects/ABIDE_Initiative/Outputs/cpac/nofilt_noglobal/rois_aal/NYU_0051104_rois_aal.1D ...\n",
      "Downloading data from https://s3.amazonaws.com/fcp-indi/data/Projects/ABIDE_Initiative/Outputs/cpac/nofilt_noglobal/rois_aal/NYU_0051105_rois_aal.1D ...\n"
     ]
    },
    {
     "name": "stderr",
     "output_type": "stream",
     "text": [
      "\r",
      "Downloaded 204736 of 204736 bytes (100.0%,    0.0s remaining) ...done. (0 seconds, 0 min)\n",
      "\r",
      "Downloaded 204407 of 204407 bytes (100.0%,    0.0s remaining) ...done. (0 seconds, 0 min)\n"
     ]
    },
    {
     "name": "stdout",
     "output_type": "stream",
     "text": [
      "Downloading data from https://s3.amazonaws.com/fcp-indi/data/Projects/ABIDE_Initiative/Outputs/cpac/nofilt_noglobal/rois_aal/NYU_0051106_rois_aal.1D ...\n",
      "Downloading data from https://s3.amazonaws.com/fcp-indi/data/Projects/ABIDE_Initiative/Outputs/cpac/nofilt_noglobal/rois_aal/NYU_0051107_rois_aal.1D ...\n"
     ]
    },
    {
     "name": "stderr",
     "output_type": "stream",
     "text": [
      "\r",
      "Downloaded 205390 of 205390 bytes (100.0%,    0.0s remaining) ...done. (0 seconds, 0 min)\n",
      "\r",
      "Downloaded 206028 of 206028 bytes (100.0%,    0.0s remaining) ...done. (0 seconds, 0 min)\n"
     ]
    },
    {
     "name": "stdout",
     "output_type": "stream",
     "text": [
      "Downloading data from https://s3.amazonaws.com/fcp-indi/data/Projects/ABIDE_Initiative/Outputs/cpac/nofilt_noglobal/rois_aal/NYU_0051109_rois_aal.1D ...\n",
      "Downloading data from https://s3.amazonaws.com/fcp-indi/data/Projects/ABIDE_Initiative/Outputs/cpac/nofilt_noglobal/rois_aal/NYU_0051110_rois_aal.1D ...\n"
     ]
    },
    {
     "name": "stderr",
     "output_type": "stream",
     "text": [
      "\r",
      "Downloaded 204642 of 204642 bytes (100.0%,    0.0s remaining) ...done. (0 seconds, 0 min)\n",
      "\r",
      "Downloaded 206234 of 206234 bytes (100.0%,    0.0s remaining) ...done. (0 seconds, 0 min)\n"
     ]
    },
    {
     "name": "stdout",
     "output_type": "stream",
     "text": [
      "Downloading data from https://s3.amazonaws.com/fcp-indi/data/Projects/ABIDE_Initiative/Outputs/cpac/nofilt_noglobal/rois_aal/NYU_0051111_rois_aal.1D ...\n",
      "Downloading data from https://s3.amazonaws.com/fcp-indi/data/Projects/ABIDE_Initiative/Outputs/cpac/nofilt_noglobal/rois_aal/NYU_0051112_rois_aal.1D ...\n"
     ]
    },
    {
     "name": "stderr",
     "output_type": "stream",
     "text": [
      "\r",
      "Downloaded 205573 of 205573 bytes (100.0%,    0.0s remaining) ...done. (0 seconds, 0 min)\n"
     ]
    },
    {
     "name": "stdout",
     "output_type": "stream",
     "text": [
      "Downloading data from https://s3.amazonaws.com/fcp-indi/data/Projects/ABIDE_Initiative/Outputs/cpac/nofilt_noglobal/rois_aal/NYU_0051113_rois_aal.1D ...\n"
     ]
    },
    {
     "name": "stderr",
     "output_type": "stream",
     "text": [
      "\r",
      "Downloaded 204713 of 204713 bytes (100.0%,    0.0s remaining) ...done. (0 seconds, 0 min)\n",
      "\r",
      "Downloaded 204507 of 204507 bytes (100.0%,    0.0s remaining) ...done. (0 seconds, 0 min)\n"
     ]
    },
    {
     "name": "stdout",
     "output_type": "stream",
     "text": [
      "Downloading data from https://s3.amazonaws.com/fcp-indi/data/Projects/ABIDE_Initiative/Outputs/cpac/nofilt_noglobal/rois_aal/NYU_0051114_rois_aal.1D ...\n",
      "Downloading data from https://s3.amazonaws.com/fcp-indi/data/Projects/ABIDE_Initiative/Outputs/cpac/nofilt_noglobal/rois_aal/NYU_0051116_rois_aal.1D ...\n"
     ]
    },
    {
     "name": "stderr",
     "output_type": "stream",
     "text": [
      "\r",
      "Downloaded 204586 of 204586 bytes (100.0%,    0.0s remaining) ...done. (0 seconds, 0 min)\n",
      "\r",
      "Downloaded 204506 of 204506 bytes (100.0%,    0.0s remaining) ...done. (0 seconds, 0 min)\n"
     ]
    },
    {
     "name": "stdout",
     "output_type": "stream",
     "text": [
      "Downloading data from https://s3.amazonaws.com/fcp-indi/data/Projects/ABIDE_Initiative/Outputs/cpac/nofilt_noglobal/rois_aal/NYU_0051117_rois_aal.1D ...\n",
      "Downloading data from https://s3.amazonaws.com/fcp-indi/data/Projects/ABIDE_Initiative/Outputs/cpac/nofilt_noglobal/rois_aal/NYU_0051118_rois_aal.1D ...\n"
     ]
    },
    {
     "name": "stderr",
     "output_type": "stream",
     "text": [
      "\r",
      "Downloaded 204002 of 204002 bytes (100.0%,    0.0s remaining) ...done. (0 seconds, 0 min)\n",
      "\r",
      "Downloaded 207406 of 207406 bytes (100.0%,    0.0s remaining) ...done. (0 seconds, 0 min)\n"
     ]
    },
    {
     "name": "stdout",
     "output_type": "stream",
     "text": [
      "Downloading data from https://s3.amazonaws.com/fcp-indi/data/Projects/ABIDE_Initiative/Outputs/cpac/nofilt_noglobal/rois_aal/NYU_0051122_rois_aal.1D ...\n",
      "Downloading data from https://s3.amazonaws.com/fcp-indi/data/Projects/ABIDE_Initiative/Outputs/cpac/nofilt_noglobal/rois_aal/NYU_0051123_rois_aal.1D ...\n"
     ]
    },
    {
     "name": "stderr",
     "output_type": "stream",
     "text": [
      "\r",
      "Downloaded 206474 of 206474 bytes (100.0%,    0.0s remaining) ...done. (0 seconds, 0 min)\n",
      "\r",
      "Downloaded 205331 of 205331 bytes (100.0%,    0.0s remaining) ...done. (0 seconds, 0 min)\n"
     ]
    },
    {
     "name": "stdout",
     "output_type": "stream",
     "text": [
      "Downloading data from https://s3.amazonaws.com/fcp-indi/data/Projects/ABIDE_Initiative/Outputs/cpac/nofilt_noglobal/rois_aal/NYU_0051124_rois_aal.1D ...\n",
      "Downloading data from https://s3.amazonaws.com/fcp-indi/data/Projects/ABIDE_Initiative/Outputs/cpac/nofilt_noglobal/rois_aal/NYU_0051126_rois_aal.1D ...\n"
     ]
    },
    {
     "name": "stderr",
     "output_type": "stream",
     "text": [
      "\r",
      "Downloaded 206594 of 206594 bytes (100.0%,    0.0s remaining) ...done. (0 seconds, 0 min)\n",
      "\r",
      "Downloaded 207809 of 207809 bytes (100.0%,    0.0s remaining) ...done. (0 seconds, 0 min)\n"
     ]
    },
    {
     "name": "stdout",
     "output_type": "stream",
     "text": [
      "Downloading data from https://s3.amazonaws.com/fcp-indi/data/Projects/ABIDE_Initiative/Outputs/cpac/nofilt_noglobal/rois_aal/NYU_0051127_rois_aal.1D ...\n",
      "Downloading data from https://s3.amazonaws.com/fcp-indi/data/Projects/ABIDE_Initiative/Outputs/cpac/nofilt_noglobal/rois_aal/NYU_0051128_rois_aal.1D ...\n"
     ]
    },
    {
     "name": "stderr",
     "output_type": "stream",
     "text": [
      "\r",
      "Downloaded 204708 of 204708 bytes (100.0%,    0.0s remaining) ...done. (0 seconds, 0 min)\n",
      "\r",
      "Downloaded 204994 of 204994 bytes (100.0%,    0.0s remaining) ...done. (0 seconds, 0 min)\n"
     ]
    },
    {
     "name": "stdout",
     "output_type": "stream",
     "text": [
      "Downloading data from https://s3.amazonaws.com/fcp-indi/data/Projects/ABIDE_Initiative/Outputs/cpac/nofilt_noglobal/rois_aal/NYU_0051129_rois_aal.1D ...\n",
      "Downloading data from https://s3.amazonaws.com/fcp-indi/data/Projects/ABIDE_Initiative/Outputs/cpac/nofilt_noglobal/rois_aal/NYU_0051130_rois_aal.1D ...\n"
     ]
    },
    {
     "name": "stderr",
     "output_type": "stream",
     "text": [
      "\r",
      "Downloaded 206162 of 206162 bytes (100.0%,    0.0s remaining) ...done. (0 seconds, 0 min)\n",
      "\r",
      "Downloaded 206871 of 206871 bytes (100.0%,    0.0s remaining) ...done. (0 seconds, 0 min)\n"
     ]
    },
    {
     "name": "stdout",
     "output_type": "stream",
     "text": [
      "Downloading data from https://s3.amazonaws.com/fcp-indi/data/Projects/ABIDE_Initiative/Outputs/cpac/nofilt_noglobal/rois_aal/NYU_0051131_rois_aal.1D ...\n",
      "Downloading data from https://s3.amazonaws.com/fcp-indi/data/Projects/ABIDE_Initiative/Outputs/cpac/nofilt_noglobal/rois_aal/NYU_0051146_rois_aal.1D ...\n"
     ]
    },
    {
     "name": "stderr",
     "output_type": "stream",
     "text": [
      "\r",
      "Downloaded 204652 of 204652 bytes (100.0%,    0.0s remaining) ...done. (0 seconds, 0 min)\n",
      "\r",
      "Downloaded 206600 of 206600 bytes (100.0%,    0.0s remaining) ...done. (0 seconds, 0 min)\n"
     ]
    },
    {
     "name": "stdout",
     "output_type": "stream",
     "text": [
      "Downloading data from https://s3.amazonaws.com/fcp-indi/data/Projects/ABIDE_Initiative/Outputs/cpac/nofilt_noglobal/rois_aal/NYU_0051147_rois_aal.1D ...\n",
      "Downloading data from https://s3.amazonaws.com/fcp-indi/data/Projects/ABIDE_Initiative/Outputs/cpac/nofilt_noglobal/rois_aal/NYU_0051148_rois_aal.1D ...\n"
     ]
    },
    {
     "name": "stderr",
     "output_type": "stream",
     "text": [
      "\r",
      "Downloaded 205778 of 205778 bytes (100.0%,    0.0s remaining) ...done. (0 seconds, 0 min)\n",
      "\r",
      "Downloaded 205045 of 205045 bytes (100.0%,    0.0s remaining) ...done. (0 seconds, 0 min)\n"
     ]
    },
    {
     "name": "stdout",
     "output_type": "stream",
     "text": [
      "Downloading data from https://s3.amazonaws.com/fcp-indi/data/Projects/ABIDE_Initiative/Outputs/cpac/nofilt_noglobal/rois_aal/NYU_0051149_rois_aal.1D ...\n",
      "Downloading data from https://s3.amazonaws.com/fcp-indi/data/Projects/ABIDE_Initiative/Outputs/cpac/nofilt_noglobal/rois_aal/NYU_0051150_rois_aal.1D ...\n"
     ]
    },
    {
     "name": "stderr",
     "output_type": "stream",
     "text": [
      "\r",
      "Downloaded 206094 of 206094 bytes (100.0%,    0.0s remaining) ...done. (0 seconds, 0 min)\n",
      "\r",
      "Downloaded 205304 of 205304 bytes (100.0%,    0.0s remaining) ...done. (0 seconds, 0 min)\n"
     ]
    },
    {
     "name": "stdout",
     "output_type": "stream",
     "text": [
      "Downloading data from https://s3.amazonaws.com/fcp-indi/data/Projects/ABIDE_Initiative/Outputs/cpac/nofilt_noglobal/rois_aal/NYU_0051151_rois_aal.1D ...\n",
      "Downloading data from https://s3.amazonaws.com/fcp-indi/data/Projects/ABIDE_Initiative/Outputs/cpac/nofilt_noglobal/rois_aal/NYU_0051152_rois_aal.1D ...\n"
     ]
    },
    {
     "name": "stderr",
     "output_type": "stream",
     "text": [
      "\r",
      "Downloaded 206174 of 206174 bytes (100.0%,    0.0s remaining) ...done. (0 seconds, 0 min)\n",
      "\r",
      "Downloaded 204992 of 204992 bytes (100.0%,    0.0s remaining) ...done. (0 seconds, 0 min)\n"
     ]
    },
    {
     "name": "stdout",
     "output_type": "stream",
     "text": [
      "Downloading data from https://s3.amazonaws.com/fcp-indi/data/Projects/ABIDE_Initiative/Outputs/cpac/nofilt_noglobal/rois_aal/NYU_0051153_rois_aal.1D ...\n",
      "Downloading data from https://s3.amazonaws.com/fcp-indi/data/Projects/ABIDE_Initiative/Outputs/cpac/nofilt_noglobal/rois_aal/NYU_0051154_rois_aal.1D ...\n"
     ]
    },
    {
     "name": "stderr",
     "output_type": "stream",
     "text": [
      "\r",
      "Downloaded 205418 of 205418 bytes (100.0%,    0.0s remaining) ...done. (0 seconds, 0 min)\n",
      "\r",
      "Downloaded 204155 of 204155 bytes (100.0%,    0.0s remaining) ...done. (0 seconds, 0 min)\n"
     ]
    },
    {
     "name": "stdout",
     "output_type": "stream",
     "text": [
      "Downloading data from https://s3.amazonaws.com/fcp-indi/data/Projects/ABIDE_Initiative/Outputs/cpac/nofilt_noglobal/rois_aal/NYU_0051155_rois_aal.1D ...\n",
      "Downloading data from https://s3.amazonaws.com/fcp-indi/data/Projects/ABIDE_Initiative/Outputs/cpac/nofilt_noglobal/rois_aal/NYU_0051156_rois_aal.1D ...\n"
     ]
    },
    {
     "name": "stderr",
     "output_type": "stream",
     "text": [
      "\r",
      "Downloaded 205818 of 205818 bytes (100.0%,    0.0s remaining) ...done. (0 seconds, 0 min)\n",
      "\r",
      "Downloaded 208105 of 208105 bytes (100.0%,    0.0s remaining) ...done. (0 seconds, 0 min)\n"
     ]
    },
    {
     "name": "stdout",
     "output_type": "stream",
     "text": [
      "Downloading data from https://s3.amazonaws.com/fcp-indi/data/Projects/ABIDE_Initiative/Outputs/cpac/nofilt_noglobal/rois_aal/NYU_0051159_rois_aal.1D ...\n"
     ]
    }
   ],
   "source": [
    "abide = nilearn.datasets.fetch_abide_pcp(derivatives=['rois_aal'], SITE_ID=['NYU'], pipeline='cpac')"
   ]
  },
  {
   "cell_type": "code",
   "execution_count": 5,
   "metadata": {},
   "outputs": [],
   "source": [
    "y = abide.phenotypic['DX_GROUP']"
   ]
  },
  {
   "cell_type": "code",
   "execution_count": 6,
   "metadata": {},
   "outputs": [
    {
     "data": {
      "text/plain": [
       "array([1, 1, 1, 1, 1, 1, 1, 1, 1, 1, 1, 1, 1, 1, 1, 1, 1, 1, 1, 1, 1, 1,\n",
       "       1, 1, 1, 1, 1, 1, 1, 1, 1, 1, 1, 1, 1, 1, 1, 1, 1, 1, 1, 1, 1, 1,\n",
       "       1, 1, 1, 1, 1, 1, 1, 1, 1, 1, 1, 1, 1, 1, 1, 1, 1, 1, 1, 1, 1, 1,\n",
       "       1, 1, 1, 1, 1, 1, 1, 1, 2, 2, 2, 2, 2, 2, 2, 2, 2, 2, 2, 2, 2, 2,\n",
       "       2, 2, 2, 2, 2, 2, 2, 2, 2, 2, 2, 2, 2, 2, 2, 2, 2, 2, 2, 2, 2, 2,\n",
       "       2, 2, 2, 2, 2, 2, 2, 2, 2, 2, 2, 2, 2, 2, 2, 2, 2, 2, 2, 2, 2, 2,\n",
       "       2, 2, 2, 2, 2, 2, 2, 2, 2, 2, 2, 2, 2, 2, 2, 2, 2, 2, 2, 2, 2, 2,\n",
       "       2, 2, 2, 2, 2, 2, 2, 2, 2, 2, 2, 2, 2, 2, 2, 2, 2, 2])"
      ]
     },
     "execution_count": 6,
     "metadata": {},
     "output_type": "execute_result"
    }
   ],
   "source": [
    "y"
   ]
  },
  {
   "cell_type": "code",
   "execution_count": 7,
   "metadata": {
    "scrolled": true
   },
   "outputs": [
    {
     "data": {
      "text/plain": [
       "(172, 116, 116)"
      ]
     },
     "execution_count": 7,
     "metadata": {},
     "output_type": "execute_result"
    }
   ],
   "source": [
    "conn_est = ConnectivityMeasure(kind='partial correlation')\n",
    "conn_matrices = conn_est.fit_transform(abide.rois_aal)\n",
    "conn_matrices.shape"
   ]
  },
  {
   "cell_type": "code",
   "execution_count": null,
   "metadata": {},
   "outputs": [],
   "source": []
  },
  {
   "cell_type": "code",
   "execution_count": null,
   "metadata": {},
   "outputs": [],
   "source": []
  }
 ],
 "metadata": {
  "kernelspec": {
   "display_name": "Python 3",
   "language": "python",
   "name": "python3"
  },
  "language_info": {
   "codemirror_mode": {
    "name": "ipython",
    "version": 3
   },
   "file_extension": ".py",
   "mimetype": "text/x-python",
   "name": "python",
   "nbconvert_exporter": "python",
   "pygments_lexer": "ipython3",
   "version": "3.7.4"
  }
 },
 "nbformat": 4,
 "nbformat_minor": 2
}
