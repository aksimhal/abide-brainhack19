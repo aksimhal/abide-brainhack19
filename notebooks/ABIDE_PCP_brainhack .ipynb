{
 "cells": [
  {
   "cell_type": "code",
   "execution_count": 1,
   "metadata": {},
   "outputs": [
    {
     "name": "stderr",
     "output_type": "stream",
     "text": [
      "/Users/anthony.mekhanik/anaconda3/lib/python3.6/site-packages/sklearn/externals/joblib/__init__.py:15: DeprecationWarning: sklearn.externals.joblib is deprecated in 0.21 and will be removed in 0.23. Please import this functionality directly from joblib, which can be installed with: pip install joblib. If this warning is raised when loading pickled models, you may need to re-serialize those models with scikit-learn 0.21+.\n",
      "  warnings.warn(msg, category=DeprecationWarning)\n"
     ]
    }
   ],
   "source": [
    "import matplotlib.pyplot as plt\n",
    "import numpy as np\n",
    "import pandas as pd\n",
    "import os\n",
    "import nilearn\n",
    "from nilearn.connectome import ConnectivityMeasure\n",
    "# import matplotlib as mpl\n",
    "# mpl.use('Agg')"
   ]
  },
  {
   "cell_type": "code",
   "execution_count": 2,
   "metadata": {},
   "outputs": [],
   "source": [
    "sites = ['CALTECH', 'CMUA', 'KKI', 'LEUVEN1', 'LEUVEN2', 'MAXMUNA', 'MAXMUNB', 'MAXMUNC', 'MAXMUNC', 'NYU', 'OHSU', 'OLIN', 'PITT', 'SBL', 'SDSU',\n",
    "         'STANFORD', 'TRINITY', 'UCLA1', 'UCLA2', 'UM1', 'UM2', 'USM', 'YALE']"
   ]
  },
  {
   "cell_type": "code",
   "execution_count": 4,
   "metadata": {},
   "outputs": [],
   "source": [
    "abide = nilearn.datasets.fetch_abide_pcp(derivatives=['rois_aal'], SITE_ID=sites, pipeline='cpac')"
   ]
  },
  {
   "cell_type": "code",
   "execution_count": 78,
   "metadata": {},
   "outputs": [],
   "source": [
    "ages = abide.phenotypic['AGE_AT_SCAN']"
   ]
  },
  {
   "cell_type": "code",
   "execution_count": 79,
   "metadata": {},
   "outputs": [],
   "source": [
    "age_groups = [np.sum(np.logical_and(ages >= 5, ages <= 10)), np.sum(np.logical_and(ages >= 10, ages <= 15)), np.sum(np.logical_and(ages >= 15, ages <= 20)),\n",
    "              np.sum(np.logical_and(ages >= 20, ages <= 30)), np.sum(np.logical_and(ages >= 30, ages <= 65))]"
   ]
  },
  {
   "cell_type": "code",
   "execution_count": 80,
   "metadata": {},
   "outputs": [
    {
     "data": {
      "text/plain": [
       "[88, 203, 124, 107, 43]"
      ]
     },
     "execution_count": 80,
     "metadata": {},
     "output_type": "execute_result"
    }
   ],
   "source": [
    "age_groups"
   ]
  },
  {
   "cell_type": "code",
   "execution_count": 8,
   "metadata": {},
   "outputs": [
    {
     "data": {
      "text/plain": [
       "<StemContainer object of 3 artists>"
      ]
     },
     "execution_count": 8,
     "metadata": {},
     "output_type": "execute_result"
    },
    {
     "data": {
      "image/png": "[encoded data removed]",
      "text/plain": [
       "<Figure size 792x792 with 1 Axes>"
      ]
     },
     "metadata": {
      "needs_background": "light"
     },
     "output_type": "display_data"
    }
   ],
   "source": [
    "plt.figure(figsize=(11,11))\n",
    "plt.stem(age_groups)"
   ]
  },
  {
   "cell_type": "code",
   "execution_count": 9,
   "metadata": {
    "scrolled": true
   },
   "outputs": [
    {
     "data": {
      "text/plain": [
       "(553, 116, 116)"
      ]
     },
     "execution_count": 9,
     "metadata": {},
     "output_type": "execute_result"
    }
   ],
   "source": [
    "conn_est = ConnectivityMeasure(kind='partial correlation')\n",
    "conn_matrices = conn_est.fit_transform(abide.rois_aal)\n",
    "conn_matrices.shape"
   ]
  },
  {
   "cell_type": "code",
   "execution_count": 12,
   "metadata": {},
   "outputs": [],
   "source": [
    "import bct"
   ]
  },
  {
   "cell_type": "code",
   "execution_count": 13,
   "metadata": {},
   "outputs": [
    {
     "data": {
      "text/plain": [
       "0.055674631053385513"
      ]
     },
     "execution_count": 13,
     "metadata": {},
     "output_type": "execute_result"
    }
   ],
   "source": [
    "np.percentile(conn_matrices[0,...], 80)"
   ]
  },
  {
   "cell_type": "code",
   "execution_count": 25,
   "metadata": {},
   "outputs": [],
   "source": [
    "num_subs = conn_matrices.shape[0]\n",
    "num_roi = conn_matrices.shape[1]"
   ]
  },
  {
   "cell_type": "code",
   "execution_count": 16,
   "metadata": {},
   "outputs": [],
   "source": [
    "ct_bi = np.zeros((conn_matrices.shape))\n",
    "for i in range(ct_bi.shape[0]):\n",
    "    ct_bi[i,...][conn_matrices[i,...] >= np.percentile(conn_matrices[i,...], 80)] = 1"
   ]
  },
  {
   "cell_type": "code",
   "execution_count": 26,
   "metadata": {},
   "outputs": [],
   "source": [
    "clust_coef = np.zeros((num_subs,num_roi))\n",
    "\n",
    "for i in range(num_subs):\n",
    "    clust_coef[i,:] = bct.clustering_coef_bu(ct_bi[i,...])"
   ]
  },
  {
   "cell_type": "code",
   "execution_count": 27,
   "metadata": {},
   "outputs": [],
   "source": [
    "trans = np.zeros((num_subs,1))\n",
    "\n",
    "for i in range(num_subs):\n",
    "    trans[i] = bct.transitivity_bu(ct_bi[i,...])"
   ]
  },
  {
   "cell_type": "code",
   "execution_count": 28,
   "metadata": {},
   "outputs": [
    {
     "name": "stderr",
     "output_type": "stream",
     "text": [
      "/Users/anthony.mekhanik/anaconda3/lib/python3.6/site-packages/numpy/core/_methods.py:28: RuntimeWarning: invalid value encountered in reduce\n",
      "  return umr_maximum(a, axis, None, out, keepdims, initial)\n",
      "/Users/anthony.mekhanik/anaconda3/lib/python3.6/site-packages/numpy/core/fromnumeric.py:83: RuntimeWarning: invalid value encountered in reduce\n",
      "  return ufunc.reduce(obj, axis, dtype, out, **passkwargs)\n"
     ]
    }
   ],
   "source": [
    "char_path = np.zeros((num_subs,num_roi + 4))\n",
    "\n",
    "for i in range(num_subs):\n",
    "    char_path_res = bct.charpath(bct.distance_bin(ct_bi[i,...]))\n",
    "    char_path[i,:num_roi] = char_path_res[2]\n",
    "    char_path[i,num_roi] = char_path_res[0]\n",
    "    char_path[i,num_roi + 1] = char_path_res[1]\n",
    "    char_path[i,num_roi + 2] = char_path_res[3]\n",
    "    char_path[i,num_roi + 3] = char_path_res[4]"
   ]
  },
  {
   "cell_type": "code",
   "execution_count": 29,
   "metadata": {},
   "outputs": [],
   "source": [
    "eff = np.zeros((num_subs,num_roi + 1))\n",
    "\n",
    "for i in range(num_subs):\n",
    "    eff[i,:num_roi] = bct.efficiency_bin(ct_bi[i,...], local=True)\n",
    "    eff[i,num_roi] = bct.efficiency_bin(ct_bi[i,...])"
   ]
  },
  {
   "cell_type": "code",
   "execution_count": 30,
   "metadata": {},
   "outputs": [],
   "source": [
    "btw_cen = np.zeros((num_subs,num_roi))\n",
    "\n",
    "for i in range(num_subs):\n",
    "    btw_cen[i,:] = bct.betweenness_bin(ct_bi[i,...])"
   ]
  },
  {
   "cell_type": "code",
   "execution_count": 38,
   "metadata": {},
   "outputs": [
    {
     "name": "stderr",
     "output_type": "stream",
     "text": [
      "/Users/anthony.mekhanik/anaconda3/lib/python3.6/site-packages/bct/algorithms/centrality.py:642: RuntimeWarning: invalid value encountered in true_divide\n",
      "  Z[np.where(ci == i)] = (Koi - np.mean(Koi)) / np.std(Koi)\n"
     ]
    }
   ],
   "source": [
    "mod_z_score = np.zeros((num_subs,num_roi))\n",
    "part_coef = np.zeros((num_subs,num_roi))\n",
    "\n",
    "for i in range(num_subs):\n",
    "    comms, _ = bct.community_louvain(ct_bi[i,...])\n",
    "    \n",
    "    mod_z_score[i,:] = bct.module_degree_zscore(ct_bi[i,...], comms)\n",
    "    part_coef[i,:] = bct.participation_coef(ct_bi[i,...], comms)"
   ]
  },
  {
   "cell_type": "code",
   "execution_count": 39,
   "metadata": {},
   "outputs": [],
   "source": [
    "X = np.hstack((clust_coef, trans, char_path, eff, btw_cen, mod_z_score, part_coef))"
   ]
  },
  {
   "cell_type": "code",
   "execution_count": 40,
   "metadata": {},
   "outputs": [
    {
     "data": {
      "text/plain": [
       "(553, 702)"
      ]
     },
     "execution_count": 40,
     "metadata": {},
     "output_type": "execute_result"
    }
   ],
   "source": [
    "X.shape"
   ]
  },
  {
   "cell_type": "code",
   "execution_count": 43,
   "metadata": {},
   "outputs": [],
   "source": [
    "import sklearn\n",
    "from mlxtend.feature_selection import SequentialFeatureSelector as SFS"
   ]
  },
  {
   "cell_type": "code",
   "execution_count": 45,
   "metadata": {},
   "outputs": [
    {
     "data": {
      "text/plain": [
       "553"
      ]
     },
     "execution_count": 45,
     "metadata": {},
     "output_type": "execute_result"
    }
   ],
   "source": [
    "y = abide.phenotypic['DX_GROUP']"
   ]
  },
  {
   "cell_type": "code",
   "execution_count": 48,
   "metadata": {},
   "outputs": [],
   "source": [
    "shuffle = np.hstack((X, y.reshape(-1,1)))\n",
    "np.random.shuffle(shuffle)\n",
    "X_shuffle = shuffle[:,:-1]\n",
    "y_shuffle = shuffle[:,-1]"
   ]
  },
  {
   "cell_type": "code",
   "execution_count": 49,
   "metadata": {},
   "outputs": [
    {
     "name": "stdout",
     "output_type": "stream",
     "text": [
      "(553, 702) (553,)\n"
     ]
    }
   ],
   "source": [
    "print(X_shuffle.shape, y_shuffle.shape)"
   ]
  },
  {
   "cell_type": "code",
   "execution_count": 53,
   "metadata": {},
   "outputs": [
    {
     "data": {
      "text/plain": [
       "118"
      ]
     },
     "execution_count": 53,
     "metadata": {},
     "output_type": "execute_result"
    }
   ],
   "source": [
    "nanm = np.isnan(X_shuffle)\n",
    "len(np.where(np.sum(nanm, axis=0) > 0)[0])"
   ]
  },
  {
   "cell_type": "code",
   "execution_count": 54,
   "metadata": {},
   "outputs": [],
   "source": [
    "X_final = np.delete(X_shuffle, np.where(np.sum(nanm, axis=0) > 0)[0], axis=1)"
   ]
  },
  {
   "cell_type": "code",
   "execution_count": 58,
   "metadata": {},
   "outputs": [
    {
     "data": {
      "text/plain": [
       "1"
      ]
     },
     "execution_count": 58,
     "metadata": {},
     "output_type": "execute_result"
    }
   ],
   "source": [
    "nanm = np.isinf(X_final)\n",
    "len(np.where(np.sum(nanm, axis=0) > 0)[0])"
   ]
  },
  {
   "cell_type": "code",
   "execution_count": 59,
   "metadata": {},
   "outputs": [],
   "source": [
    "X_finalfinal = np.delete(X_final, np.where(np.sum(nanm, axis=0) > 0)[0], axis=1)"
   ]
  },
  {
   "cell_type": "code",
   "execution_count": 60,
   "metadata": {},
   "outputs": [
    {
     "data": {
      "text/plain": [
       "(553, 583)"
      ]
     },
     "execution_count": 60,
     "metadata": {},
     "output_type": "execute_result"
    }
   ],
   "source": [
    "X_finalfinal.shape"
   ]
  },
  {
   "cell_type": "code",
   "execution_count": 61,
   "metadata": {},
   "outputs": [
    {
     "name": "stderr",
     "output_type": "stream",
     "text": [
      "[Parallel(n_jobs=1)]: Using backend SequentialBackend with 1 concurrent workers.\n",
      "[Parallel(n_jobs=1)]: Done   1 out of   1 | elapsed:    0.0s remaining:    0.0s\n",
      "[Parallel(n_jobs=1)]: Done 583 out of 583 | elapsed:  8.3min finished\n",
      "\n",
      "[2019-11-14 15:38:33] Features: 1/10 -- score: 0.5949367088607594[Parallel(n_jobs=1)]: Using backend SequentialBackend with 1 concurrent workers.\n",
      "[Parallel(n_jobs=1)]: Done   1 out of   1 | elapsed:    0.0s remaining:    0.0s\n",
      "[Parallel(n_jobs=1)]: Done 582 out of 582 | elapsed:   20.3s finished\n",
      "\n",
      "[2019-11-14 15:38:53] Features: 2/10 -- score: 0.6057866184448463[Parallel(n_jobs=1)]: Using backend SequentialBackend with 1 concurrent workers.\n",
      "[Parallel(n_jobs=1)]: Done   1 out of   1 | elapsed:    0.0s remaining:    0.0s\n",
      "[Parallel(n_jobs=1)]: Done 581 out of 581 | elapsed:   18.4s finished\n",
      "\n",
      "[2019-11-14 15:39:12] Features: 3/10 -- score: 0.6166365280289331[Parallel(n_jobs=1)]: Using backend SequentialBackend with 1 concurrent workers.\n",
      "[Parallel(n_jobs=1)]: Done   1 out of   1 | elapsed:    0.0s remaining:    0.0s\n",
      "[Parallel(n_jobs=1)]: Done 580 out of 580 | elapsed:   18.7s finished\n",
      "\n",
      "[2019-11-14 15:39:30] Features: 4/10 -- score: 0.6238698010849909[Parallel(n_jobs=1)]: Using backend SequentialBackend with 1 concurrent workers.\n",
      "[Parallel(n_jobs=1)]: Done   1 out of   1 | elapsed:    0.0s remaining:    0.0s\n",
      "[Parallel(n_jobs=1)]: Done 579 out of 579 | elapsed:   18.9s finished\n",
      "\n",
      "[2019-11-14 15:39:49] Features: 5/10 -- score: 0.6311030741410488[Parallel(n_jobs=1)]: Using backend SequentialBackend with 1 concurrent workers.\n",
      "[Parallel(n_jobs=1)]: Done   1 out of   1 | elapsed:    0.0s remaining:    0.0s\n",
      "[Parallel(n_jobs=1)]: Done 578 out of 578 | elapsed:   21.5s finished\n",
      "\n",
      "[2019-11-14 15:40:11] Features: 6/10 -- score: 0.6347197106690777[Parallel(n_jobs=1)]: Using backend SequentialBackend with 1 concurrent workers.\n",
      "[Parallel(n_jobs=1)]: Done   1 out of   1 | elapsed:    0.0s remaining:    0.0s\n",
      "[Parallel(n_jobs=1)]: Done 577 out of 577 | elapsed:   20.7s finished\n",
      "\n",
      "[2019-11-14 15:40:31] Features: 7/10 -- score: 0.6365280289330922[Parallel(n_jobs=1)]: Using backend SequentialBackend with 1 concurrent workers.\n",
      "[Parallel(n_jobs=1)]: Done   1 out of   1 | elapsed:    0.0s remaining:    0.0s\n",
      "[Parallel(n_jobs=1)]: Done 576 out of 576 | elapsed:   21.9s finished\n",
      "\n",
      "[2019-11-14 15:40:53] Features: 8/10 -- score: 0.6383363471971067[Parallel(n_jobs=1)]: Using backend SequentialBackend with 1 concurrent workers.\n",
      "[Parallel(n_jobs=1)]: Done   1 out of   1 | elapsed:    0.0s remaining:    0.0s\n",
      "[Parallel(n_jobs=1)]: Done 575 out of 575 | elapsed:   21.6s finished\n",
      "\n",
      "[2019-11-14 15:41:15] Features: 9/10 -- score: 0.6401446654611211[Parallel(n_jobs=1)]: Using backend SequentialBackend with 1 concurrent workers.\n",
      "[Parallel(n_jobs=1)]: Done   1 out of   1 | elapsed:    0.0s remaining:    0.0s\n",
      "[Parallel(n_jobs=1)]: Done 574 out of 574 | elapsed:   22.3s finished\n",
      "\n",
      "[2019-11-14 15:41:37] Features: 10/10 -- score: 0.6401446654611211"
     ]
    }
   ],
   "source": [
    "svm = sklearn.svm.SVC(kernel='linear')\n",
    "\n",
    "sfs1 = SFS(svm, \n",
    "           k_features=10, \n",
    "           forward=True, \n",
    "           floating=False, \n",
    "           verbose=2,\n",
    "           scoring='accuracy',\n",
    "           cv=0)\n",
    "\n",
    "sfs1 = sfs1.fit(X_finalfinal, y_shuffle)"
   ]
  },
  {
   "cell_type": "code",
   "execution_count": 62,
   "metadata": {},
   "outputs": [
    {
     "data": {
      "text/plain": [
       "(9, 18, 35, 131, 181, 351, 459, 525, 558, 569)"
      ]
     },
     "execution_count": 62,
     "metadata": {},
     "output_type": "execute_result"
    }
   ],
   "source": [
    "sfs1.k_feature_idx_"
   ]
  },
  {
   "cell_type": "code",
   "execution_count": 73,
   "metadata": {},
   "outputs": [
    {
     "data": {
      "text/plain": [
       "(553, 10)"
      ]
     },
     "execution_count": 73,
     "metadata": {},
     "output_type": "execute_result"
    }
   ],
   "source": [
    "X_top10 = X_finalfinal[:,sfs1.k_feature_idx_]\n",
    "X_top10.shape"
   ]
  },
  {
   "cell_type": "code",
   "execution_count": 75,
   "metadata": {},
   "outputs": [],
   "source": [
    "all_iter_results = []\n",
    "for i in range(100):\n",
    "    all_iter_results.append([])\n",
    "    kf = sklearn.model_selection.KFold(n_splits=10, shuffle=True)\n",
    "    for train_index, test_index in kf.split(X_top10):\n",
    "        X_train, X_test = X_top10[train_index], X_top10[test_index]\n",
    "        y_train, y_test = y_shuffle[train_index], y_shuffle[test_index]\n",
    "\n",
    "        clf = sklearn.svm.SVC(kernel='linear')\n",
    "        clf.fit(X_train, y_train)\n",
    "        y_pred = clf.predict(X_test)\n",
    "\n",
    "        sensitivity = sklearn.metrics.recall_score(y_test, y_pred, pos_label=2)\n",
    "        specificity = sklearn.metrics.recall_score(y_test, y_pred, pos_label=1)\n",
    "        all_iter_results[i].append([sensitivity, specificity])"
   ]
  },
  {
   "cell_type": "code",
   "execution_count": 76,
   "metadata": {},
   "outputs": [],
   "source": [
    "clf_results = np.array(all_iter_results)\n",
    "\n",
    "clf_iter_avg = []\n",
    "for i in range(clf_results.shape[0]):\n",
    "    clf_iter = clf_results[i,:,:]\n",
    "    clf_iter_avg.append(np.mean(clf_iter, axis=0))\n",
    "    \n",
    "clf_df0 = pd.DataFrame(data=clf_iter_avg, columns=['Sensitivity', 'Specificity'])"
   ]
  },
  {
   "cell_type": "code",
   "execution_count": 77,
   "metadata": {},
   "outputs": [
    {
     "data": {
      "text/plain": [
       "Sensitivity    0.833902\n",
       "Specificity    0.220079\n",
       "dtype: float64"
      ]
     },
     "execution_count": 77,
     "metadata": {},
     "output_type": "execute_result"
    }
   ],
   "source": [
    "clf_df0.mean()"
   ]
  },
  {
   "cell_type": "code",
   "execution_count": 81,
   "metadata": {},
   "outputs": [],
   "source": [
    "X_a1 = X[np.logical_and(ages >= 5, ages < 10),:]\n",
    "X_a2 = X[np.logical_and(ages >= 10, ages < 15),:]\n",
    "X_a3 = X[np.logical_and(ages >= 15, ages < 20),:]\n",
    "X_a4 = X[np.logical_and(ages >= 20, ages < 30),:]\n",
    "X_a5 = X[np.logical_and(ages >= 30, ages < 65),:]\n",
    "\n",
    "y_a1 = y[np.logical_and(ages >= 5, ages < 10)]\n",
    "y_a2 = y[np.logical_and(ages >= 10, ages < 15)]\n",
    "y_a3 = y[np.logical_and(ages >= 15, ages < 20)]\n",
    "y_a4 = y[np.logical_and(ages >= 20, ages < 30)]\n",
    "y_a5 = y[np.logical_and(ages >= 30, ages < 65)]"
   ]
  },
  {
   "cell_type": "code",
   "execution_count": 82,
   "metadata": {},
   "outputs": [],
   "source": [
    "data = [(X_a1, y_a1), (X_a2, y_a2), (X_a3, y_a3), (X_a4, y_a4), (X_a5, y_a5)]"
   ]
  },
  {
   "cell_type": "code",
   "execution_count": null,
   "metadata": {},
   "outputs": [],
   "source": [
    "shuffle = np.hstack((X, y.reshape(-1,1)))\n",
    "np.random.shuffle(shuffle)\n",
    "X_shuffle = shuffle[:,:-1]\n",
    "y_shuffle = shuffle[:,-1]\n",
    "\n",
    "nanm = np.isnan(X_shuffle)\n",
    "X_final = np.delete(X_shuffle, np.where(np.sum(nanm, axis=0) > 0)[0], axis=1)\n",
    "infm = np.isinf(X_final)\n",
    "X_finalfinal = np.delete(X_final, np.where(np.sum(infm, axis=0) > 0)[0], axis=1)"
   ]
  },
  {
   "cell_type": "code",
   "execution_count": 85,
   "metadata": {},
   "outputs": [
    {
     "name": "stderr",
     "output_type": "stream",
     "text": [
      "[Parallel(n_jobs=1)]: Using backend SequentialBackend with 1 concurrent workers.\n",
      "[Parallel(n_jobs=1)]: Done   1 out of   1 | elapsed:    0.0s remaining:    0.0s\n",
      "[Parallel(n_jobs=1)]: Done 583 out of 583 | elapsed:   38.7s finished\n",
      "\n",
      "[2019-11-14 17:04:02] Features: 1/10 -- score: 0.686046511627907[Parallel(n_jobs=1)]: Using backend SequentialBackend with 1 concurrent workers.\n",
      "[Parallel(n_jobs=1)]: Done   1 out of   1 | elapsed:    0.0s remaining:    0.0s\n",
      "[Parallel(n_jobs=1)]: Done 582 out of 582 | elapsed:    9.2s finished\n",
      "\n",
      "[2019-11-14 17:04:12] Features: 2/10 -- score: 0.7441860465116279[Parallel(n_jobs=1)]: Using backend SequentialBackend with 1 concurrent workers.\n",
      "[Parallel(n_jobs=1)]: Done   1 out of   1 | elapsed:    0.0s remaining:    0.0s\n",
      "[Parallel(n_jobs=1)]: Done 581 out of 581 | elapsed:   13.1s finished\n",
      "\n",
      "[2019-11-14 17:04:25] Features: 3/10 -- score: 0.7558139534883721[Parallel(n_jobs=1)]: Using backend SequentialBackend with 1 concurrent workers.\n",
      "[Parallel(n_jobs=1)]: Done   1 out of   1 | elapsed:    0.1s remaining:    0.0s\n",
      "[Parallel(n_jobs=1)]: Done 580 out of 580 | elapsed:   30.3s finished\n",
      "\n",
      "[2019-11-14 17:04:55] Features: 4/10 -- score: 0.8023255813953488[Parallel(n_jobs=1)]: Using backend SequentialBackend with 1 concurrent workers.\n",
      "[Parallel(n_jobs=1)]: Done   1 out of   1 | elapsed:    0.0s remaining:    0.0s\n",
      "[Parallel(n_jobs=1)]: Done 579 out of 579 | elapsed:   34.3s finished\n",
      "\n",
      "[2019-11-14 17:05:29] Features: 5/10 -- score: 0.8023255813953488[Parallel(n_jobs=1)]: Using backend SequentialBackend with 1 concurrent workers.\n",
      "[Parallel(n_jobs=1)]: Done   1 out of   1 | elapsed:    0.1s remaining:    0.0s\n",
      "[Parallel(n_jobs=1)]: Done 578 out of 578 | elapsed:   33.7s finished\n",
      "\n",
      "[2019-11-14 17:06:03] Features: 6/10 -- score: 0.8023255813953488[Parallel(n_jobs=1)]: Using backend SequentialBackend with 1 concurrent workers.\n",
      "[Parallel(n_jobs=1)]: Done   1 out of   1 | elapsed:    0.0s remaining:    0.0s\n",
      "[Parallel(n_jobs=1)]: Done 577 out of 577 | elapsed:   31.8s finished\n",
      "\n",
      "[2019-11-14 17:06:35] Features: 7/10 -- score: 0.8023255813953488[Parallel(n_jobs=1)]: Using backend SequentialBackend with 1 concurrent workers.\n",
      "[Parallel(n_jobs=1)]: Done   1 out of   1 | elapsed:    0.0s remaining:    0.0s\n",
      "[Parallel(n_jobs=1)]: Done 576 out of 576 | elapsed:   34.0s finished\n",
      "\n",
      "[2019-11-14 17:07:09] Features: 8/10 -- score: 0.8023255813953488[Parallel(n_jobs=1)]: Using backend SequentialBackend with 1 concurrent workers.\n",
      "[Parallel(n_jobs=1)]: Done   1 out of   1 | elapsed:    0.0s remaining:    0.0s\n",
      "[Parallel(n_jobs=1)]: Done 575 out of 575 | elapsed:   33.1s finished\n",
      "\n",
      "[2019-11-14 17:07:42] Features: 9/10 -- score: 0.8023255813953488[Parallel(n_jobs=1)]: Using backend SequentialBackend with 1 concurrent workers.\n",
      "[Parallel(n_jobs=1)]: Done   1 out of   1 | elapsed:    0.0s remaining:    0.0s\n",
      "[Parallel(n_jobs=1)]: Done 574 out of 574 | elapsed:   31.4s finished\n",
      "\n",
      "[2019-11-14 17:08:13] Features: 10/10 -- score: 0.8023255813953488/Users/anthony.mekhanik/anaconda3/lib/python3.6/site-packages/sklearn/metrics/classification.py:1439: UndefinedMetricWarning: Recall is ill-defined and being set to 0.0 due to no true samples.\n",
      "  'recall', 'true', average, warn_for)\n",
      "/Users/anthony.mekhanik/anaconda3/lib/python3.6/site-packages/sklearn/metrics/classification.py:1439: UndefinedMetricWarning: Recall is ill-defined and being set to 0.0 due to no true samples.\n",
      "  'recall', 'true', average, warn_for)\n",
      "/Users/anthony.mekhanik/anaconda3/lib/python3.6/site-packages/sklearn/metrics/classification.py:1439: UndefinedMetricWarning: Recall is ill-defined and being set to 0.0 due to no true samples.\n",
      "  'recall', 'true', average, warn_for)\n"
     ]
    },
    {
     "name": "stdout",
     "output_type": "stream",
     "text": [
      "Sensitivity    0.748283\n",
      "Specificity    0.546492\n",
      "dtype: float64\n"
     ]
    },
    {
     "name": "stderr",
     "output_type": "stream",
     "text": [
      "[Parallel(n_jobs=1)]: Using backend SequentialBackend with 1 concurrent workers.\n",
      "[Parallel(n_jobs=1)]: Done   1 out of   1 | elapsed:    0.0s remaining:    0.0s\n",
      "[Parallel(n_jobs=1)]: Done 583 out of 583 | elapsed:  2.9min finished\n",
      "\n",
      "[2019-11-14 17:11:55] Features: 1/10 -- score: 0.625[Parallel(n_jobs=1)]: Using backend SequentialBackend with 1 concurrent workers.\n",
      "[Parallel(n_jobs=1)]: Done   1 out of   1 | elapsed:    0.0s remaining:    0.0s\n",
      "[Parallel(n_jobs=1)]: Done 582 out of 582 | elapsed:   16.0s finished\n",
      "\n",
      "[2019-11-14 17:12:11] Features: 2/10 -- score: 0.66[Parallel(n_jobs=1)]: Using backend SequentialBackend with 1 concurrent workers.\n",
      "[Parallel(n_jobs=1)]: Done   1 out of   1 | elapsed:    0.1s remaining:    0.0s\n",
      "[Parallel(n_jobs=1)]: Done 581 out of 581 | elapsed:   45.6s finished\n",
      "\n",
      "[2019-11-14 17:12:57] Features: 3/10 -- score: 0.685[Parallel(n_jobs=1)]: Using backend SequentialBackend with 1 concurrent workers.\n",
      "[Parallel(n_jobs=1)]: Done   1 out of   1 | elapsed:    0.1s remaining:    0.0s\n",
      "[Parallel(n_jobs=1)]: Done 580 out of 580 | elapsed:   58.0s finished\n",
      "\n",
      "[2019-11-14 17:13:55] Features: 4/10 -- score: 0.695[Parallel(n_jobs=1)]: Using backend SequentialBackend with 1 concurrent workers.\n",
      "[Parallel(n_jobs=1)]: Done   1 out of   1 | elapsed:    0.2s remaining:    0.0s\n",
      "[Parallel(n_jobs=1)]: Done 579 out of 579 | elapsed:  2.2min finished\n",
      "\n",
      "[2019-11-14 17:16:06] Features: 5/10 -- score: 0.715[Parallel(n_jobs=1)]: Using backend SequentialBackend with 1 concurrent workers.\n",
      "[Parallel(n_jobs=1)]: Done   1 out of   1 | elapsed:    0.4s remaining:    0.0s\n",
      "[Parallel(n_jobs=1)]: Done 578 out of 578 | elapsed:  3.0min finished\n",
      "\n",
      "[2019-11-14 17:19:04] Features: 6/10 -- score: 0.715[Parallel(n_jobs=1)]: Using backend SequentialBackend with 1 concurrent workers.\n",
      "[Parallel(n_jobs=1)]: Done   1 out of   1 | elapsed:    0.2s remaining:    0.0s\n",
      "[Parallel(n_jobs=1)]: Done 577 out of 577 | elapsed:  2.3min finished\n",
      "\n",
      "[2019-11-14 17:21:20] Features: 7/10 -- score: 0.725[Parallel(n_jobs=1)]: Using backend SequentialBackend with 1 concurrent workers.\n",
      "[Parallel(n_jobs=1)]: Done   1 out of   1 | elapsed:    0.4s remaining:    0.0s\n",
      "[Parallel(n_jobs=1)]: Done 576 out of 576 | elapsed:  4.3min finished\n",
      "\n",
      "[2019-11-14 17:25:36] Features: 8/10 -- score: 0.73[Parallel(n_jobs=1)]: Using backend SequentialBackend with 1 concurrent workers.\n",
      "[Parallel(n_jobs=1)]: Done   1 out of   1 | elapsed:    0.7s remaining:    0.0s\n",
      "[Parallel(n_jobs=1)]: Done 575 out of 575 | elapsed:  4.6min finished\n",
      "\n",
      "[2019-11-14 17:30:13] Features: 9/10 -- score: 0.73[Parallel(n_jobs=1)]: Using backend SequentialBackend with 1 concurrent workers.\n",
      "[Parallel(n_jobs=1)]: Done   1 out of   1 | elapsed:    0.6s remaining:    0.0s\n",
      "[Parallel(n_jobs=1)]: Done 574 out of 574 | elapsed:  4.5min finished\n",
      "\n",
      "[2019-11-14 17:34:42] Features: 10/10 -- score: 0.73"
     ]
    },
    {
     "name": "stdout",
     "output_type": "stream",
     "text": [
      "Sensitivity    0.765660\n",
      "Specificity    0.416284\n",
      "dtype: float64\n"
     ]
    },
    {
     "name": "stderr",
     "output_type": "stream",
     "text": [
      "[Parallel(n_jobs=1)]: Using backend SequentialBackend with 1 concurrent workers.\n",
      "[Parallel(n_jobs=1)]: Done   1 out of   1 | elapsed:    0.0s remaining:    0.0s\n",
      "[Parallel(n_jobs=1)]: Done 583 out of 583 | elapsed:    3.4s finished\n",
      "\n",
      "[2019-11-14 17:40:37] Features: 1/10 -- score: 0.6218487394957983[Parallel(n_jobs=1)]: Using backend SequentialBackend with 1 concurrent workers.\n",
      "[Parallel(n_jobs=1)]: Done   1 out of   1 | elapsed:    0.0s remaining:    0.0s\n",
      "[Parallel(n_jobs=1)]: Done 582 out of 582 | elapsed:   10.7s finished\n",
      "\n",
      "[2019-11-14 17:40:48] Features: 2/10 -- score: 0.6722689075630253[Parallel(n_jobs=1)]: Using backend SequentialBackend with 1 concurrent workers.\n",
      "[Parallel(n_jobs=1)]: Done   1 out of   1 | elapsed:    0.0s remaining:    0.0s\n",
      "[Parallel(n_jobs=1)]: Done 581 out of 581 | elapsed:   11.6s finished\n",
      "\n",
      "[2019-11-14 17:40:59] Features: 3/10 -- score: 0.7058823529411765[Parallel(n_jobs=1)]: Using backend SequentialBackend with 1 concurrent workers.\n",
      "[Parallel(n_jobs=1)]: Done   1 out of   1 | elapsed:    0.0s remaining:    0.0s\n",
      "[Parallel(n_jobs=1)]: Done 580 out of 580 | elapsed:   19.3s finished\n",
      "\n",
      "[2019-11-14 17:41:18] Features: 4/10 -- score: 0.7310924369747899[Parallel(n_jobs=1)]: Using backend SequentialBackend with 1 concurrent workers.\n",
      "[Parallel(n_jobs=1)]: Done   1 out of   1 | elapsed:    0.0s remaining:    0.0s\n",
      "[Parallel(n_jobs=1)]: Done 579 out of 579 | elapsed:   14.0s finished\n",
      "\n",
      "[2019-11-14 17:41:32] Features: 5/10 -- score: 0.7310924369747899[Parallel(n_jobs=1)]: Using backend SequentialBackend with 1 concurrent workers.\n",
      "[Parallel(n_jobs=1)]: Done   1 out of   1 | elapsed:    0.0s remaining:    0.0s\n",
      "[Parallel(n_jobs=1)]: Done 578 out of 578 | elapsed:   12.8s finished\n",
      "\n",
      "[2019-11-14 17:41:45] Features: 6/10 -- score: 0.7310924369747899[Parallel(n_jobs=1)]: Using backend SequentialBackend with 1 concurrent workers.\n",
      "[Parallel(n_jobs=1)]: Done   1 out of   1 | elapsed:    0.0s remaining:    0.0s\n",
      "[Parallel(n_jobs=1)]: Done 577 out of 577 | elapsed:   12.1s finished\n",
      "\n",
      "[2019-11-14 17:41:57] Features: 7/10 -- score: 0.7310924369747899[Parallel(n_jobs=1)]: Using backend SequentialBackend with 1 concurrent workers.\n",
      "[Parallel(n_jobs=1)]: Done   1 out of   1 | elapsed:    0.0s remaining:    0.0s\n",
      "[Parallel(n_jobs=1)]: Done 576 out of 576 | elapsed:   12.9s finished\n",
      "\n",
      "[2019-11-14 17:42:10] Features: 8/10 -- score: 0.7310924369747899[Parallel(n_jobs=1)]: Using backend SequentialBackend with 1 concurrent workers.\n",
      "[Parallel(n_jobs=1)]: Done   1 out of   1 | elapsed:    0.0s remaining:    0.0s\n",
      "[Parallel(n_jobs=1)]: Done 575 out of 575 | elapsed:   11.8s finished\n",
      "\n",
      "[2019-11-14 17:42:22] Features: 9/10 -- score: 0.7310924369747899[Parallel(n_jobs=1)]: Using backend SequentialBackend with 1 concurrent workers.\n",
      "[Parallel(n_jobs=1)]: Done   1 out of   1 | elapsed:    0.0s remaining:    0.0s\n",
      "[Parallel(n_jobs=1)]: Done 574 out of 574 | elapsed:   12.7s finished\n",
      "\n",
      "[2019-11-14 17:42:35] Features: 10/10 -- score: 0.7310924369747899"
     ]
    },
    {
     "name": "stdout",
     "output_type": "stream",
     "text": [
      "Sensitivity    0.686396\n",
      "Specificity    0.563802\n",
      "dtype: float64\n"
     ]
    },
    {
     "name": "stderr",
     "output_type": "stream",
     "text": [
      "[Parallel(n_jobs=1)]: Using backend SequentialBackend with 1 concurrent workers.\n",
      "[Parallel(n_jobs=1)]: Done   1 out of   1 | elapsed:    0.0s remaining:    0.0s\n",
      "[Parallel(n_jobs=1)]: Done 583 out of 583 | elapsed:   58.8s finished\n",
      "\n",
      "[2019-11-14 17:43:47] Features: 1/10 -- score: 0.6476190476190476[Parallel(n_jobs=1)]: Using backend SequentialBackend with 1 concurrent workers.\n",
      "[Parallel(n_jobs=1)]: Done   1 out of   1 | elapsed:    0.0s remaining:    0.0s\n",
      "[Parallel(n_jobs=1)]: Done 582 out of 582 | elapsed:    8.5s finished\n",
      "\n",
      "[2019-11-14 17:43:55] Features: 2/10 -- score: 0.6857142857142857[Parallel(n_jobs=1)]: Using backend SequentialBackend with 1 concurrent workers.\n",
      "[Parallel(n_jobs=1)]: Done   1 out of   1 | elapsed:    0.0s remaining:    0.0s\n",
      "[Parallel(n_jobs=1)]: Done 581 out of 581 | elapsed:   14.1s finished\n",
      "\n",
      "[2019-11-14 17:44:10] Features: 3/10 -- score: 0.7047619047619048[Parallel(n_jobs=1)]: Using backend SequentialBackend with 1 concurrent workers.\n",
      "[Parallel(n_jobs=1)]: Done   1 out of   1 | elapsed:    0.0s remaining:    0.0s\n",
      "[Parallel(n_jobs=1)]: Done 580 out of 580 | elapsed:   30.4s finished\n",
      "\n",
      "[2019-11-14 17:44:40] Features: 4/10 -- score: 0.7523809523809524[Parallel(n_jobs=1)]: Using backend SequentialBackend with 1 concurrent workers.\n",
      "[Parallel(n_jobs=1)]: Done   1 out of   1 | elapsed:    0.2s remaining:    0.0s\n",
      "[Parallel(n_jobs=1)]: Done 579 out of 579 | elapsed:  1.1min finished\n",
      "\n",
      "[2019-11-14 17:45:48] Features: 5/10 -- score: 0.780952380952381[Parallel(n_jobs=1)]: Using backend SequentialBackend with 1 concurrent workers.\n",
      "[Parallel(n_jobs=1)]: Done   1 out of   1 | elapsed:    0.0s remaining:    0.0s\n",
      "[Parallel(n_jobs=1)]: Done 578 out of 578 | elapsed:  1.3min finished\n",
      "\n",
      "[2019-11-14 17:47:06] Features: 6/10 -- score: 0.7904761904761904[Parallel(n_jobs=1)]: Using backend SequentialBackend with 1 concurrent workers.\n",
      "[Parallel(n_jobs=1)]: Done   1 out of   1 | elapsed:    0.1s remaining:    0.0s\n",
      "[Parallel(n_jobs=1)]: Done 577 out of 577 | elapsed:  1.8min finished\n",
      "\n",
      "[2019-11-14 17:48:53] Features: 7/10 -- score: 0.8[Parallel(n_jobs=1)]: Using backend SequentialBackend with 1 concurrent workers.\n",
      "[Parallel(n_jobs=1)]: Done   1 out of   1 | elapsed:    0.1s remaining:    0.0s\n",
      "[Parallel(n_jobs=1)]: Done 576 out of 576 | elapsed:  1.5min finished\n",
      "\n",
      "[2019-11-14 17:50:25] Features: 8/10 -- score: 0.8095238095238095[Parallel(n_jobs=1)]: Using backend SequentialBackend with 1 concurrent workers.\n",
      "[Parallel(n_jobs=1)]: Done   1 out of   1 | elapsed:    0.3s remaining:    0.0s\n",
      "[Parallel(n_jobs=1)]: Done 575 out of 575 | elapsed:  2.6min finished\n",
      "\n",
      "[2019-11-14 17:53:01] Features: 9/10 -- score: 0.8095238095238095[Parallel(n_jobs=1)]: Using backend SequentialBackend with 1 concurrent workers.\n",
      "[Parallel(n_jobs=1)]: Done   1 out of   1 | elapsed:    0.3s remaining:    0.0s\n",
      "[Parallel(n_jobs=1)]: Done 574 out of 574 | elapsed:  2.8min finished\n",
      "\n",
      "[2019-11-14 17:55:46] Features: 10/10 -- score: 0.8095238095238095/Users/anthony.mekhanik/anaconda3/lib/python3.6/site-packages/sklearn/metrics/classification.py:1439: UndefinedMetricWarning: Recall is ill-defined and being set to 0.0 due to no true samples.\n",
      "  'recall', 'true', average, warn_for)\n"
     ]
    },
    {
     "name": "stdout",
     "output_type": "stream",
     "text": [
      "Sensitivity    0.813705\n",
      "Specificity    0.610298\n",
      "dtype: float64\n"
     ]
    },
    {
     "name": "stderr",
     "output_type": "stream",
     "text": [
      "[Parallel(n_jobs=1)]: Using backend SequentialBackend with 1 concurrent workers.\n",
      "[Parallel(n_jobs=1)]: Done   1 out of   1 | elapsed:    0.0s remaining:    0.0s\n",
      "[Parallel(n_jobs=1)]: Done 583 out of 583 | elapsed:    9.1s finished\n",
      "\n",
      "[2019-11-14 17:59:32] Features: 1/10 -- score: 0.6976744186046512[Parallel(n_jobs=1)]: Using backend SequentialBackend with 1 concurrent workers.\n",
      "[Parallel(n_jobs=1)]: Done   1 out of   1 | elapsed:    0.0s remaining:    0.0s\n",
      "[Parallel(n_jobs=1)]: Done 582 out of 582 | elapsed:    5.4s finished\n",
      "\n",
      "[2019-11-14 17:59:37] Features: 2/10 -- score: 0.7441860465116279[Parallel(n_jobs=1)]: Using backend SequentialBackend with 1 concurrent workers.\n",
      "[Parallel(n_jobs=1)]: Done   1 out of   1 | elapsed:    0.0s remaining:    0.0s\n",
      "[Parallel(n_jobs=1)]: Done 581 out of 581 | elapsed:   14.6s finished\n",
      "\n",
      "[2019-11-14 17:59:52] Features: 3/10 -- score: 0.813953488372093[Parallel(n_jobs=1)]: Using backend SequentialBackend with 1 concurrent workers.\n",
      "[Parallel(n_jobs=1)]: Done   1 out of   1 | elapsed:    0.0s remaining:    0.0s\n",
      "[Parallel(n_jobs=1)]: Done 580 out of 580 | elapsed:   24.5s finished\n",
      "\n",
      "[2019-11-14 18:00:16] Features: 4/10 -- score: 0.8604651162790697[Parallel(n_jobs=1)]: Using backend SequentialBackend with 1 concurrent workers.\n",
      "[Parallel(n_jobs=1)]: Done   1 out of   1 | elapsed:    0.0s remaining:    0.0s\n",
      "[Parallel(n_jobs=1)]: Done 579 out of 579 | elapsed:   14.8s finished\n",
      "\n",
      "[2019-11-14 18:00:31] Features: 5/10 -- score: 0.8604651162790697[Parallel(n_jobs=1)]: Using backend SequentialBackend with 1 concurrent workers.\n",
      "[Parallel(n_jobs=1)]: Done   1 out of   1 | elapsed:    0.0s remaining:    0.0s\n",
      "[Parallel(n_jobs=1)]: Done 578 out of 578 | elapsed:   15.5s finished\n",
      "\n",
      "[2019-11-14 18:00:47] Features: 6/10 -- score: 0.8604651162790697[Parallel(n_jobs=1)]: Using backend SequentialBackend with 1 concurrent workers.\n",
      "[Parallel(n_jobs=1)]: Done   1 out of   1 | elapsed:    0.0s remaining:    0.0s\n",
      "[Parallel(n_jobs=1)]: Done 577 out of 577 | elapsed:   14.0s finished\n",
      "\n",
      "[2019-11-14 18:01:01] Features: 7/10 -- score: 0.8604651162790697[Parallel(n_jobs=1)]: Using backend SequentialBackend with 1 concurrent workers.\n",
      "[Parallel(n_jobs=1)]: Done   1 out of   1 | elapsed:    0.0s remaining:    0.0s\n",
      "[Parallel(n_jobs=1)]: Done 576 out of 576 | elapsed:   14.8s finished\n",
      "\n",
      "[2019-11-14 18:01:16] Features: 8/10 -- score: 0.8604651162790697[Parallel(n_jobs=1)]: Using backend SequentialBackend with 1 concurrent workers.\n",
      "[Parallel(n_jobs=1)]: Done   1 out of   1 | elapsed:    0.0s remaining:    0.0s\n",
      "[Parallel(n_jobs=1)]: Done 575 out of 575 | elapsed:   14.7s finished\n",
      "\n",
      "[2019-11-14 18:01:30] Features: 9/10 -- score: 0.8604651162790697[Parallel(n_jobs=1)]: Using backend SequentialBackend with 1 concurrent workers.\n",
      "[Parallel(n_jobs=1)]: Done   1 out of   1 | elapsed:    0.0s remaining:    0.0s\n",
      "[Parallel(n_jobs=1)]: Done 574 out of 574 | elapsed:   13.2s finished\n",
      "\n",
      "[2019-11-14 18:01:44] Features: 10/10 -- score: 0.8604651162790697/Users/anthony.mekhanik/anaconda3/lib/python3.6/site-packages/sklearn/metrics/classification.py:1439: UndefinedMetricWarning: Recall is ill-defined and being set to 0.0 due to no true samples.\n",
      "  'recall', 'true', average, warn_for)\n",
      "/Users/anthony.mekhanik/anaconda3/lib/python3.6/site-packages/sklearn/metrics/classification.py:1439: UndefinedMetricWarning: Recall is ill-defined and being set to 0.0 due to no true samples.\n",
      "  'recall', 'true', average, warn_for)\n",
      "/Users/anthony.mekhanik/anaconda3/lib/python3.6/site-packages/sklearn/metrics/classification.py:1439: UndefinedMetricWarning: Recall is ill-defined and being set to 0.0 due to no true samples.\n",
      "  'recall', 'true', average, warn_for)\n",
      "/Users/anthony.mekhanik/anaconda3/lib/python3.6/site-packages/sklearn/metrics/classification.py:1439: UndefinedMetricWarning: Recall is ill-defined and being set to 0.0 due to no true samples.\n",
      "  'recall', 'true', average, warn_for)\n",
      "/Users/anthony.mekhanik/anaconda3/lib/python3.6/site-packages/sklearn/metrics/classification.py:1439: UndefinedMetricWarning: Recall is ill-defined and being set to 0.0 due to no true samples.\n",
      "  'recall', 'true', average, warn_for)\n",
      "/Users/anthony.mekhanik/anaconda3/lib/python3.6/site-packages/sklearn/metrics/classification.py:1439: UndefinedMetricWarning: Recall is ill-defined and being set to 0.0 due to no true samples.\n",
      "  'recall', 'true', average, warn_for)\n",
      "/Users/anthony.mekhanik/anaconda3/lib/python3.6/site-packages/sklearn/metrics/classification.py:1439: UndefinedMetricWarning: Recall is ill-defined and being set to 0.0 due to no true samples.\n",
      "  'recall', 'true', average, warn_for)\n",
      "/Users/anthony.mekhanik/anaconda3/lib/python3.6/site-packages/sklearn/metrics/classification.py:1439: UndefinedMetricWarning: Recall is ill-defined and being set to 0.0 due to no true samples.\n",
      "  'recall', 'true', average, warn_for)\n",
      "/Users/anthony.mekhanik/anaconda3/lib/python3.6/site-packages/sklearn/metrics/classification.py:1439: UndefinedMetricWarning: Recall is ill-defined and being set to 0.0 due to no true samples.\n",
      "  'recall', 'true', average, warn_for)\n",
      "/Users/anthony.mekhanik/anaconda3/lib/python3.6/site-packages/sklearn/metrics/classification.py:1439: UndefinedMetricWarning: Recall is ill-defined and being set to 0.0 due to no true samples.\n",
      "  'recall', 'true', average, warn_for)\n",
      "/Users/anthony.mekhanik/anaconda3/lib/python3.6/site-packages/sklearn/metrics/classification.py:1439: UndefinedMetricWarning: Recall is ill-defined and being set to 0.0 due to no true samples.\n",
      "  'recall', 'true', average, warn_for)\n",
      "/Users/anthony.mekhanik/anaconda3/lib/python3.6/site-packages/sklearn/metrics/classification.py:1439: UndefinedMetricWarning: Recall is ill-defined and being set to 0.0 due to no true samples.\n",
      "  'recall', 'true', average, warn_for)\n",
      "/Users/anthony.mekhanik/anaconda3/lib/python3.6/site-packages/sklearn/metrics/classification.py:1439: UndefinedMetricWarning: Recall is ill-defined and being set to 0.0 due to no true samples.\n",
      "  'recall', 'true', average, warn_for)\n",
      "/Users/anthony.mekhanik/anaconda3/lib/python3.6/site-packages/sklearn/metrics/classification.py:1439: UndefinedMetricWarning: Recall is ill-defined and being set to 0.0 due to no true samples.\n",
      "  'recall', 'true', average, warn_for)\n",
      "/Users/anthony.mekhanik/anaconda3/lib/python3.6/site-packages/sklearn/metrics/classification.py:1439: UndefinedMetricWarning: Recall is ill-defined and being set to 0.0 due to no true samples.\n",
      "  'recall', 'true', average, warn_for)\n",
      "/Users/anthony.mekhanik/anaconda3/lib/python3.6/site-packages/sklearn/metrics/classification.py:1439: UndefinedMetricWarning: Recall is ill-defined and being set to 0.0 due to no true samples.\n",
      "  'recall', 'true', average, warn_for)\n",
      "/Users/anthony.mekhanik/anaconda3/lib/python3.6/site-packages/sklearn/metrics/classification.py:1439: UndefinedMetricWarning: Recall is ill-defined and being set to 0.0 due to no true samples.\n",
      "  'recall', 'true', average, warn_for)\n",
      "/Users/anthony.mekhanik/anaconda3/lib/python3.6/site-packages/sklearn/metrics/classification.py:1439: UndefinedMetricWarning: Recall is ill-defined and being set to 0.0 due to no true samples.\n",
      "  'recall', 'true', average, warn_for)\n",
      "/Users/anthony.mekhanik/anaconda3/lib/python3.6/site-packages/sklearn/metrics/classification.py:1439: UndefinedMetricWarning: Recall is ill-defined and being set to 0.0 due to no true samples.\n",
      "  'recall', 'true', average, warn_for)\n",
      "/Users/anthony.mekhanik/anaconda3/lib/python3.6/site-packages/sklearn/metrics/classification.py:1439: UndefinedMetricWarning: Recall is ill-defined and being set to 0.0 due to no true samples.\n",
      "  'recall', 'true', average, warn_for)\n",
      "/Users/anthony.mekhanik/anaconda3/lib/python3.6/site-packages/sklearn/metrics/classification.py:1439: UndefinedMetricWarning: Recall is ill-defined and being set to 0.0 due to no true samples.\n",
      "  'recall', 'true', average, warn_for)\n",
      "/Users/anthony.mekhanik/anaconda3/lib/python3.6/site-packages/sklearn/metrics/classification.py:1439: UndefinedMetricWarning: Recall is ill-defined and being set to 0.0 due to no true samples.\n",
      "  'recall', 'true', average, warn_for)\n",
      "/Users/anthony.mekhanik/anaconda3/lib/python3.6/site-packages/sklearn/metrics/classification.py:1439: UndefinedMetricWarning: Recall is ill-defined and being set to 0.0 due to no true samples.\n",
      "  'recall', 'true', average, warn_for)\n",
      "/Users/anthony.mekhanik/anaconda3/lib/python3.6/site-packages/sklearn/metrics/classification.py:1439: UndefinedMetricWarning: Recall is ill-defined and being set to 0.0 due to no true samples.\n",
      "  'recall', 'true', average, warn_for)\n",
      "/Users/anthony.mekhanik/anaconda3/lib/python3.6/site-packages/sklearn/metrics/classification.py:1439: UndefinedMetricWarning: Recall is ill-defined and being set to 0.0 due to no true samples.\n",
      "  'recall', 'true', average, warn_for)\n",
      "/Users/anthony.mekhanik/anaconda3/lib/python3.6/site-packages/sklearn/metrics/classification.py:1439: UndefinedMetricWarning: Recall is ill-defined and being set to 0.0 due to no true samples.\n",
      "  'recall', 'true', average, warn_for)\n",
      "/Users/anthony.mekhanik/anaconda3/lib/python3.6/site-packages/sklearn/metrics/classification.py:1439: UndefinedMetricWarning: Recall is ill-defined and being set to 0.0 due to no true samples.\n",
      "  'recall', 'true', average, warn_for)\n",
      "/Users/anthony.mekhanik/anaconda3/lib/python3.6/site-packages/sklearn/metrics/classification.py:1439: UndefinedMetricWarning: Recall is ill-defined and being set to 0.0 due to no true samples.\n",
      "  'recall', 'true', average, warn_for)\n",
      "/Users/anthony.mekhanik/anaconda3/lib/python3.6/site-packages/sklearn/metrics/classification.py:1439: UndefinedMetricWarning: Recall is ill-defined and being set to 0.0 due to no true samples.\n",
      "  'recall', 'true', average, warn_for)\n",
      "/Users/anthony.mekhanik/anaconda3/lib/python3.6/site-packages/sklearn/metrics/classification.py:1439: UndefinedMetricWarning: Recall is ill-defined and being set to 0.0 due to no true samples.\n",
      "  'recall', 'true', average, warn_for)\n",
      "/Users/anthony.mekhanik/anaconda3/lib/python3.6/site-packages/sklearn/metrics/classification.py:1439: UndefinedMetricWarning: Recall is ill-defined and being set to 0.0 due to no true samples.\n",
      "  'recall', 'true', average, warn_for)\n",
      "/Users/anthony.mekhanik/anaconda3/lib/python3.6/site-packages/sklearn/metrics/classification.py:1439: UndefinedMetricWarning: Recall is ill-defined and being set to 0.0 due to no true samples.\n",
      "  'recall', 'true', average, warn_for)\n",
      "/Users/anthony.mekhanik/anaconda3/lib/python3.6/site-packages/sklearn/metrics/classification.py:1439: UndefinedMetricWarning: Recall is ill-defined and being set to 0.0 due to no true samples.\n",
      "  'recall', 'true', average, warn_for)\n",
      "/Users/anthony.mekhanik/anaconda3/lib/python3.6/site-packages/sklearn/metrics/classification.py:1439: UndefinedMetricWarning: Recall is ill-defined and being set to 0.0 due to no true samples.\n",
      "  'recall', 'true', average, warn_for)\n",
      "/Users/anthony.mekhanik/anaconda3/lib/python3.6/site-packages/sklearn/metrics/classification.py:1439: UndefinedMetricWarning: Recall is ill-defined and being set to 0.0 due to no true samples.\n",
      "  'recall', 'true', average, warn_for)\n",
      "/Users/anthony.mekhanik/anaconda3/lib/python3.6/site-packages/sklearn/metrics/classification.py:1439: UndefinedMetricWarning: Recall is ill-defined and being set to 0.0 due to no true samples.\n",
      "  'recall', 'true', average, warn_for)\n",
      "/Users/anthony.mekhanik/anaconda3/lib/python3.6/site-packages/sklearn/metrics/classification.py:1439: UndefinedMetricWarning: Recall is ill-defined and being set to 0.0 due to no true samples.\n",
      "  'recall', 'true', average, warn_for)\n",
      "/Users/anthony.mekhanik/anaconda3/lib/python3.6/site-packages/sklearn/metrics/classification.py:1439: UndefinedMetricWarning: Recall is ill-defined and being set to 0.0 due to no true samples.\n",
      "  'recall', 'true', average, warn_for)\n",
      "/Users/anthony.mekhanik/anaconda3/lib/python3.6/site-packages/sklearn/metrics/classification.py:1439: UndefinedMetricWarning: Recall is ill-defined and being set to 0.0 due to no true samples.\n",
      "  'recall', 'true', average, warn_for)\n",
      "/Users/anthony.mekhanik/anaconda3/lib/python3.6/site-packages/sklearn/metrics/classification.py:1439: UndefinedMetricWarning: Recall is ill-defined and being set to 0.0 due to no true samples.\n",
      "  'recall', 'true', average, warn_for)\n",
      "/Users/anthony.mekhanik/anaconda3/lib/python3.6/site-packages/sklearn/metrics/classification.py:1439: UndefinedMetricWarning: Recall is ill-defined and being set to 0.0 due to no true samples.\n",
      "  'recall', 'true', average, warn_for)\n",
      "/Users/anthony.mekhanik/anaconda3/lib/python3.6/site-packages/sklearn/metrics/classification.py:1439: UndefinedMetricWarning: Recall is ill-defined and being set to 0.0 due to no true samples.\n",
      "  'recall', 'true', average, warn_for)\n",
      "/Users/anthony.mekhanik/anaconda3/lib/python3.6/site-packages/sklearn/metrics/classification.py:1439: UndefinedMetricWarning: Recall is ill-defined and being set to 0.0 due to no true samples.\n",
      "  'recall', 'true', average, warn_for)\n",
      "/Users/anthony.mekhanik/anaconda3/lib/python3.6/site-packages/sklearn/metrics/classification.py:1439: UndefinedMetricWarning: Recall is ill-defined and being set to 0.0 due to no true samples.\n",
      "  'recall', 'true', average, warn_for)\n",
      "/Users/anthony.mekhanik/anaconda3/lib/python3.6/site-packages/sklearn/metrics/classification.py:1439: UndefinedMetricWarning: Recall is ill-defined and being set to 0.0 due to no true samples.\n",
      "  'recall', 'true', average, warn_for)\n",
      "/Users/anthony.mekhanik/anaconda3/lib/python3.6/site-packages/sklearn/metrics/classification.py:1439: UndefinedMetricWarning: Recall is ill-defined and being set to 0.0 due to no true samples.\n",
      "  'recall', 'true', average, warn_for)\n",
      "/Users/anthony.mekhanik/anaconda3/lib/python3.6/site-packages/sklearn/metrics/classification.py:1439: UndefinedMetricWarning: Recall is ill-defined and being set to 0.0 due to no true samples.\n",
      "  'recall', 'true', average, warn_for)\n",
      "/Users/anthony.mekhanik/anaconda3/lib/python3.6/site-packages/sklearn/metrics/classification.py:1439: UndefinedMetricWarning: Recall is ill-defined and being set to 0.0 due to no true samples.\n",
      "  'recall', 'true', average, warn_for)\n",
      "/Users/anthony.mekhanik/anaconda3/lib/python3.6/site-packages/sklearn/metrics/classification.py:1439: UndefinedMetricWarning: Recall is ill-defined and being set to 0.0 due to no true samples.\n",
      "  'recall', 'true', average, warn_for)\n",
      "/Users/anthony.mekhanik/anaconda3/lib/python3.6/site-packages/sklearn/metrics/classification.py:1439: UndefinedMetricWarning: Recall is ill-defined and being set to 0.0 due to no true samples.\n",
      "  'recall', 'true', average, warn_for)\n",
      "/Users/anthony.mekhanik/anaconda3/lib/python3.6/site-packages/sklearn/metrics/classification.py:1439: UndefinedMetricWarning: Recall is ill-defined and being set to 0.0 due to no true samples.\n",
      "  'recall', 'true', average, warn_for)\n",
      "/Users/anthony.mekhanik/anaconda3/lib/python3.6/site-packages/sklearn/metrics/classification.py:1439: UndefinedMetricWarning: Recall is ill-defined and being set to 0.0 due to no true samples.\n",
      "  'recall', 'true', average, warn_for)\n",
      "/Users/anthony.mekhanik/anaconda3/lib/python3.6/site-packages/sklearn/metrics/classification.py:1439: UndefinedMetricWarning: Recall is ill-defined and being set to 0.0 due to no true samples.\n",
      "  'recall', 'true', average, warn_for)\n",
      "/Users/anthony.mekhanik/anaconda3/lib/python3.6/site-packages/sklearn/metrics/classification.py:1439: UndefinedMetricWarning: Recall is ill-defined and being set to 0.0 due to no true samples.\n",
      "  'recall', 'true', average, warn_for)\n",
      "/Users/anthony.mekhanik/anaconda3/lib/python3.6/site-packages/sklearn/metrics/classification.py:1439: UndefinedMetricWarning: Recall is ill-defined and being set to 0.0 due to no true samples.\n",
      "  'recall', 'true', average, warn_for)\n",
      "/Users/anthony.mekhanik/anaconda3/lib/python3.6/site-packages/sklearn/metrics/classification.py:1439: UndefinedMetricWarning: Recall is ill-defined and being set to 0.0 due to no true samples.\n",
      "  'recall', 'true', average, warn_for)\n",
      "/Users/anthony.mekhanik/anaconda3/lib/python3.6/site-packages/sklearn/metrics/classification.py:1439: UndefinedMetricWarning: Recall is ill-defined and being set to 0.0 due to no true samples.\n",
      "  'recall', 'true', average, warn_for)\n",
      "/Users/anthony.mekhanik/anaconda3/lib/python3.6/site-packages/sklearn/metrics/classification.py:1439: UndefinedMetricWarning: Recall is ill-defined and being set to 0.0 due to no true samples.\n",
      "  'recall', 'true', average, warn_for)\n",
      "/Users/anthony.mekhanik/anaconda3/lib/python3.6/site-packages/sklearn/metrics/classification.py:1439: UndefinedMetricWarning: Recall is ill-defined and being set to 0.0 due to no true samples.\n",
      "  'recall', 'true', average, warn_for)\n",
      "/Users/anthony.mekhanik/anaconda3/lib/python3.6/site-packages/sklearn/metrics/classification.py:1439: UndefinedMetricWarning: Recall is ill-defined and being set to 0.0 due to no true samples.\n",
      "  'recall', 'true', average, warn_for)\n",
      "/Users/anthony.mekhanik/anaconda3/lib/python3.6/site-packages/sklearn/metrics/classification.py:1439: UndefinedMetricWarning: Recall is ill-defined and being set to 0.0 due to no true samples.\n",
      "  'recall', 'true', average, warn_for)\n",
      "/Users/anthony.mekhanik/anaconda3/lib/python3.6/site-packages/sklearn/metrics/classification.py:1439: UndefinedMetricWarning: Recall is ill-defined and being set to 0.0 due to no true samples.\n",
      "  'recall', 'true', average, warn_for)\n",
      "/Users/anthony.mekhanik/anaconda3/lib/python3.6/site-packages/sklearn/metrics/classification.py:1439: UndefinedMetricWarning: Recall is ill-defined and being set to 0.0 due to no true samples.\n",
      "  'recall', 'true', average, warn_for)\n",
      "/Users/anthony.mekhanik/anaconda3/lib/python3.6/site-packages/sklearn/metrics/classification.py:1439: UndefinedMetricWarning: Recall is ill-defined and being set to 0.0 due to no true samples.\n",
      "  'recall', 'true', average, warn_for)\n",
      "/Users/anthony.mekhanik/anaconda3/lib/python3.6/site-packages/sklearn/metrics/classification.py:1439: UndefinedMetricWarning: Recall is ill-defined and being set to 0.0 due to no true samples.\n",
      "  'recall', 'true', average, warn_for)\n",
      "/Users/anthony.mekhanik/anaconda3/lib/python3.6/site-packages/sklearn/metrics/classification.py:1439: UndefinedMetricWarning: Recall is ill-defined and being set to 0.0 due to no true samples.\n",
      "  'recall', 'true', average, warn_for)\n",
      "/Users/anthony.mekhanik/anaconda3/lib/python3.6/site-packages/sklearn/metrics/classification.py:1439: UndefinedMetricWarning: Recall is ill-defined and being set to 0.0 due to no true samples.\n",
      "  'recall', 'true', average, warn_for)\n",
      "/Users/anthony.mekhanik/anaconda3/lib/python3.6/site-packages/sklearn/metrics/classification.py:1439: UndefinedMetricWarning: Recall is ill-defined and being set to 0.0 due to no true samples.\n",
      "  'recall', 'true', average, warn_for)\n",
      "/Users/anthony.mekhanik/anaconda3/lib/python3.6/site-packages/sklearn/metrics/classification.py:1439: UndefinedMetricWarning: Recall is ill-defined and being set to 0.0 due to no true samples.\n",
      "  'recall', 'true', average, warn_for)\n",
      "/Users/anthony.mekhanik/anaconda3/lib/python3.6/site-packages/sklearn/metrics/classification.py:1439: UndefinedMetricWarning: Recall is ill-defined and being set to 0.0 due to no true samples.\n",
      "  'recall', 'true', average, warn_for)\n",
      "/Users/anthony.mekhanik/anaconda3/lib/python3.6/site-packages/sklearn/metrics/classification.py:1439: UndefinedMetricWarning: Recall is ill-defined and being set to 0.0 due to no true samples.\n",
      "  'recall', 'true', average, warn_for)\n",
      "/Users/anthony.mekhanik/anaconda3/lib/python3.6/site-packages/sklearn/metrics/classification.py:1439: UndefinedMetricWarning: Recall is ill-defined and being set to 0.0 due to no true samples.\n",
      "  'recall', 'true', average, warn_for)\n",
      "/Users/anthony.mekhanik/anaconda3/lib/python3.6/site-packages/sklearn/metrics/classification.py:1439: UndefinedMetricWarning: Recall is ill-defined and being set to 0.0 due to no true samples.\n",
      "  'recall', 'true', average, warn_for)\n",
      "/Users/anthony.mekhanik/anaconda3/lib/python3.6/site-packages/sklearn/metrics/classification.py:1439: UndefinedMetricWarning: Recall is ill-defined and being set to 0.0 due to no true samples.\n",
      "  'recall', 'true', average, warn_for)\n",
      "/Users/anthony.mekhanik/anaconda3/lib/python3.6/site-packages/sklearn/metrics/classification.py:1439: UndefinedMetricWarning: Recall is ill-defined and being set to 0.0 due to no true samples.\n",
      "  'recall', 'true', average, warn_for)\n",
      "/Users/anthony.mekhanik/anaconda3/lib/python3.6/site-packages/sklearn/metrics/classification.py:1439: UndefinedMetricWarning: Recall is ill-defined and being set to 0.0 due to no true samples.\n",
      "  'recall', 'true', average, warn_for)\n",
      "/Users/anthony.mekhanik/anaconda3/lib/python3.6/site-packages/sklearn/metrics/classification.py:1439: UndefinedMetricWarning: Recall is ill-defined and being set to 0.0 due to no true samples.\n",
      "  'recall', 'true', average, warn_for)\n",
      "/Users/anthony.mekhanik/anaconda3/lib/python3.6/site-packages/sklearn/metrics/classification.py:1439: UndefinedMetricWarning: Recall is ill-defined and being set to 0.0 due to no true samples.\n",
      "  'recall', 'true', average, warn_for)\n",
      "/Users/anthony.mekhanik/anaconda3/lib/python3.6/site-packages/sklearn/metrics/classification.py:1439: UndefinedMetricWarning: Recall is ill-defined and being set to 0.0 due to no true samples.\n",
      "  'recall', 'true', average, warn_for)\n",
      "/Users/anthony.mekhanik/anaconda3/lib/python3.6/site-packages/sklearn/metrics/classification.py:1439: UndefinedMetricWarning: Recall is ill-defined and being set to 0.0 due to no true samples.\n",
      "  'recall', 'true', average, warn_for)\n",
      "/Users/anthony.mekhanik/anaconda3/lib/python3.6/site-packages/sklearn/metrics/classification.py:1439: UndefinedMetricWarning: Recall is ill-defined and being set to 0.0 due to no true samples.\n",
      "  'recall', 'true', average, warn_for)\n",
      "/Users/anthony.mekhanik/anaconda3/lib/python3.6/site-packages/sklearn/metrics/classification.py:1439: UndefinedMetricWarning: Recall is ill-defined and being set to 0.0 due to no true samples.\n",
      "  'recall', 'true', average, warn_for)\n",
      "/Users/anthony.mekhanik/anaconda3/lib/python3.6/site-packages/sklearn/metrics/classification.py:1439: UndefinedMetricWarning: Recall is ill-defined and being set to 0.0 due to no true samples.\n",
      "  'recall', 'true', average, warn_for)\n",
      "/Users/anthony.mekhanik/anaconda3/lib/python3.6/site-packages/sklearn/metrics/classification.py:1439: UndefinedMetricWarning: Recall is ill-defined and being set to 0.0 due to no true samples.\n",
      "  'recall', 'true', average, warn_for)\n",
      "/Users/anthony.mekhanik/anaconda3/lib/python3.6/site-packages/sklearn/metrics/classification.py:1439: UndefinedMetricWarning: Recall is ill-defined and being set to 0.0 due to no true samples.\n",
      "  'recall', 'true', average, warn_for)\n",
      "/Users/anthony.mekhanik/anaconda3/lib/python3.6/site-packages/sklearn/metrics/classification.py:1439: UndefinedMetricWarning: Recall is ill-defined and being set to 0.0 due to no true samples.\n",
      "  'recall', 'true', average, warn_for)\n",
      "/Users/anthony.mekhanik/anaconda3/lib/python3.6/site-packages/sklearn/metrics/classification.py:1439: UndefinedMetricWarning: Recall is ill-defined and being set to 0.0 due to no true samples.\n",
      "  'recall', 'true', average, warn_for)\n",
      "/Users/anthony.mekhanik/anaconda3/lib/python3.6/site-packages/sklearn/metrics/classification.py:1439: UndefinedMetricWarning: Recall is ill-defined and being set to 0.0 due to no true samples.\n",
      "  'recall', 'true', average, warn_for)\n",
      "/Users/anthony.mekhanik/anaconda3/lib/python3.6/site-packages/sklearn/metrics/classification.py:1439: UndefinedMetricWarning: Recall is ill-defined and being set to 0.0 due to no true samples.\n",
      "  'recall', 'true', average, warn_for)\n",
      "/Users/anthony.mekhanik/anaconda3/lib/python3.6/site-packages/sklearn/metrics/classification.py:1439: UndefinedMetricWarning: Recall is ill-defined and being set to 0.0 due to no true samples.\n",
      "  'recall', 'true', average, warn_for)\n",
      "/Users/anthony.mekhanik/anaconda3/lib/python3.6/site-packages/sklearn/metrics/classification.py:1439: UndefinedMetricWarning: Recall is ill-defined and being set to 0.0 due to no true samples.\n",
      "  'recall', 'true', average, warn_for)\n",
      "/Users/anthony.mekhanik/anaconda3/lib/python3.6/site-packages/sklearn/metrics/classification.py:1439: UndefinedMetricWarning: Recall is ill-defined and being set to 0.0 due to no true samples.\n",
      "  'recall', 'true', average, warn_for)\n"
     ]
    },
    {
     "name": "stdout",
     "output_type": "stream",
     "text": [
      "Sensitivity    0.633833\n",
      "Specificity    0.796300\n",
      "dtype: float64\n"
     ]
    },
    {
     "name": "stderr",
     "output_type": "stream",
     "text": [
      "/Users/anthony.mekhanik/anaconda3/lib/python3.6/site-packages/sklearn/metrics/classification.py:1439: UndefinedMetricWarning: Recall is ill-defined and being set to 0.0 due to no true samples.\n",
      "  'recall', 'true', average, warn_for)\n"
     ]
    }
   ],
   "source": [
    "for group in data:\n",
    "    xc = group[0]\n",
    "    yc = group[1]\n",
    "    shuffle = np.hstack((xc, yc.reshape(-1,1)))\n",
    "    np.random.shuffle(shuffle)\n",
    "    xc_shuffle = shuffle[:,:-1]\n",
    "    yc_shuffle = shuffle[:,-1]\n",
    "    \n",
    "    nanm = np.isnan(xc_shuffle)\n",
    "    xc_final = np.delete(xc_shuffle, np.where(np.sum(nanm, axis=0) > 0)[0], axis=1)\n",
    "    infm = np.isinf(xc_final)\n",
    "    xc_finalfinal = np.delete(xc_final, np.where(np.sum(infm, axis=0) > 0)[0], axis=1)\n",
    "    \n",
    "    sfs1 = sfs1.fit(xc_finalfinal, yc_shuffle)\n",
    "    xc_top10 = xc_finalfinal[:,sfs1.k_feature_idx_]\n",
    "    \n",
    "    all_iter_results = []\n",
    "    for i in range(100):\n",
    "        all_iter_results.append([])\n",
    "        kf = sklearn.model_selection.KFold(n_splits=10, shuffle=True)\n",
    "        for train_index, test_index in kf.split(xc_top10):\n",
    "            X_train, X_test = xc_top10[train_index], xc_top10[test_index]\n",
    "            y_train, y_test = yc_shuffle[train_index], yc_shuffle[test_index]\n",
    "\n",
    "            clf = sklearn.svm.SVC(kernel='linear')\n",
    "            clf.fit(X_train, y_train)\n",
    "            y_pred = clf.predict(X_test)\n",
    "\n",
    "            sensitivity = sklearn.metrics.recall_score(y_test, y_pred, pos_label=2)\n",
    "            specificity = sklearn.metrics.recall_score(y_test, y_pred, pos_label=1)\n",
    "            all_iter_results[i].append([sensitivity, specificity])\n",
    "            \n",
    "    clf_results = np.array(all_iter_results)\n",
    "\n",
    "    clf_iter_avg = []\n",
    "    for i in range(clf_results.shape[0]):\n",
    "        clf_iter = clf_results[i,:,:]\n",
    "        clf_iter_avg.append(np.mean(clf_iter, axis=0))\n",
    "\n",
    "    clf_df0 = pd.DataFrame(data=clf_iter_avg, columns=['Sensitivity', 'Specificity'])\n",
    "    \n",
    "    print(clf_df0.mean())"
   ]
  },
  {
   "cell_type": "code",
   "execution_count": 90,
   "metadata": {},
   "outputs": [
    {
     "data": {
      "text/plain": [
       "(2,)"
      ]
     },
     "execution_count": 90,
     "metadata": {},
     "output_type": "execute_result"
    }
   ],
   "source": [
    "np.array(clf_df0.mean()).shape"
   ]
  },
  {
   "cell_type": "code",
   "execution_count": 87,
   "metadata": {},
   "outputs": [],
   "source": [
    "kinds = ['correlation', 'partial correlation', 'tangent', 'covariance', 'precision']"
   ]
  },
  {
   "cell_type": "code",
   "execution_count": null,
   "metadata": {},
   "outputs": [
    {
     "name": "stderr",
     "output_type": "stream",
     "text": [
      "/Users/anthony.mekhanik/anaconda3/lib/python3.6/site-packages/numpy/core/_methods.py:28: RuntimeWarning: invalid value encountered in reduce\n",
      "  return umr_maximum(a, axis, None, out, keepdims, initial)\n",
      "/Users/anthony.mekhanik/anaconda3/lib/python3.6/site-packages/numpy/core/fromnumeric.py:83: RuntimeWarning: invalid value encountered in reduce\n",
      "  # This branch is needed for reductions like any which don't\n",
      "/Users/anthony.mekhanik/anaconda3/lib/python3.6/site-packages/bct/algorithms/centrality.py:642: RuntimeWarning: invalid value encountered in true_divide\n",
      "  Z[np.where(ci == i)] = (Koi - np.mean(Koi)) / np.std(Koi)\n",
      "[Parallel(n_jobs=1)]: Using backend SequentialBackend with 1 concurrent workers.\n",
      "[Parallel(n_jobs=1)]: Done   1 out of   1 | elapsed:    0.0s remaining:    0.0s\n"
     ]
    }
   ],
   "source": [
    "results_all = {}\n",
    "for kind in kinds:\n",
    "    svm_results = np.zeros((len(kinds), 2))\n",
    "    \n",
    "    conn_est = ConnectivityMeasure(kind=kind)\n",
    "    conn_matrices = conn_est.fit_transform(abide.rois_aal)\n",
    "    \n",
    "    ct_bi = np.zeros((conn_matrices.shape))\n",
    "    for i in range(ct_bi.shape[0]):\n",
    "        ct_bi[i,...][conn_matrices[i,...] >= np.percentile(conn_matrices[i,...], 80)] = 1\n",
    "        \n",
    "    clust_coef = np.zeros((num_subs,num_roi))\n",
    "    for i in range(num_subs):\n",
    "        clust_coef[i,:] = bct.clustering_coef_bu(ct_bi[i,...])\n",
    "        \n",
    "    trans = np.zeros((num_subs,1))\n",
    "    for i in range(num_subs):\n",
    "        trans[i] = bct.transitivity_bu(ct_bi[i,...])\n",
    "        \n",
    "    char_path = np.zeros((num_subs,num_roi + 4))\n",
    "    for i in range(num_subs):\n",
    "        char_path_res = bct.charpath(bct.distance_bin(ct_bi[i,...]))\n",
    "        char_path[i,:num_roi] = char_path_res[2]\n",
    "        char_path[i,num_roi] = char_path_res[0]\n",
    "        char_path[i,num_roi + 1] = char_path_res[1]\n",
    "        char_path[i,num_roi + 2] = char_path_res[3]\n",
    "        char_path[i,num_roi + 3] = char_path_res[4]\n",
    "    \n",
    "    eff = np.zeros((num_subs,num_roi + 1))\n",
    "    for i in range(num_subs):\n",
    "        eff[i,:num_roi] = bct.efficiency_bin(ct_bi[i,...], local=True)\n",
    "        eff[i,num_roi] = bct.efficiency_bin(ct_bi[i,...])\n",
    "        \n",
    "    btw_cen = np.zeros((num_subs,num_roi))\n",
    "    for i in range(num_subs):\n",
    "        btw_cen[i,:] = bct.betweenness_bin(ct_bi[i,...])\n",
    "        \n",
    "    mod_z_score = np.zeros((num_subs,num_roi))\n",
    "    part_coef = np.zeros((num_subs,num_roi))\n",
    "    for i in range(num_subs):\n",
    "        comms, _ = bct.community_louvain(ct_bi[i,...])\n",
    "\n",
    "        mod_z_score[i,:] = bct.module_degree_zscore(ct_bi[i,...], comms)\n",
    "        part_coef[i,:] = bct.participation_coef(ct_bi[i,...], comms)\n",
    "        \n",
    "    X = np.hstack((clust_coef, trans, char_path, eff, btw_cen, mod_z_score, part_coef))\n",
    "    X_a1 = X[np.logical_and(ages >= 5, ages < 10),:]\n",
    "    X_a2 = X[np.logical_and(ages >= 10, ages < 15),:]\n",
    "    X_a3 = X[np.logical_and(ages >= 15, ages < 20),:]\n",
    "    X_a4 = X[np.logical_and(ages >= 20, ages < 30),:]\n",
    "    X_a5 = X[np.logical_and(ages >= 30, ages < 65),:]\n",
    "\n",
    "    y_a1 = y[np.logical_and(ages >= 5, ages < 10)]\n",
    "    y_a2 = y[np.logical_and(ages >= 10, ages < 15)]\n",
    "    y_a3 = y[np.logical_and(ages >= 15, ages < 20)]\n",
    "    y_a4 = y[np.logical_and(ages >= 20, ages < 30)]\n",
    "    y_a5 = y[np.logical_and(ages >= 30, ages < 65)]\n",
    "    \n",
    "    data = [(X_a1, y_a1), (X_a2, y_a2), (X_a3, y_a3), (X_a4, y_a4), (X_a5, y_a5)]\n",
    "    for g, group in enumerate(data):\n",
    "        xc = group[0]\n",
    "        yc = group[1]\n",
    "        shuffle = np.hstack((xc, yc.reshape(-1,1)))\n",
    "        np.random.shuffle(shuffle)\n",
    "        xc_shuffle = shuffle[:,:-1]\n",
    "        yc_shuffle = shuffle[:,-1]\n",
    "\n",
    "        nanm = np.isnan(xc_shuffle)\n",
    "        xc_final = np.delete(xc_shuffle, np.where(np.sum(nanm, axis=0) > 0)[0], axis=1)\n",
    "        infm = np.isinf(xc_final)\n",
    "        xc_finalfinal = np.delete(xc_final, np.where(np.sum(infm, axis=0) > 0)[0], axis=1)\n",
    "\n",
    "        sfs1 = sfs1.fit(xc_finalfinal, yc_shuffle)\n",
    "        xc_top10 = xc_finalfinal[:,sfs1.k_feature_idx_]\n",
    "\n",
    "        all_iter_results = []\n",
    "        for i in range(100):\n",
    "            all_iter_results.append([])\n",
    "            kf = sklearn.model_selection.KFold(n_splits=10, shuffle=True)\n",
    "            for train_index, test_index in kf.split(xc_top10):\n",
    "                X_train, X_test = xc_top10[train_index], xc_top10[test_index]\n",
    "                y_train, y_test = yc_shuffle[train_index], yc_shuffle[test_index]\n",
    "\n",
    "                clf = sklearn.svm.SVC(kernel='linear')\n",
    "                clf.fit(X_train, y_train)\n",
    "                y_pred = clf.predict(X_test)\n",
    "\n",
    "                sensitivity = sklearn.metrics.recall_score(y_test, y_pred, pos_label=2)\n",
    "                specificity = sklearn.metrics.recall_score(y_test, y_pred, pos_label=1)\n",
    "                all_iter_results[i].append([sensitivity, specificity])\n",
    "\n",
    "        clf_results = np.array(all_iter_results)\n",
    "\n",
    "        clf_iter_avg = []\n",
    "        for i in range(clf_results.shape[0]):\n",
    "            clf_iter = clf_results[i,:,:]\n",
    "            clf_iter_avg.append(np.mean(clf_iter, axis=0))\n",
    "\n",
    "        clf_df0 = pd.DataFrame(data=clf_iter_avg, columns=['Sensitivity', 'Specificity'])\n",
    "        svm_results[g,:] = np.array(clf_df0.mean()).reshape(-1,1)\n",
    "        \n",
    "    results_all[kind] = svm_results"
   ]
  },
  {
   "cell_type": "code",
   "execution_count": null,
   "metadata": {},
   "outputs": [],
   "source": []
  }
 ],
 "metadata": {
  "kernelspec": {
   "display_name": "Python 3",
   "language": "python",
   "name": "python3"
  },
  "language_info": {
   "codemirror_mode": {
    "name": "ipython",
    "version": 3
   },
   "file_extension": ".py",
   "mimetype": "text/x-python",
   "name": "python",
   "nbconvert_exporter": "python",
   "pygments_lexer": "ipython3",
   "version": "3.6.7"
  }
 },
 "nbformat": 4,
 "nbformat_minor": 2
}
