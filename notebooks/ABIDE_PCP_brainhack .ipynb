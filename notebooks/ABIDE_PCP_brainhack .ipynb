{
 "cells": [
  {
   "cell_type": "code",
   "execution_count": 2,
   "metadata": {},
   "outputs": [],
   "source": [
    "import matplotlib.pyplot as plt\n",
    "import numpy as np\n",
    "import pandas as pd\n",
    "import os\n",
    "import nilearn\n",
    "from nilearn.connectome import ConnectivityMeasure\n",
    "# import matplotlib as mpl\n",
    "# mpl.use('Agg')"
   ]
  },
  {
   "cell_type": "code",
   "execution_count": 66,
   "metadata": {},
   "outputs": [],
   "source": [
    "sites = ['CALTECH', 'CMUA', 'KKI', 'LEUVEN1', 'LEUVEN2', 'MAXMUNA', 'MAXMUNB', \\\n",
    "         'MAXMUNC', 'MAXMUND', 'NYU', 'OHSU', 'OLIN', 'PITT', 'SBL', 'SDSU', \\\n",
    "         'STANFORD', 'TRINITY', 'UCLA1', 'UCLA2', 'UM1', 'UM2', 'USM', 'YALE']"
   ]
  },
  {
   "cell_type": "code",
   "execution_count": 67,
   "metadata": {},
   "outputs": [
    {
     "name": "stderr",
     "output_type": "stream",
     "text": [
      "/Users/anish.simhal/anaconda3/envs/neuro/lib/python3.7/site-packages/numpy/lib/npyio.py:2322: VisibleDeprecationWarning: Reading unicode strings without specifying the encoding argument is deprecated. Set the encoding, use None for the system default.\n",
      "  output = genfromtxt(fname, **kwargs)\n"
     ]
    }
   ],
   "source": [
    "abide = nilearn.datasets.fetch_abide_pcp(derivatives=['rois_aal'], SITE_ID=sites, pipeline='cpac')"
   ]
  },
  {
   "cell_type": "code",
   "execution_count": 68,
   "metadata": {},
   "outputs": [],
   "source": [
    "foo = abide.phenotypic['DX_GROUP']"
   ]
  },
  {
   "cell_type": "code",
   "execution_count": 69,
   "metadata": {},
   "outputs": [
    {
     "data": {
      "text/plain": [
       "553"
      ]
     },
     "execution_count": 69,
     "metadata": {},
     "output_type": "execute_result"
    }
   ],
   "source": [
    "len(foo)"
   ]
  },
  {
   "cell_type": "code",
   "execution_count": 55,
   "metadata": {},
   "outputs": [],
   "source": [
    "ages = abide.phenotypic['AGE_AT_SCAN']"
   ]
  },
  {
   "cell_type": "code",
   "execution_count": 56,
   "metadata": {},
   "outputs": [],
   "source": [
    "age_groups = [np.sum(np.logical_and(ages >= 5, ages <= 10)), np.sum(np.logical_and(ages >= 10, ages <= 15)), np.sum(np.logical_and(ages >= 15, ages <= 20)),\n",
    "              np.sum(np.logical_and(ages >= 20, ages <= 30)), np.sum(np.logical_and(ages >= 30, ages <= 65))]"
   ]
  },
  {
   "cell_type": "code",
   "execution_count": 57,
   "metadata": {},
   "outputs": [
    {
     "data": {
      "text/plain": [
       "[88, 203, 124, 107, 43]"
      ]
     },
     "execution_count": 57,
     "metadata": {},
     "output_type": "execute_result"
    }
   ],
   "source": [
    "age_groups"
   ]
  },
  {
   "cell_type": "code",
   "execution_count": 58,
   "metadata": {},
   "outputs": [
    {
     "data": {
      "text/plain": [
       "553"
      ]
     },
     "execution_count": 58,
     "metadata": {},
     "output_type": "execute_result"
    }
   ],
   "source": [
    "len(ages)"
   ]
  },
  {
   "cell_type": "code",
   "execution_count": 8,
   "metadata": {},
   "outputs": [
    {
     "name": "stderr",
     "output_type": "stream",
     "text": [
      "/Users/anish.simhal/anaconda3/envs/neuro/lib/python3.7/site-packages/ipykernel_launcher.py:2: UserWarning: In Matplotlib 3.3 individual lines on a stem plot will be added as a LineCollection instead of individual lines. This significantly improves the performance of a stem plot. To remove this warning and switch to the new behaviour, set the \"use_line_collection\" keyword argument to True.\n",
      "  \n"
     ]
    },
    {
     "data": {
      "text/plain": [
       "<StemContainer object of 3 artists>"
      ]
     },
     "execution_count": 8,
     "metadata": {},
     "output_type": "execute_result"
    },
    {
     "data": {
      "image/png": "[encoded data removed]",
      "text/plain": [
       "<Figure size 792x792 with 1 Axes>"
      ]
     },
     "metadata": {
      "needs_background": "light"
     },
     "output_type": "display_data"
    }
   ],
   "source": [
    "plt.figure(figsize=(11,11))\n",
    "plt.stem(age_groups)"
   ]
  },
  {
   "cell_type": "code",
   "execution_count": 9,
   "metadata": {
    "scrolled": true
   },
   "outputs": [
    {
     "data": {
      "text/plain": [
       "(553, 116, 116)"
      ]
     },
     "execution_count": 9,
     "metadata": {},
     "output_type": "execute_result"
    }
   ],
   "source": [
    "conn_est = ConnectivityMeasure(kind='partial correlation')\n",
    "conn_matrices = conn_est.fit_transform(abide.rois_aal)\n",
    "conn_matrices.shape"
   ]
  },
  {
   "cell_type": "code",
   "execution_count": 28,
   "metadata": {},
   "outputs": [],
   "source": [
    "import bct"
   ]
  },
  {
   "cell_type": "code",
   "execution_count": 29,
   "metadata": {},
   "outputs": [
    {
     "data": {
      "text/plain": [
       "0.0556746310533895"
      ]
     },
     "execution_count": 29,
     "metadata": {},
     "output_type": "execute_result"
    }
   ],
   "source": [
    "np.percentile(conn_matrices[0,...], 80)"
   ]
  },
  {
   "cell_type": "code",
   "execution_count": 30,
   "metadata": {},
   "outputs": [],
   "source": [
    "num_subs = conn_matrices.shape[0]\n",
    "num_roi = conn_matrices.shape[1]"
   ]
  },
  {
   "cell_type": "code",
   "execution_count": 31,
   "metadata": {},
   "outputs": [],
   "source": [
    "ct_bi = np.zeros((conn_matrices.shape))\n",
    "for i in range(ct_bi.shape[0]):\n",
    "    ct_bi[i,...][conn_matrices[i,...] >= np.percentile(conn_matrices[i,...], 80)] = 1"
   ]
  },
  {
   "cell_type": "code",
   "execution_count": 32,
   "metadata": {},
   "outputs": [],
   "source": [
    "clust_coef = np.zeros((num_subs,num_roi))\n",
    "\n",
    "for i in range(num_subs):\n",
    "    clust_coef[i,:] = bct.clustering_coef_bu(ct_bi[i,...])"
   ]
  },
  {
   "cell_type": "code",
   "execution_count": 33,
   "metadata": {},
   "outputs": [],
   "source": [
    "trans = np.zeros((num_subs,1))\n",
    "\n",
    "for i in range(num_subs):\n",
    "    trans[i] = bct.transitivity_bu(ct_bi[i,...])"
   ]
  },
  {
   "cell_type": "code",
   "execution_count": 34,
   "metadata": {},
   "outputs": [],
   "source": [
    "char_path = np.zeros((num_subs,num_roi + 4))\n",
    "\n",
    "for i in range(num_subs):\n",
    "    char_path_res = bct.charpath(bct.distance_bin(ct_bi[i,...]))\n",
    "    char_path[i,:num_roi] = char_path_res[2]\n",
    "    char_path[i,num_roi] = char_path_res[0]\n",
    "    char_path[i,num_roi + 1] = char_path_res[1]\n",
    "    char_path[i,num_roi + 2] = char_path_res[3]\n",
    "    char_path[i,num_roi + 3] = char_path_res[4]"
   ]
  },
  {
   "cell_type": "code",
   "execution_count": 35,
   "metadata": {},
   "outputs": [],
   "source": [
    "eff = np.zeros((num_subs,num_roi + 1))\n",
    "\n",
    "for i in range(num_subs):\n",
    "    eff[i,:num_roi] = bct.efficiency_bin(ct_bi[i,...], local=True)\n",
    "    eff[i,num_roi] = bct.efficiency_bin(ct_bi[i,...])"
   ]
  },
  {
   "cell_type": "code",
   "execution_count": 36,
   "metadata": {},
   "outputs": [],
   "source": [
    "btw_cen = np.zeros((num_subs,num_roi))\n",
    "\n",
    "for i in range(num_subs):\n",
    "    btw_cen[i,:] = bct.betweenness_bin(ct_bi[i,...])"
   ]
  },
  {
   "cell_type": "code",
   "execution_count": 37,
   "metadata": {},
   "outputs": [],
   "source": [
    "mod_z_score = np.zeros((num_subs,num_roi))\n",
    "part_coef = np.zeros((num_subs,num_roi))\n",
    "\n",
    "for i in range(num_subs):\n",
    "    comms, _ = bct.community_louvain(ct_bi[i,...])\n",
    "    \n",
    "    mod_z_score[i,:] = bct.module_degree_zscore(ct_bi[i,...], comms)\n",
    "    part_coef[i,:] = bct.participation_coef(ct_bi[i,...], comms)"
   ]
  },
  {
   "cell_type": "code",
   "execution_count": 38,
   "metadata": {},
   "outputs": [],
   "source": [
    "X = np.hstack((clust_coef, trans, char_path, eff, btw_cen, mod_z_score, part_coef))"
   ]
  },
  {
   "cell_type": "code",
   "execution_count": 39,
   "metadata": {},
   "outputs": [
    {
     "data": {
      "text/plain": [
       "(553, 702)"
      ]
     },
     "execution_count": 39,
     "metadata": {},
     "output_type": "execute_result"
    }
   ],
   "source": [
    "X.shape"
   ]
  },
  {
   "cell_type": "code",
   "execution_count": 40,
   "metadata": {},
   "outputs": [],
   "source": [
    "import sklearn\n",
    "from mlxtend.feature_selection import SequentialFeatureSelector as SFS"
   ]
  },
  {
   "cell_type": "code",
   "execution_count": 41,
   "metadata": {},
   "outputs": [],
   "source": [
    "y = abide.phenotypic['DX_GROUP']"
   ]
  },
  {
   "cell_type": "code",
   "execution_count": 42,
   "metadata": {},
   "outputs": [],
   "source": [
    "shuffle = np.hstack((X, y.reshape(-1,1)))\n",
    "np.random.shuffle(shuffle)\n",
    "X_shuffle = shuffle[:,:-1]\n",
    "y_shuffle = shuffle[:,-1]"
   ]
  },
  {
   "cell_type": "code",
   "execution_count": 43,
   "metadata": {},
   "outputs": [
    {
     "name": "stdout",
     "output_type": "stream",
     "text": [
      "(553, 702) (553,)\n"
     ]
    }
   ],
   "source": [
    "print(X_shuffle.shape, y_shuffle.shape)"
   ]
  },
  {
   "cell_type": "code",
   "execution_count": 44,
   "metadata": {},
   "outputs": [
    {
     "data": {
      "text/plain": [
       "118"
      ]
     },
     "execution_count": 44,
     "metadata": {},
     "output_type": "execute_result"
    }
   ],
   "source": [
    "nanm = np.isnan(X_shuffle)\n",
    "len(np.where(np.sum(nanm, axis=0) > 0)[0])"
   ]
  },
  {
   "cell_type": "code",
   "execution_count": 45,
   "metadata": {},
   "outputs": [],
   "source": [
    "X_final = np.delete(X_shuffle, np.where(np.sum(nanm, axis=0) > 0)[0], axis=1)"
   ]
  },
  {
   "cell_type": "code",
   "execution_count": 46,
   "metadata": {},
   "outputs": [
    {
     "data": {
      "text/plain": [
       "1"
      ]
     },
     "execution_count": 46,
     "metadata": {},
     "output_type": "execute_result"
    }
   ],
   "source": [
    "nanm = np.isinf(X_final)\n",
    "len(np.where(np.sum(nanm, axis=0) > 0)[0])"
   ]
  },
  {
   "cell_type": "code",
   "execution_count": 47,
   "metadata": {},
   "outputs": [],
   "source": [
    "X_finalfinal = np.delete(X_final, np.where(np.sum(nanm, axis=0) > 0)[0], axis=1)"
   ]
  },
  {
   "cell_type": "code",
   "execution_count": 48,
   "metadata": {},
   "outputs": [
    {
     "data": {
      "text/plain": [
       "(553, 583)"
      ]
     },
     "execution_count": 48,
     "metadata": {},
     "output_type": "execute_result"
    }
   ],
   "source": [
    "X_finalfinal.shape"
   ]
  },
  {
   "cell_type": "code",
   "execution_count": 49,
   "metadata": {},
   "outputs": [
    {
     "name": "stderr",
     "output_type": "stream",
     "text": [
      "[Parallel(n_jobs=1)]: Using backend SequentialBackend with 1 concurrent workers.\n",
      "[Parallel(n_jobs=1)]: Done   1 out of   1 | elapsed:    0.0s remaining:    0.0s\n",
      "\n",
      "STOPPING EARLY DUE TO KEYBOARD INTERRUPT..."
     ]
    }
   ],
   "source": [
    "svm = sklearn.svm.SVC(kernel='linear')\n",
    "\n",
    "sfs1 = SFS(svm, \n",
    "           k_features=10, \n",
    "           forward=True, \n",
    "           floating=False, \n",
    "           verbose=2,\n",
    "           scoring='accuracy',\n",
    "           cv=0)\n",
    "\n",
    "sfs1 = sfs1.fit(X_finalfinal, y_shuffle)"
   ]
  },
  {
   "cell_type": "code",
   "execution_count": 50,
   "metadata": {},
   "outputs": [
    {
     "data": {
      "text/plain": [
       "()"
      ]
     },
     "execution_count": 50,
     "metadata": {},
     "output_type": "execute_result"
    }
   ],
   "source": [
    "sfs1.k_feature_idx_"
   ]
  },
  {
   "cell_type": "code",
   "execution_count": 51,
   "metadata": {},
   "outputs": [
    {
     "data": {
      "text/plain": [
       "(553, 0)"
      ]
     },
     "execution_count": 51,
     "metadata": {},
     "output_type": "execute_result"
    }
   ],
   "source": [
    "X_top10 = X_finalfinal[:,sfs1.k_feature_idx_]\n",
    "X_top10.shape"
   ]
  },
  {
   "cell_type": "code",
   "execution_count": 52,
   "metadata": {},
   "outputs": [
    {
     "ename": "ValueError",
     "evalue": "Found array with 0 feature(s) (shape=(497, 0)) while a minimum of 1 is required.",
     "output_type": "error",
     "traceback": [
      "\u001b[0;31m---------------------------------------------------------------------------\u001b[0m",
      "\u001b[0;31mValueError\u001b[0m                                Traceback (most recent call last)",
      "\u001b[0;32m<ipython-input-52-357fd6a20209>\u001b[0m in \u001b[0;36m<module>\u001b[0;34m\u001b[0m\n\u001b[1;32m      8\u001b[0m \u001b[0;34m\u001b[0m\u001b[0m\n\u001b[1;32m      9\u001b[0m         \u001b[0mclf\u001b[0m \u001b[0;34m=\u001b[0m \u001b[0msklearn\u001b[0m\u001b[0;34m.\u001b[0m\u001b[0msvm\u001b[0m\u001b[0;34m.\u001b[0m\u001b[0mSVC\u001b[0m\u001b[0;34m(\u001b[0m\u001b[0mkernel\u001b[0m\u001b[0;34m=\u001b[0m\u001b[0;34m'linear'\u001b[0m\u001b[0;34m)\u001b[0m\u001b[0;34m\u001b[0m\u001b[0;34m\u001b[0m\u001b[0m\n\u001b[0;32m---> 10\u001b[0;31m         \u001b[0mclf\u001b[0m\u001b[0;34m.\u001b[0m\u001b[0mfit\u001b[0m\u001b[0;34m(\u001b[0m\u001b[0mX_train\u001b[0m\u001b[0;34m,\u001b[0m \u001b[0my_train\u001b[0m\u001b[0;34m)\u001b[0m\u001b[0;34m\u001b[0m\u001b[0;34m\u001b[0m\u001b[0m\n\u001b[0m\u001b[1;32m     11\u001b[0m         \u001b[0my_pred\u001b[0m \u001b[0;34m=\u001b[0m \u001b[0mclf\u001b[0m\u001b[0;34m.\u001b[0m\u001b[0mpredict\u001b[0m\u001b[0;34m(\u001b[0m\u001b[0mX_test\u001b[0m\u001b[0;34m)\u001b[0m\u001b[0;34m\u001b[0m\u001b[0;34m\u001b[0m\u001b[0m\n\u001b[1;32m     12\u001b[0m \u001b[0;34m\u001b[0m\u001b[0m\n",
      "\u001b[0;32m~/anaconda3/envs/neuro/lib/python3.7/site-packages/sklearn/svm/base.py\u001b[0m in \u001b[0;36mfit\u001b[0;34m(self, X, y, sample_weight)\u001b[0m\n\u001b[1;32m    144\u001b[0m         X, y = check_X_y(X, y, dtype=np.float64,\n\u001b[1;32m    145\u001b[0m                          \u001b[0morder\u001b[0m\u001b[0;34m=\u001b[0m\u001b[0;34m'C'\u001b[0m\u001b[0;34m,\u001b[0m \u001b[0maccept_sparse\u001b[0m\u001b[0;34m=\u001b[0m\u001b[0;34m'csr'\u001b[0m\u001b[0;34m,\u001b[0m\u001b[0;34m\u001b[0m\u001b[0;34m\u001b[0m\u001b[0m\n\u001b[0;32m--> 146\u001b[0;31m                          accept_large_sparse=False)\n\u001b[0m\u001b[1;32m    147\u001b[0m         \u001b[0my\u001b[0m \u001b[0;34m=\u001b[0m \u001b[0mself\u001b[0m\u001b[0;34m.\u001b[0m\u001b[0m_validate_targets\u001b[0m\u001b[0;34m(\u001b[0m\u001b[0my\u001b[0m\u001b[0;34m)\u001b[0m\u001b[0;34m\u001b[0m\u001b[0;34m\u001b[0m\u001b[0m\n\u001b[1;32m    148\u001b[0m \u001b[0;34m\u001b[0m\u001b[0m\n",
      "\u001b[0;32m~/anaconda3/envs/neuro/lib/python3.7/site-packages/sklearn/utils/validation.py\u001b[0m in \u001b[0;36mcheck_X_y\u001b[0;34m(X, y, accept_sparse, accept_large_sparse, dtype, order, copy, force_all_finite, ensure_2d, allow_nd, multi_output, ensure_min_samples, ensure_min_features, y_numeric, warn_on_dtype, estimator)\u001b[0m\n\u001b[1;32m    717\u001b[0m                     \u001b[0mensure_min_features\u001b[0m\u001b[0;34m=\u001b[0m\u001b[0mensure_min_features\u001b[0m\u001b[0;34m,\u001b[0m\u001b[0;34m\u001b[0m\u001b[0;34m\u001b[0m\u001b[0m\n\u001b[1;32m    718\u001b[0m                     \u001b[0mwarn_on_dtype\u001b[0m\u001b[0;34m=\u001b[0m\u001b[0mwarn_on_dtype\u001b[0m\u001b[0;34m,\u001b[0m\u001b[0;34m\u001b[0m\u001b[0;34m\u001b[0m\u001b[0m\n\u001b[0;32m--> 719\u001b[0;31m                     estimator=estimator)\n\u001b[0m\u001b[1;32m    720\u001b[0m     \u001b[0;32mif\u001b[0m \u001b[0mmulti_output\u001b[0m\u001b[0;34m:\u001b[0m\u001b[0;34m\u001b[0m\u001b[0;34m\u001b[0m\u001b[0m\n\u001b[1;32m    721\u001b[0m         y = check_array(y, 'csr', force_all_finite=True, ensure_2d=False,\n",
      "\u001b[0;32m~/anaconda3/envs/neuro/lib/python3.7/site-packages/sklearn/utils/validation.py\u001b[0m in \u001b[0;36mcheck_array\u001b[0;34m(array, accept_sparse, accept_large_sparse, dtype, order, copy, force_all_finite, ensure_2d, allow_nd, ensure_min_samples, ensure_min_features, warn_on_dtype, estimator)\u001b[0m\n\u001b[1;32m    556\u001b[0m                              \u001b[0;34m\" a minimum of %d is required%s.\"\u001b[0m\u001b[0;34m\u001b[0m\u001b[0;34m\u001b[0m\u001b[0m\n\u001b[1;32m    557\u001b[0m                              % (n_features, array.shape, ensure_min_features,\n\u001b[0;32m--> 558\u001b[0;31m                                 context))\n\u001b[0m\u001b[1;32m    559\u001b[0m \u001b[0;34m\u001b[0m\u001b[0m\n\u001b[1;32m    560\u001b[0m     \u001b[0;32mif\u001b[0m \u001b[0mwarn_on_dtype\u001b[0m \u001b[0;32mand\u001b[0m \u001b[0mdtype_orig\u001b[0m \u001b[0;32mis\u001b[0m \u001b[0;32mnot\u001b[0m \u001b[0;32mNone\u001b[0m \u001b[0;32mand\u001b[0m \u001b[0marray\u001b[0m\u001b[0;34m.\u001b[0m\u001b[0mdtype\u001b[0m \u001b[0;34m!=\u001b[0m \u001b[0mdtype_orig\u001b[0m\u001b[0;34m:\u001b[0m\u001b[0;34m\u001b[0m\u001b[0;34m\u001b[0m\u001b[0m\n",
      "\u001b[0;31mValueError\u001b[0m: Found array with 0 feature(s) (shape=(497, 0)) while a minimum of 1 is required."
     ]
    }
   ],
   "source": [
    "all_iter_results = []\n",
    "for i in range(100):\n",
    "    all_iter_results.append([])\n",
    "    kf = sklearn.model_selection.KFold(n_splits=10, shuffle=True)\n",
    "    for train_index, test_index in kf.split(X_top10):\n",
    "        X_train, X_test = X_top10[train_index], X_top10[test_index]\n",
    "        y_train, y_test = y_shuffle[train_index], y_shuffle[test_index]\n",
    "\n",
    "        clf = sklearn.svm.SVC(kernel='linear')\n",
    "        clf.fit(X_train, y_train)\n",
    "        y_pred = clf.predict(X_test)\n",
    "\n",
    "        sensitivity = sklearn.metrics.recall_score(y_test, y_pred, pos_label=2)\n",
    "        specificity = sklearn.metrics.recall_score(y_test, y_pred, pos_label=1)\n",
    "        all_iter_results[i].append([sensitivity, specificity])"
   ]
  },
  {
   "cell_type": "code",
   "execution_count": null,
   "metadata": {},
   "outputs": [],
   "source": [
    "clf_results = np.array(all_iter_results)\n",
    "\n",
    "clf_iter_avg = []\n",
    "for i in range(clf_results.shape[0]):\n",
    "    clf_iter = clf_results[i,:,:]\n",
    "    clf_iter_avg.append(np.mean(clf_iter, axis=0))\n",
    "    \n",
    "clf_df0 = pd.DataFrame(data=clf_iter_avg, columns=['Sensitivity', 'Specificity'])"
   ]
  },
  {
   "cell_type": "code",
   "execution_count": null,
   "metadata": {},
   "outputs": [],
   "source": [
    "clf_df0.mean()"
   ]
  },
  {
   "cell_type": "code",
   "execution_count": null,
   "metadata": {},
   "outputs": [],
   "source": [
    "X_a1 = X[np.logical_and(ages >= 5, ages < 10),:]\n",
    "X_a2 = X[np.logical_and(ages >= 10, ages < 15),:]\n",
    "X_a3 = X[np.logical_and(ages >= 15, ages < 20),:]\n",
    "X_a4 = X[np.logical_and(ages >= 20, ages < 30),:]\n",
    "X_a5 = X[np.logical_and(ages >= 30, ages < 65),:]\n",
    "\n",
    "y_a1 = y[np.logical_and(ages >= 5, ages < 10)]\n",
    "y_a2 = y[np.logical_and(ages >= 10, ages < 15)]\n",
    "y_a3 = y[np.logical_and(ages >= 15, ages < 20)]\n",
    "y_a4 = y[np.logical_and(ages >= 20, ages < 30)]\n",
    "y_a5 = y[np.logical_and(ages >= 30, ages < 65)]"
   ]
  },
  {
   "cell_type": "code",
   "execution_count": null,
   "metadata": {},
   "outputs": [],
   "source": [
    "data = [(X_a1, y_a1), (X_a2, y_a2), (X_a3, y_a3), (X_a4, y_a4), (X_a5, y_a5)]"
   ]
  },
  {
   "cell_type": "code",
   "execution_count": null,
   "metadata": {},
   "outputs": [],
   "source": [
    "shuffle = np.hstack((X, y.reshape(-1,1)))\n",
    "np.random.shuffle(shuffle)\n",
    "X_shuffle = shuffle[:,:-1]\n",
    "y_shuffle = shuffle[:,-1]\n",
    "\n",
    "nanm = np.isnan(X_shuffle)\n",
    "X_final = np.delete(X_shuffle, np.where(np.sum(nanm, axis=0) > 0)[0], axis=1)\n",
    "infm = np.isinf(X_final)\n",
    "X_finalfinal = np.delete(X_final, np.where(np.sum(infm, axis=0) > 0)[0], axis=1)"
   ]
  },
  {
   "cell_type": "code",
   "execution_count": null,
   "metadata": {},
   "outputs": [],
   "source": [
    "for group in data:\n",
    "    xc = group[0]\n",
    "    yc = group[1]\n",
    "    shuffle = np.hstack((xc, yc.reshape(-1,1)))\n",
    "    np.random.shuffle(shuffle)\n",
    "    xc_shuffle = shuffle[:,:-1]\n",
    "    yc_shuffle = shuffle[:,-1]\n",
    "    \n",
    "    nanm = np.isnan(xc_shuffle)\n",
    "    xc_final = np.delete(xc_shuffle, np.where(np.sum(nanm, axis=0) > 0)[0], axis=1)\n",
    "    infm = np.isinf(xc_final)\n",
    "    xc_finalfinal = np.delete(xc_final, np.where(np.sum(infm, axis=0) > 0)[0], axis=1)\n",
    "    \n",
    "    sfs1 = sfs1.fit(xc_finalfinal, yc_shuffle)\n",
    "    xc_top10 = xc_finalfinal[:,sfs1.k_feature_idx_]\n",
    "    \n",
    "    all_iter_results = []\n",
    "    for i in range(100):\n",
    "        all_iter_results.append([])\n",
    "        kf = sklearn.model_selection.KFold(n_splits=10, shuffle=True)\n",
    "        for train_index, test_index in kf.split(xc_top10):\n",
    "            X_train, X_test = xc_top10[train_index], xc_top10[test_index]\n",
    "            y_train, y_test = yc_shuffle[train_index], yc_shuffle[test_index]\n",
    "\n",
    "            clf = sklearn.svm.SVC(kernel='linear')\n",
    "            clf.fit(X_train, y_train)\n",
    "            y_pred = clf.predict(X_test)\n",
    "\n",
    "            sensitivity = sklearn.metrics.recall_score(y_test, y_pred, pos_label=2)\n",
    "            specificity = sklearn.metrics.recall_score(y_test, y_pred, pos_label=1)\n",
    "            all_iter_results[i].append([sensitivity, specificity])\n",
    "            \n",
    "    clf_results = np.array(all_iter_results)\n",
    "\n",
    "    clf_iter_avg = []\n",
    "    for i in range(clf_results.shape[0]):\n",
    "        clf_iter = clf_results[i,:,:]\n",
    "        clf_iter_avg.append(np.mean(clf_iter, axis=0))\n",
    "\n",
    "    clf_df0 = pd.DataFrame(data=clf_iter_avg, columns=['Sensitivity', 'Specificity'])\n",
    "    \n",
    "    print(clf_df0.mean())"
   ]
  },
  {
   "cell_type": "code",
   "execution_count": null,
   "metadata": {},
   "outputs": [],
   "source": [
    "np.array(clf_df0.mean()).shape"
   ]
  },
  {
   "cell_type": "code",
   "execution_count": null,
   "metadata": {},
   "outputs": [],
   "source": [
    "kinds = ['correlation', 'partial correlation', 'tangent', 'covariance', 'precision']"
   ]
  },
  {
   "cell_type": "code",
   "execution_count": null,
   "metadata": {},
   "outputs": [],
   "source": [
    "results_all = {}\n",
    "for kind in kinds:\n",
    "    svm_results = np.zeros((len(kinds), 2))\n",
    "    \n",
    "    conn_est = ConnectivityMeasure(kind=kind)\n",
    "    conn_matrices = conn_est.fit_transform(abide.rois_aal)\n",
    "    \n",
    "    ct_bi = np.zeros((conn_matrices.shape))\n",
    "    for i in range(ct_bi.shape[0]):\n",
    "        ct_bi[i,...][conn_matrices[i,...] >= np.percentile(conn_matrices[i,...], 80)] = 1\n",
    "        \n",
    "    clust_coef = np.zeros((num_subs,num_roi))\n",
    "    for i in range(num_subs):\n",
    "        clust_coef[i,:] = bct.clustering_coef_bu(ct_bi[i,...])\n",
    "        \n",
    "    trans = np.zeros((num_subs,1))\n",
    "    for i in range(num_subs):\n",
    "        trans[i] = bct.transitivity_bu(ct_bi[i,...])\n",
    "        \n",
    "    char_path = np.zeros((num_subs,num_roi + 4))\n",
    "    for i in range(num_subs):\n",
    "        char_path_res = bct.charpath(bct.distance_bin(ct_bi[i,...]))\n",
    "        char_path[i,:num_roi] = char_path_res[2]\n",
    "        char_path[i,num_roi] = char_path_res[0]\n",
    "        char_path[i,num_roi + 1] = char_path_res[1]\n",
    "        char_path[i,num_roi + 2] = char_path_res[3]\n",
    "        char_path[i,num_roi + 3] = char_path_res[4]\n",
    "    \n",
    "    eff = np.zeros((num_subs,num_roi + 1))\n",
    "    for i in range(num_subs):\n",
    "        eff[i,:num_roi] = bct.efficiency_bin(ct_bi[i,...], local=True)\n",
    "        eff[i,num_roi] = bct.efficiency_bin(ct_bi[i,...])\n",
    "        \n",
    "    btw_cen = np.zeros((num_subs,num_roi))\n",
    "    for i in range(num_subs):\n",
    "        btw_cen[i,:] = bct.betweenness_bin(ct_bi[i,...])\n",
    "        \n",
    "    mod_z_score = np.zeros((num_subs,num_roi))\n",
    "    part_coef = np.zeros((num_subs,num_roi))\n",
    "    for i in range(num_subs):\n",
    "        comms, _ = bct.community_louvain(ct_bi[i,...])\n",
    "\n",
    "        mod_z_score[i,:] = bct.module_degree_zscore(ct_bi[i,...], comms)\n",
    "        part_coef[i,:] = bct.participation_coef(ct_bi[i,...], comms)\n",
    "        \n",
    "    X = np.hstack((clust_coef, trans, char_path, eff, btw_cen, mod_z_score, part_coef))\n",
    "    X_a1 = X[np.logical_and(ages >= 5, ages < 10),:]\n",
    "    X_a2 = X[np.logical_and(ages >= 10, ages < 15),:]\n",
    "    X_a3 = X[np.logical_and(ages >= 15, ages < 20),:]\n",
    "    X_a4 = X[np.logical_and(ages >= 20, ages < 30),:]\n",
    "    X_a5 = X[np.logical_and(ages >= 30, ages < 65),:]\n",
    "\n",
    "    y_a1 = y[np.logical_and(ages >= 5, ages < 10)]\n",
    "    y_a2 = y[np.logical_and(ages >= 10, ages < 15)]\n",
    "    y_a3 = y[np.logical_and(ages >= 15, ages < 20)]\n",
    "    y_a4 = y[np.logical_and(ages >= 20, ages < 30)]\n",
    "    y_a5 = y[np.logical_and(ages >= 30, ages < 65)]\n",
    "    \n",
    "    data = [(X_a1, y_a1), (X_a2, y_a2), (X_a3, y_a3), (X_a4, y_a4), (X_a5, y_a5)]\n",
    "    for g, group in enumerate(data):\n",
    "        xc = group[0]\n",
    "        yc = group[1]\n",
    "        shuffle = np.hstack((xc, yc.reshape(-1,1)))\n",
    "        np.random.shuffle(shuffle)\n",
    "        xc_shuffle = shuffle[:,:-1]\n",
    "        yc_shuffle = shuffle[:,-1]\n",
    "\n",
    "        nanm = np.isnan(xc_shuffle)\n",
    "        xc_final = np.delete(xc_shuffle, np.where(np.sum(nanm, axis=0) > 0)[0], axis=1)\n",
    "        infm = np.isinf(xc_final)\n",
    "        xc_finalfinal = np.delete(xc_final, np.where(np.sum(infm, axis=0) > 0)[0], axis=1)\n",
    "\n",
    "        sfs1 = sfs1.fit(xc_finalfinal, yc_shuffle)\n",
    "        xc_top10 = xc_finalfinal[:,sfs1.k_feature_idx_]\n",
    "\n",
    "        all_iter_results = []\n",
    "        for i in range(100):\n",
    "            all_iter_results.append([])\n",
    "            kf = sklearn.model_selection.KFold(n_splits=10, shuffle=True)\n",
    "            for train_index, test_index in kf.split(xc_top10):\n",
    "                X_train, X_test = xc_top10[train_index], xc_top10[test_index]\n",
    "                y_train, y_test = yc_shuffle[train_index], yc_shuffle[test_index]\n",
    "\n",
    "                clf = sklearn.svm.SVC(kernel='linear')\n",
    "                clf.fit(X_train, y_train)\n",
    "                y_pred = clf.predict(X_test)\n",
    "\n",
    "                sensitivity = sklearn.metrics.recall_score(y_test, y_pred, pos_label=2)\n",
    "                specificity = sklearn.metrics.recall_score(y_test, y_pred, pos_label=1)\n",
    "                all_iter_results[i].append([sensitivity, specificity])\n",
    "\n",
    "        clf_results = np.array(all_iter_results)\n",
    "\n",
    "        clf_iter_avg = []\n",
    "        for i in range(clf_results.shape[0]):\n",
    "            clf_iter = clf_results[i,:,:]\n",
    "            clf_iter_avg.append(np.mean(clf_iter, axis=0))\n",
    "\n",
    "        clf_df0 = pd.DataFrame(data=clf_iter_avg, columns=['Sensitivity', 'Specificity'])\n",
    "        svm_results[g,:] = np.array(clf_df0.mean()).reshape(-1,1)\n",
    "        \n",
    "    results_all[kind] = svm_results"
   ]
  },
  {
   "cell_type": "code",
   "execution_count": null,
   "metadata": {},
   "outputs": [],
   "source": []
  },
  {
   "cell_type": "code",
   "execution_count": null,
   "metadata": {},
   "outputs": [],
   "source": []
  },
  {
   "cell_type": "code",
   "execution_count": null,
   "metadata": {},
   "outputs": [],
   "source": []
  }
 ],
 "metadata": {
  "kernelspec": {
   "display_name": "Python 3",
   "language": "python",
   "name": "python3"
  },
  "language_info": {
   "codemirror_mode": {
    "name": "ipython",
    "version": 3
   },
   "file_extension": ".py",
   "mimetype": "text/x-python",
   "name": "python",
   "nbconvert_exporter": "python",
   "pygments_lexer": "ipython3",
   "version": "3.7.4"
  }
 },
 "nbformat": 4,
 "nbformat_minor": 2
}
